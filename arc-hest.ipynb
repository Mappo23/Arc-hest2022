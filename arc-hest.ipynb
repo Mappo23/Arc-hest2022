{
 "cells": [
  {
   "cell_type": "code",
   "execution_count": 232,
   "metadata": {
    "collapsed": true
   },
   "outputs": [],
   "source": [
    "import pandas as pd\n",
    "import seaborn as sn"
   ]
  },
  {
   "cell_type": "code",
   "execution_count": 2,
   "outputs": [],
   "source": [
    "import numpy as np\n",
    "import matplotlib\n",
    "import matplotlib.pyplot as plt"
   ],
   "metadata": {
    "collapsed": false,
    "pycharm": {
     "name": "#%%\n"
    }
   }
  },
  {
   "cell_type": "code",
   "execution_count": 226,
   "outputs": [
    {
     "name": "stdout",
     "output_type": "stream",
     "text": [
      "/Users/mappo/PycharmProjects/pythonProject\r\n"
     ]
    }
   ],
   "source": [
    "!pwd"
   ],
   "metadata": {
    "collapsed": false,
    "pycharm": {
     "name": "#%%\n"
    }
   }
  },
  {
   "cell_type": "markdown",
   "source": [
    "# Preprocessing"
   ],
   "metadata": {
    "collapsed": false
   }
  },
  {
   "cell_type": "markdown",
   "source": [
    "### Room A - Openspace"
   ],
   "metadata": {
    "collapsed": false
   }
  },
  {
   "cell_type": "code",
   "execution_count": 63,
   "outputs": [],
   "source": [
    "#first day of survey"
   ],
   "metadata": {
    "collapsed": false,
    "pycharm": {
     "name": "#%%\n"
    }
   }
  },
  {
   "cell_type": "code",
   "execution_count": 64,
   "outputs": [],
   "source": [
    "a1 = pd.read_csv('day1/A_14_00.csv')"
   ],
   "metadata": {
    "collapsed": false,
    "pycharm": {
     "name": "#%%\n"
    }
   }
  },
  {
   "cell_type": "code",
   "execution_count": 93,
   "outputs": [],
   "source": [
    "a2 = pd.read_csv('day1/A_14_35.csv')"
   ],
   "metadata": {
    "collapsed": false,
    "pycharm": {
     "name": "#%%\n"
    }
   }
  },
  {
   "cell_type": "code",
   "execution_count": 66,
   "outputs": [],
   "source": [
    "a3 = pd.read_csv('day1/A_15_40.csv')"
   ],
   "metadata": {
    "collapsed": false,
    "pycharm": {
     "name": "#%%\n"
    }
   }
  },
  {
   "cell_type": "code",
   "execution_count": 67,
   "outputs": [],
   "source": [
    "#second day of survey"
   ],
   "metadata": {
    "collapsed": false,
    "pycharm": {
     "name": "#%%\n"
    }
   }
  },
  {
   "cell_type": "code",
   "execution_count": 68,
   "outputs": [],
   "source": [
    "a4 = pd.read_csv('day2/A_10_05.csv')"
   ],
   "metadata": {
    "collapsed": false,
    "pycharm": {
     "name": "#%%\n"
    }
   }
  },
  {
   "cell_type": "code",
   "execution_count": 69,
   "outputs": [],
   "source": [
    "a5 = pd.read_csv('day2/A_10_30.csv')"
   ],
   "metadata": {
    "collapsed": false,
    "pycharm": {
     "name": "#%%\n"
    }
   }
  },
  {
   "cell_type": "code",
   "execution_count": 70,
   "outputs": [],
   "source": [
    "a6 = pd.read_csv('day2/A_10_55.csv')"
   ],
   "metadata": {
    "collapsed": false,
    "pycharm": {
     "name": "#%%\n"
    }
   }
  },
  {
   "cell_type": "code",
   "execution_count": 71,
   "outputs": [],
   "source": [
    "a7 = pd.read_csv('day2/A_11_35.csv')"
   ],
   "metadata": {
    "collapsed": false,
    "pycharm": {
     "name": "#%%\n"
    }
   }
  },
  {
   "cell_type": "code",
   "execution_count": 72,
   "outputs": [],
   "source": [
    "a8 = pd.read_csv('day2/A_11_50.csv')"
   ],
   "metadata": {
    "collapsed": false,
    "pycharm": {
     "name": "#%%\n"
    }
   }
  },
  {
   "cell_type": "code",
   "execution_count": 73,
   "outputs": [],
   "source": [
    "a9 = pd.read_csv('day2/A_12_10.csv')"
   ],
   "metadata": {
    "collapsed": false,
    "pycharm": {
     "name": "#%%\n"
    }
   }
  },
  {
   "cell_type": "code",
   "execution_count": 74,
   "outputs": [],
   "source": [
    "a10 = pd.read_csv('day2/A_12_25.csv')"
   ],
   "metadata": {
    "collapsed": false,
    "pycharm": {
     "name": "#%%\n"
    }
   }
  },
  {
   "cell_type": "code",
   "execution_count": 75,
   "outputs": [],
   "source": [
    "a11 = pd.read_csv('day2/A_14_30.csv')"
   ],
   "metadata": {
    "collapsed": false,
    "pycharm": {
     "name": "#%%\n"
    }
   }
  },
  {
   "cell_type": "code",
   "execution_count": 76,
   "outputs": [],
   "source": [
    "a12 = pd.read_csv('day2/A_14_50.csv')"
   ],
   "metadata": {
    "collapsed": false,
    "pycharm": {
     "name": "#%%\n"
    }
   }
  },
  {
   "cell_type": "code",
   "execution_count": 77,
   "outputs": [],
   "source": [
    "a13 = pd.read_csv('day2/A_15_10.csv')"
   ],
   "metadata": {
    "collapsed": false,
    "pycharm": {
     "name": "#%%\n"
    }
   }
  },
  {
   "cell_type": "code",
   "execution_count": 78,
   "outputs": [],
   "source": [
    "a14 = pd.read_csv('day2/A_15_30.csv')"
   ],
   "metadata": {
    "collapsed": false,
    "pycharm": {
     "name": "#%%\n"
    }
   }
  },
  {
   "cell_type": "code",
   "execution_count": 79,
   "outputs": [],
   "source": [
    "a15 = pd.read_csv('day2/A_16_00.csv')"
   ],
   "metadata": {
    "collapsed": false,
    "pycharm": {
     "name": "#%%\n"
    }
   }
  },
  {
   "cell_type": "code",
   "execution_count": 80,
   "outputs": [
    {
     "data": {
      "text/plain": "    Unnamed: 0  id_          x         y                 label\n0            0   10   4.408908 -9.346885   sitting interactive\n1            1   12   2.664940 -8.249557    sitting individual\n2            2   13   6.348828 -2.214252        sitting remote\n3            3   25  15.519357 -5.094738  standing interactive\n4            4   29  20.045836 -8.308343    sitting individual\n5            5   30  19.144459 -5.271095    sitting individual\n6            6   31  16.381543 -7.838059    sitting individual\n7            7   32  15.970045 -5.114333  standing interactive\n8            8   33  20.829642 -5.251500  standing interactive\n9            9   35  12.893607 -0.333118  standing interactive\n10          10   36  12.854417 -1.548017  standing interactive\n11          11   37  13.383486 -1.038543  standing interactive\n12          12   38  12.227372 -0.783806  standing interactive",
      "text/html": "<div>\n<style scoped>\n    .dataframe tbody tr th:only-of-type {\n        vertical-align: middle;\n    }\n\n    .dataframe tbody tr th {\n        vertical-align: top;\n    }\n\n    .dataframe thead th {\n        text-align: right;\n    }\n</style>\n<table border=\"1\" class=\"dataframe\">\n  <thead>\n    <tr style=\"text-align: right;\">\n      <th></th>\n      <th>Unnamed: 0</th>\n      <th>id_</th>\n      <th>x</th>\n      <th>y</th>\n      <th>label</th>\n    </tr>\n  </thead>\n  <tbody>\n    <tr>\n      <th>0</th>\n      <td>0</td>\n      <td>10</td>\n      <td>4.408908</td>\n      <td>-9.346885</td>\n      <td>sitting interactive</td>\n    </tr>\n    <tr>\n      <th>1</th>\n      <td>1</td>\n      <td>12</td>\n      <td>2.664940</td>\n      <td>-8.249557</td>\n      <td>sitting individual</td>\n    </tr>\n    <tr>\n      <th>2</th>\n      <td>2</td>\n      <td>13</td>\n      <td>6.348828</td>\n      <td>-2.214252</td>\n      <td>sitting remote</td>\n    </tr>\n    <tr>\n      <th>3</th>\n      <td>3</td>\n      <td>25</td>\n      <td>15.519357</td>\n      <td>-5.094738</td>\n      <td>standing interactive</td>\n    </tr>\n    <tr>\n      <th>4</th>\n      <td>4</td>\n      <td>29</td>\n      <td>20.045836</td>\n      <td>-8.308343</td>\n      <td>sitting individual</td>\n    </tr>\n    <tr>\n      <th>5</th>\n      <td>5</td>\n      <td>30</td>\n      <td>19.144459</td>\n      <td>-5.271095</td>\n      <td>sitting individual</td>\n    </tr>\n    <tr>\n      <th>6</th>\n      <td>6</td>\n      <td>31</td>\n      <td>16.381543</td>\n      <td>-7.838059</td>\n      <td>sitting individual</td>\n    </tr>\n    <tr>\n      <th>7</th>\n      <td>7</td>\n      <td>32</td>\n      <td>15.970045</td>\n      <td>-5.114333</td>\n      <td>standing interactive</td>\n    </tr>\n    <tr>\n      <th>8</th>\n      <td>8</td>\n      <td>33</td>\n      <td>20.829642</td>\n      <td>-5.251500</td>\n      <td>standing interactive</td>\n    </tr>\n    <tr>\n      <th>9</th>\n      <td>9</td>\n      <td>35</td>\n      <td>12.893607</td>\n      <td>-0.333118</td>\n      <td>standing interactive</td>\n    </tr>\n    <tr>\n      <th>10</th>\n      <td>10</td>\n      <td>36</td>\n      <td>12.854417</td>\n      <td>-1.548017</td>\n      <td>standing interactive</td>\n    </tr>\n    <tr>\n      <th>11</th>\n      <td>11</td>\n      <td>37</td>\n      <td>13.383486</td>\n      <td>-1.038543</td>\n      <td>standing interactive</td>\n    </tr>\n    <tr>\n      <th>12</th>\n      <td>12</td>\n      <td>38</td>\n      <td>12.227372</td>\n      <td>-0.783806</td>\n      <td>standing interactive</td>\n    </tr>\n  </tbody>\n</table>\n</div>"
     },
     "execution_count": 80,
     "metadata": {},
     "output_type": "execute_result"
    }
   ],
   "source": [
    "a1"
   ],
   "metadata": {
    "collapsed": false,
    "pycharm": {
     "name": "#%%\n"
    }
   }
  },
  {
   "cell_type": "code",
   "execution_count": 20,
   "outputs": [
    {
     "ename": "KeyError",
     "evalue": "\"['0'] not found in axis\"",
     "output_type": "error",
     "traceback": [
      "\u001B[0;31m---------------------------------------------------------------------------\u001B[0m",
      "\u001B[0;31mKeyError\u001B[0m                                  Traceback (most recent call last)",
      "Input \u001B[0;32mIn [20]\u001B[0m, in \u001B[0;36m<cell line: 1>\u001B[0;34m()\u001B[0m\n\u001B[0;32m----> 1\u001B[0m a1 \u001B[38;5;241m=\u001B[39m \u001B[43ma1\u001B[49m\u001B[38;5;241;43m.\u001B[39;49m\u001B[43mdrop\u001B[49m\u001B[43m(\u001B[49m\u001B[43mcolumns\u001B[49m\u001B[38;5;241;43m=\u001B[39;49m\u001B[43m[\u001B[49m\u001B[38;5;124;43m'\u001B[39;49m\u001B[38;5;124;43m0\u001B[39;49m\u001B[38;5;124;43m'\u001B[39;49m\u001B[43m]\u001B[49m\u001B[43m)\u001B[49m\n",
      "File \u001B[0;32m~/PycharmProjects/pythonProject/venv/lib/python3.10/site-packages/pandas/util/_decorators.py:311\u001B[0m, in \u001B[0;36mdeprecate_nonkeyword_arguments.<locals>.decorate.<locals>.wrapper\u001B[0;34m(*args, **kwargs)\u001B[0m\n\u001B[1;32m    305\u001B[0m \u001B[38;5;28;01mif\u001B[39;00m \u001B[38;5;28mlen\u001B[39m(args) \u001B[38;5;241m>\u001B[39m num_allow_args:\n\u001B[1;32m    306\u001B[0m     warnings\u001B[38;5;241m.\u001B[39mwarn(\n\u001B[1;32m    307\u001B[0m         msg\u001B[38;5;241m.\u001B[39mformat(arguments\u001B[38;5;241m=\u001B[39marguments),\n\u001B[1;32m    308\u001B[0m         \u001B[38;5;167;01mFutureWarning\u001B[39;00m,\n\u001B[1;32m    309\u001B[0m         stacklevel\u001B[38;5;241m=\u001B[39mstacklevel,\n\u001B[1;32m    310\u001B[0m     )\n\u001B[0;32m--> 311\u001B[0m \u001B[38;5;28;01mreturn\u001B[39;00m \u001B[43mfunc\u001B[49m\u001B[43m(\u001B[49m\u001B[38;5;241;43m*\u001B[39;49m\u001B[43margs\u001B[49m\u001B[43m,\u001B[49m\u001B[43m \u001B[49m\u001B[38;5;241;43m*\u001B[39;49m\u001B[38;5;241;43m*\u001B[39;49m\u001B[43mkwargs\u001B[49m\u001B[43m)\u001B[49m\n",
      "File \u001B[0;32m~/PycharmProjects/pythonProject/venv/lib/python3.10/site-packages/pandas/core/frame.py:4954\u001B[0m, in \u001B[0;36mDataFrame.drop\u001B[0;34m(self, labels, axis, index, columns, level, inplace, errors)\u001B[0m\n\u001B[1;32m   4806\u001B[0m \u001B[38;5;129m@deprecate_nonkeyword_arguments\u001B[39m(version\u001B[38;5;241m=\u001B[39m\u001B[38;5;28;01mNone\u001B[39;00m, allowed_args\u001B[38;5;241m=\u001B[39m[\u001B[38;5;124m\"\u001B[39m\u001B[38;5;124mself\u001B[39m\u001B[38;5;124m\"\u001B[39m, \u001B[38;5;124m\"\u001B[39m\u001B[38;5;124mlabels\u001B[39m\u001B[38;5;124m\"\u001B[39m])\n\u001B[1;32m   4807\u001B[0m \u001B[38;5;28;01mdef\u001B[39;00m \u001B[38;5;21mdrop\u001B[39m(\n\u001B[1;32m   4808\u001B[0m     \u001B[38;5;28mself\u001B[39m,\n\u001B[0;32m   (...)\u001B[0m\n\u001B[1;32m   4815\u001B[0m     errors: \u001B[38;5;28mstr\u001B[39m \u001B[38;5;241m=\u001B[39m \u001B[38;5;124m\"\u001B[39m\u001B[38;5;124mraise\u001B[39m\u001B[38;5;124m\"\u001B[39m,\n\u001B[1;32m   4816\u001B[0m ):\n\u001B[1;32m   4817\u001B[0m     \u001B[38;5;124;03m\"\"\"\u001B[39;00m\n\u001B[1;32m   4818\u001B[0m \u001B[38;5;124;03m    Drop specified labels from rows or columns.\u001B[39;00m\n\u001B[1;32m   4819\u001B[0m \n\u001B[0;32m   (...)\u001B[0m\n\u001B[1;32m   4952\u001B[0m \u001B[38;5;124;03m            weight  1.0     0.8\u001B[39;00m\n\u001B[1;32m   4953\u001B[0m \u001B[38;5;124;03m    \"\"\"\u001B[39;00m\n\u001B[0;32m-> 4954\u001B[0m     \u001B[38;5;28;01mreturn\u001B[39;00m \u001B[38;5;28;43msuper\u001B[39;49m\u001B[43m(\u001B[49m\u001B[43m)\u001B[49m\u001B[38;5;241;43m.\u001B[39;49m\u001B[43mdrop\u001B[49m\u001B[43m(\u001B[49m\n\u001B[1;32m   4955\u001B[0m \u001B[43m        \u001B[49m\u001B[43mlabels\u001B[49m\u001B[38;5;241;43m=\u001B[39;49m\u001B[43mlabels\u001B[49m\u001B[43m,\u001B[49m\n\u001B[1;32m   4956\u001B[0m \u001B[43m        \u001B[49m\u001B[43maxis\u001B[49m\u001B[38;5;241;43m=\u001B[39;49m\u001B[43maxis\u001B[49m\u001B[43m,\u001B[49m\n\u001B[1;32m   4957\u001B[0m \u001B[43m        \u001B[49m\u001B[43mindex\u001B[49m\u001B[38;5;241;43m=\u001B[39;49m\u001B[43mindex\u001B[49m\u001B[43m,\u001B[49m\n\u001B[1;32m   4958\u001B[0m \u001B[43m        \u001B[49m\u001B[43mcolumns\u001B[49m\u001B[38;5;241;43m=\u001B[39;49m\u001B[43mcolumns\u001B[49m\u001B[43m,\u001B[49m\n\u001B[1;32m   4959\u001B[0m \u001B[43m        \u001B[49m\u001B[43mlevel\u001B[49m\u001B[38;5;241;43m=\u001B[39;49m\u001B[43mlevel\u001B[49m\u001B[43m,\u001B[49m\n\u001B[1;32m   4960\u001B[0m \u001B[43m        \u001B[49m\u001B[43minplace\u001B[49m\u001B[38;5;241;43m=\u001B[39;49m\u001B[43minplace\u001B[49m\u001B[43m,\u001B[49m\n\u001B[1;32m   4961\u001B[0m \u001B[43m        \u001B[49m\u001B[43merrors\u001B[49m\u001B[38;5;241;43m=\u001B[39;49m\u001B[43merrors\u001B[49m\u001B[43m,\u001B[49m\n\u001B[1;32m   4962\u001B[0m \u001B[43m    \u001B[49m\u001B[43m)\u001B[49m\n",
      "File \u001B[0;32m~/PycharmProjects/pythonProject/venv/lib/python3.10/site-packages/pandas/core/generic.py:4267\u001B[0m, in \u001B[0;36mNDFrame.drop\u001B[0;34m(self, labels, axis, index, columns, level, inplace, errors)\u001B[0m\n\u001B[1;32m   4265\u001B[0m \u001B[38;5;28;01mfor\u001B[39;00m axis, labels \u001B[38;5;129;01min\u001B[39;00m axes\u001B[38;5;241m.\u001B[39mitems():\n\u001B[1;32m   4266\u001B[0m     \u001B[38;5;28;01mif\u001B[39;00m labels \u001B[38;5;129;01mis\u001B[39;00m \u001B[38;5;129;01mnot\u001B[39;00m \u001B[38;5;28;01mNone\u001B[39;00m:\n\u001B[0;32m-> 4267\u001B[0m         obj \u001B[38;5;241m=\u001B[39m \u001B[43mobj\u001B[49m\u001B[38;5;241;43m.\u001B[39;49m\u001B[43m_drop_axis\u001B[49m\u001B[43m(\u001B[49m\u001B[43mlabels\u001B[49m\u001B[43m,\u001B[49m\u001B[43m \u001B[49m\u001B[43maxis\u001B[49m\u001B[43m,\u001B[49m\u001B[43m \u001B[49m\u001B[43mlevel\u001B[49m\u001B[38;5;241;43m=\u001B[39;49m\u001B[43mlevel\u001B[49m\u001B[43m,\u001B[49m\u001B[43m \u001B[49m\u001B[43merrors\u001B[49m\u001B[38;5;241;43m=\u001B[39;49m\u001B[43merrors\u001B[49m\u001B[43m)\u001B[49m\n\u001B[1;32m   4269\u001B[0m \u001B[38;5;28;01mif\u001B[39;00m inplace:\n\u001B[1;32m   4270\u001B[0m     \u001B[38;5;28mself\u001B[39m\u001B[38;5;241m.\u001B[39m_update_inplace(obj)\n",
      "File \u001B[0;32m~/PycharmProjects/pythonProject/venv/lib/python3.10/site-packages/pandas/core/generic.py:4311\u001B[0m, in \u001B[0;36mNDFrame._drop_axis\u001B[0;34m(self, labels, axis, level, errors, consolidate, only_slice)\u001B[0m\n\u001B[1;32m   4309\u001B[0m         new_axis \u001B[38;5;241m=\u001B[39m axis\u001B[38;5;241m.\u001B[39mdrop(labels, level\u001B[38;5;241m=\u001B[39mlevel, errors\u001B[38;5;241m=\u001B[39merrors)\n\u001B[1;32m   4310\u001B[0m     \u001B[38;5;28;01melse\u001B[39;00m:\n\u001B[0;32m-> 4311\u001B[0m         new_axis \u001B[38;5;241m=\u001B[39m \u001B[43maxis\u001B[49m\u001B[38;5;241;43m.\u001B[39;49m\u001B[43mdrop\u001B[49m\u001B[43m(\u001B[49m\u001B[43mlabels\u001B[49m\u001B[43m,\u001B[49m\u001B[43m \u001B[49m\u001B[43merrors\u001B[49m\u001B[38;5;241;43m=\u001B[39;49m\u001B[43merrors\u001B[49m\u001B[43m)\u001B[49m\n\u001B[1;32m   4312\u001B[0m     indexer \u001B[38;5;241m=\u001B[39m axis\u001B[38;5;241m.\u001B[39mget_indexer(new_axis)\n\u001B[1;32m   4314\u001B[0m \u001B[38;5;66;03m# Case for non-unique axis\u001B[39;00m\n\u001B[1;32m   4315\u001B[0m \u001B[38;5;28;01melse\u001B[39;00m:\n",
      "File \u001B[0;32m~/PycharmProjects/pythonProject/venv/lib/python3.10/site-packages/pandas/core/indexes/base.py:6644\u001B[0m, in \u001B[0;36mIndex.drop\u001B[0;34m(self, labels, errors)\u001B[0m\n\u001B[1;32m   6642\u001B[0m \u001B[38;5;28;01mif\u001B[39;00m mask\u001B[38;5;241m.\u001B[39many():\n\u001B[1;32m   6643\u001B[0m     \u001B[38;5;28;01mif\u001B[39;00m errors \u001B[38;5;241m!=\u001B[39m \u001B[38;5;124m\"\u001B[39m\u001B[38;5;124mignore\u001B[39m\u001B[38;5;124m\"\u001B[39m:\n\u001B[0;32m-> 6644\u001B[0m         \u001B[38;5;28;01mraise\u001B[39;00m \u001B[38;5;167;01mKeyError\u001B[39;00m(\u001B[38;5;124mf\u001B[39m\u001B[38;5;124m\"\u001B[39m\u001B[38;5;132;01m{\u001B[39;00m\u001B[38;5;28mlist\u001B[39m(labels[mask])\u001B[38;5;132;01m}\u001B[39;00m\u001B[38;5;124m not found in axis\u001B[39m\u001B[38;5;124m\"\u001B[39m)\n\u001B[1;32m   6645\u001B[0m     indexer \u001B[38;5;241m=\u001B[39m indexer[\u001B[38;5;241m~\u001B[39mmask]\n\u001B[1;32m   6646\u001B[0m \u001B[38;5;28;01mreturn\u001B[39;00m \u001B[38;5;28mself\u001B[39m\u001B[38;5;241m.\u001B[39mdelete(indexer)\n",
      "\u001B[0;31mKeyError\u001B[0m: \"['0'] not found in axis\""
     ]
    }
   ],
   "source": [
    "a1 = a1.drop(columns=['0'])"
   ],
   "metadata": {
    "collapsed": false,
    "pycharm": {
     "name": "#%%\n"
    }
   }
  },
  {
   "cell_type": "code",
   "execution_count": 31,
   "outputs": [
    {
     "data": {
      "text/plain": "       Unnamed: 0        id_          x          y\ncount    10.00000  10.000000  10.000000  10.000000\nmean      4.50000  55.000000  17.132037  -5.465087\nstd       3.02765   3.741657   3.225002   3.074037\nmin       0.00000  50.000000  10.071906  -9.405671\n25%       2.25000  52.250000  15.847576  -8.166278\n50%       4.50000  54.500000  18.056928  -5.545427\n75%       6.75000  57.500000  19.159155  -3.527127\nmax       9.00000  61.000000  20.712071  -1.018948",
      "text/html": "<div>\n<style scoped>\n    .dataframe tbody tr th:only-of-type {\n        vertical-align: middle;\n    }\n\n    .dataframe tbody tr th {\n        vertical-align: top;\n    }\n\n    .dataframe thead th {\n        text-align: right;\n    }\n</style>\n<table border=\"1\" class=\"dataframe\">\n  <thead>\n    <tr style=\"text-align: right;\">\n      <th></th>\n      <th>Unnamed: 0</th>\n      <th>id_</th>\n      <th>x</th>\n      <th>y</th>\n    </tr>\n  </thead>\n  <tbody>\n    <tr>\n      <th>count</th>\n      <td>10.00000</td>\n      <td>10.000000</td>\n      <td>10.000000</td>\n      <td>10.000000</td>\n    </tr>\n    <tr>\n      <th>mean</th>\n      <td>4.50000</td>\n      <td>55.000000</td>\n      <td>17.132037</td>\n      <td>-5.465087</td>\n    </tr>\n    <tr>\n      <th>std</th>\n      <td>3.02765</td>\n      <td>3.741657</td>\n      <td>3.225002</td>\n      <td>3.074037</td>\n    </tr>\n    <tr>\n      <th>min</th>\n      <td>0.00000</td>\n      <td>50.000000</td>\n      <td>10.071906</td>\n      <td>-9.405671</td>\n    </tr>\n    <tr>\n      <th>25%</th>\n      <td>2.25000</td>\n      <td>52.250000</td>\n      <td>15.847576</td>\n      <td>-8.166278</td>\n    </tr>\n    <tr>\n      <th>50%</th>\n      <td>4.50000</td>\n      <td>54.500000</td>\n      <td>18.056928</td>\n      <td>-5.545427</td>\n    </tr>\n    <tr>\n      <th>75%</th>\n      <td>6.75000</td>\n      <td>57.500000</td>\n      <td>19.159155</td>\n      <td>-3.527127</td>\n    </tr>\n    <tr>\n      <th>max</th>\n      <td>9.00000</td>\n      <td>61.000000</td>\n      <td>20.712071</td>\n      <td>-1.018948</td>\n    </tr>\n  </tbody>\n</table>\n</div>"
     },
     "execution_count": 31,
     "metadata": {},
     "output_type": "execute_result"
    }
   ],
   "source": [
    "a1.describe()"
   ],
   "metadata": {
    "collapsed": false,
    "pycharm": {
     "name": "#%%\n"
    }
   }
  },
  {
   "cell_type": "code",
   "execution_count": 82,
   "outputs": [
    {
     "name": "stdout",
     "output_type": "stream",
     "text": [
      "<class 'pandas.core.frame.DataFrame'>\n",
      "RangeIndex: 13 entries, 0 to 12\n",
      "Data columns (total 5 columns):\n",
      " #   Column      Non-Null Count  Dtype  \n",
      "---  ------      --------------  -----  \n",
      " 0   Unnamed: 0  13 non-null     int64  \n",
      " 1   id_         13 non-null     int64  \n",
      " 2   x           13 non-null     float64\n",
      " 3   y           13 non-null     float64\n",
      " 4   label       13 non-null     object \n",
      "dtypes: float64(2), int64(2), object(1)\n",
      "memory usage: 648.0+ bytes\n"
     ]
    }
   ],
   "source": [
    "a1.info()"
   ],
   "metadata": {
    "collapsed": false,
    "pycharm": {
     "name": "#%%\n"
    }
   }
  },
  {
   "cell_type": "code",
   "execution_count": 83,
   "outputs": [],
   "source": [
    "a1 = a1.drop(columns=['Unnamed: 0'])"
   ],
   "metadata": {
    "collapsed": false,
    "pycharm": {
     "name": "#%%\n"
    }
   }
  },
  {
   "cell_type": "code",
   "execution_count": 84,
   "outputs": [],
   "source": [
    "a1_timestamp = pd.Timestamp(2022, 8, 24 , 14)"
   ],
   "metadata": {
    "collapsed": false,
    "pycharm": {
     "name": "#%%\n"
    }
   }
  },
  {
   "cell_type": "code",
   "execution_count": 85,
   "outputs": [],
   "source": [
    "a1['timestamp'] = a1_timestamp"
   ],
   "metadata": {
    "collapsed": false,
    "pycharm": {
     "name": "#%%\n"
    }
   }
  },
  {
   "cell_type": "code",
   "execution_count": 86,
   "outputs": [
    {
     "data": {
      "text/plain": "    id_          x         y                 label           timestamp\n0    10   4.408908 -9.346885   sitting interactive 2022-08-24 14:00:00\n1    12   2.664940 -8.249557    sitting individual 2022-08-24 14:00:00\n2    13   6.348828 -2.214252        sitting remote 2022-08-24 14:00:00\n3    25  15.519357 -5.094738  standing interactive 2022-08-24 14:00:00\n4    29  20.045836 -8.308343    sitting individual 2022-08-24 14:00:00\n5    30  19.144459 -5.271095    sitting individual 2022-08-24 14:00:00\n6    31  16.381543 -7.838059    sitting individual 2022-08-24 14:00:00\n7    32  15.970045 -5.114333  standing interactive 2022-08-24 14:00:00\n8    33  20.829642 -5.251500  standing interactive 2022-08-24 14:00:00\n9    35  12.893607 -0.333118  standing interactive 2022-08-24 14:00:00\n10   36  12.854417 -1.548017  standing interactive 2022-08-24 14:00:00\n11   37  13.383486 -1.038543  standing interactive 2022-08-24 14:00:00\n12   38  12.227372 -0.783806  standing interactive 2022-08-24 14:00:00",
      "text/html": "<div>\n<style scoped>\n    .dataframe tbody tr th:only-of-type {\n        vertical-align: middle;\n    }\n\n    .dataframe tbody tr th {\n        vertical-align: top;\n    }\n\n    .dataframe thead th {\n        text-align: right;\n    }\n</style>\n<table border=\"1\" class=\"dataframe\">\n  <thead>\n    <tr style=\"text-align: right;\">\n      <th></th>\n      <th>id_</th>\n      <th>x</th>\n      <th>y</th>\n      <th>label</th>\n      <th>timestamp</th>\n    </tr>\n  </thead>\n  <tbody>\n    <tr>\n      <th>0</th>\n      <td>10</td>\n      <td>4.408908</td>\n      <td>-9.346885</td>\n      <td>sitting interactive</td>\n      <td>2022-08-24 14:00:00</td>\n    </tr>\n    <tr>\n      <th>1</th>\n      <td>12</td>\n      <td>2.664940</td>\n      <td>-8.249557</td>\n      <td>sitting individual</td>\n      <td>2022-08-24 14:00:00</td>\n    </tr>\n    <tr>\n      <th>2</th>\n      <td>13</td>\n      <td>6.348828</td>\n      <td>-2.214252</td>\n      <td>sitting remote</td>\n      <td>2022-08-24 14:00:00</td>\n    </tr>\n    <tr>\n      <th>3</th>\n      <td>25</td>\n      <td>15.519357</td>\n      <td>-5.094738</td>\n      <td>standing interactive</td>\n      <td>2022-08-24 14:00:00</td>\n    </tr>\n    <tr>\n      <th>4</th>\n      <td>29</td>\n      <td>20.045836</td>\n      <td>-8.308343</td>\n      <td>sitting individual</td>\n      <td>2022-08-24 14:00:00</td>\n    </tr>\n    <tr>\n      <th>5</th>\n      <td>30</td>\n      <td>19.144459</td>\n      <td>-5.271095</td>\n      <td>sitting individual</td>\n      <td>2022-08-24 14:00:00</td>\n    </tr>\n    <tr>\n      <th>6</th>\n      <td>31</td>\n      <td>16.381543</td>\n      <td>-7.838059</td>\n      <td>sitting individual</td>\n      <td>2022-08-24 14:00:00</td>\n    </tr>\n    <tr>\n      <th>7</th>\n      <td>32</td>\n      <td>15.970045</td>\n      <td>-5.114333</td>\n      <td>standing interactive</td>\n      <td>2022-08-24 14:00:00</td>\n    </tr>\n    <tr>\n      <th>8</th>\n      <td>33</td>\n      <td>20.829642</td>\n      <td>-5.251500</td>\n      <td>standing interactive</td>\n      <td>2022-08-24 14:00:00</td>\n    </tr>\n    <tr>\n      <th>9</th>\n      <td>35</td>\n      <td>12.893607</td>\n      <td>-0.333118</td>\n      <td>standing interactive</td>\n      <td>2022-08-24 14:00:00</td>\n    </tr>\n    <tr>\n      <th>10</th>\n      <td>36</td>\n      <td>12.854417</td>\n      <td>-1.548017</td>\n      <td>standing interactive</td>\n      <td>2022-08-24 14:00:00</td>\n    </tr>\n    <tr>\n      <th>11</th>\n      <td>37</td>\n      <td>13.383486</td>\n      <td>-1.038543</td>\n      <td>standing interactive</td>\n      <td>2022-08-24 14:00:00</td>\n    </tr>\n    <tr>\n      <th>12</th>\n      <td>38</td>\n      <td>12.227372</td>\n      <td>-0.783806</td>\n      <td>standing interactive</td>\n      <td>2022-08-24 14:00:00</td>\n    </tr>\n  </tbody>\n</table>\n</div>"
     },
     "execution_count": 86,
     "metadata": {},
     "output_type": "execute_result"
    }
   ],
   "source": [
    "a1"
   ],
   "metadata": {
    "collapsed": false,
    "pycharm": {
     "name": "#%%\n"
    }
   }
  },
  {
   "cell_type": "code",
   "execution_count": 97,
   "outputs": [],
   "source": [
    "a2_timestamp = pd.Timestamp(2022, 8, 24 , 14, 35)"
   ],
   "metadata": {
    "collapsed": false,
    "pycharm": {
     "name": "#%%\n"
    }
   }
  },
  {
   "cell_type": "code",
   "execution_count": 98,
   "outputs": [],
   "source": [
    "a2 = a2.drop(columns=['Unnamed: 0'])"
   ],
   "metadata": {
    "collapsed": false,
    "pycharm": {
     "name": "#%%\n"
    }
   }
  },
  {
   "cell_type": "code",
   "execution_count": 100,
   "outputs": [],
   "source": [
    "a2['timestamp'] = a2_timestamp"
   ],
   "metadata": {
    "collapsed": false,
    "pycharm": {
     "name": "#%%\n"
    }
   }
  },
  {
   "cell_type": "code",
   "execution_count": 101,
   "outputs": [
    {
     "name": "stdout",
     "output_type": "stream",
     "text": [
      "<class 'pandas.core.frame.DataFrame'>\n",
      "RangeIndex: 14 entries, 0 to 13\n",
      "Data columns (total 5 columns):\n",
      " #   Column     Non-Null Count  Dtype         \n",
      "---  ------     --------------  -----         \n",
      " 0   id_        14 non-null     int64         \n",
      " 1   x          14 non-null     float64       \n",
      " 2   y          14 non-null     float64       \n",
      " 3   label      14 non-null     object        \n",
      " 4   timestamp  14 non-null     datetime64[ns]\n",
      "dtypes: datetime64[ns](1), float64(2), int64(1), object(1)\n",
      "memory usage: 688.0+ bytes\n"
     ]
    }
   ],
   "source": [
    "a2.info()"
   ],
   "metadata": {
    "collapsed": false,
    "pycharm": {
     "name": "#%%\n"
    }
   }
  },
  {
   "cell_type": "code",
   "execution_count": 102,
   "outputs": [
    {
     "data": {
      "text/plain": "14"
     },
     "execution_count": 102,
     "metadata": {},
     "output_type": "execute_result"
    }
   ],
   "source": [
    "len(a2)"
   ],
   "metadata": {
    "collapsed": false,
    "pycharm": {
     "name": "#%%\n"
    }
   }
  },
  {
   "cell_type": "code",
   "execution_count": 103,
   "outputs": [
    {
     "data": {
      "text/plain": "    id_          x         y                 label           timestamp\n0    12   2.664940 -8.249557    sitting individual 2022-08-24 14:35:00\n1    13   6.348828 -2.214252        sitting remote 2022-08-24 14:35:00\n2    25  15.519357 -5.094738  standing interactive 2022-08-24 14:35:00\n3    29  20.045836 -8.308343    sitting individual 2022-08-24 14:35:00\n4    30  19.144459 -5.271095    sitting individual 2022-08-24 14:35:00\n5    32  15.970045 -5.114333  standing interactive 2022-08-24 14:35:00\n6    33  20.829642 -5.251500  standing interactive 2022-08-24 14:35:00\n7    39   2.625750 -9.307695    sitting individual 2022-08-24 14:35:00\n8    40  15.480167 -2.939272   sitting interactive 2022-08-24 14:35:00\n9    41  15.480167 -1.567612   sitting interactive 2022-08-24 14:35:00\n10   42  15.362596 -2.273037   sitting interactive 2022-08-24 14:35:00\n11   43  18.987698 -1.018948    sitting individual 2022-08-24 14:35:00\n12   44   4.408908 -8.229962    sitting individual 2022-08-24 14:35:00\n13   45  10.071906 -2.214252    sitting individual 2022-08-24 14:35:00",
      "text/html": "<div>\n<style scoped>\n    .dataframe tbody tr th:only-of-type {\n        vertical-align: middle;\n    }\n\n    .dataframe tbody tr th {\n        vertical-align: top;\n    }\n\n    .dataframe thead th {\n        text-align: right;\n    }\n</style>\n<table border=\"1\" class=\"dataframe\">\n  <thead>\n    <tr style=\"text-align: right;\">\n      <th></th>\n      <th>id_</th>\n      <th>x</th>\n      <th>y</th>\n      <th>label</th>\n      <th>timestamp</th>\n    </tr>\n  </thead>\n  <tbody>\n    <tr>\n      <th>0</th>\n      <td>12</td>\n      <td>2.664940</td>\n      <td>-8.249557</td>\n      <td>sitting individual</td>\n      <td>2022-08-24 14:35:00</td>\n    </tr>\n    <tr>\n      <th>1</th>\n      <td>13</td>\n      <td>6.348828</td>\n      <td>-2.214252</td>\n      <td>sitting remote</td>\n      <td>2022-08-24 14:35:00</td>\n    </tr>\n    <tr>\n      <th>2</th>\n      <td>25</td>\n      <td>15.519357</td>\n      <td>-5.094738</td>\n      <td>standing interactive</td>\n      <td>2022-08-24 14:35:00</td>\n    </tr>\n    <tr>\n      <th>3</th>\n      <td>29</td>\n      <td>20.045836</td>\n      <td>-8.308343</td>\n      <td>sitting individual</td>\n      <td>2022-08-24 14:35:00</td>\n    </tr>\n    <tr>\n      <th>4</th>\n      <td>30</td>\n      <td>19.144459</td>\n      <td>-5.271095</td>\n      <td>sitting individual</td>\n      <td>2022-08-24 14:35:00</td>\n    </tr>\n    <tr>\n      <th>5</th>\n      <td>32</td>\n      <td>15.970045</td>\n      <td>-5.114333</td>\n      <td>standing interactive</td>\n      <td>2022-08-24 14:35:00</td>\n    </tr>\n    <tr>\n      <th>6</th>\n      <td>33</td>\n      <td>20.829642</td>\n      <td>-5.251500</td>\n      <td>standing interactive</td>\n      <td>2022-08-24 14:35:00</td>\n    </tr>\n    <tr>\n      <th>7</th>\n      <td>39</td>\n      <td>2.625750</td>\n      <td>-9.307695</td>\n      <td>sitting individual</td>\n      <td>2022-08-24 14:35:00</td>\n    </tr>\n    <tr>\n      <th>8</th>\n      <td>40</td>\n      <td>15.480167</td>\n      <td>-2.939272</td>\n      <td>sitting interactive</td>\n      <td>2022-08-24 14:35:00</td>\n    </tr>\n    <tr>\n      <th>9</th>\n      <td>41</td>\n      <td>15.480167</td>\n      <td>-1.567612</td>\n      <td>sitting interactive</td>\n      <td>2022-08-24 14:35:00</td>\n    </tr>\n    <tr>\n      <th>10</th>\n      <td>42</td>\n      <td>15.362596</td>\n      <td>-2.273037</td>\n      <td>sitting interactive</td>\n      <td>2022-08-24 14:35:00</td>\n    </tr>\n    <tr>\n      <th>11</th>\n      <td>43</td>\n      <td>18.987698</td>\n      <td>-1.018948</td>\n      <td>sitting individual</td>\n      <td>2022-08-24 14:35:00</td>\n    </tr>\n    <tr>\n      <th>12</th>\n      <td>44</td>\n      <td>4.408908</td>\n      <td>-8.229962</td>\n      <td>sitting individual</td>\n      <td>2022-08-24 14:35:00</td>\n    </tr>\n    <tr>\n      <th>13</th>\n      <td>45</td>\n      <td>10.071906</td>\n      <td>-2.214252</td>\n      <td>sitting individual</td>\n      <td>2022-08-24 14:35:00</td>\n    </tr>\n  </tbody>\n</table>\n</div>"
     },
     "execution_count": 103,
     "metadata": {},
     "output_type": "execute_result"
    }
   ],
   "source": [
    "a2"
   ],
   "metadata": {
    "collapsed": false,
    "pycharm": {
     "name": "#%%\n"
    }
   }
  },
  {
   "cell_type": "code",
   "execution_count": 105,
   "outputs": [],
   "source": [
    "a3_timestamp = pd.Timestamp(2022, 8, 24 , 15, 40)"
   ],
   "metadata": {
    "collapsed": false,
    "pycharm": {
     "name": "#%%\n"
    }
   }
  },
  {
   "cell_type": "code",
   "execution_count": 106,
   "outputs": [],
   "source": [
    "a3 = a3.drop(columns=['Unnamed: 0'])\n",
    "a3['timestamp'] = a3_timestamp"
   ],
   "metadata": {
    "collapsed": false,
    "pycharm": {
     "name": "#%%\n"
    }
   }
  },
  {
   "cell_type": "code",
   "execution_count": 107,
   "outputs": [
    {
     "data": {
      "text/plain": "    id_          x         y                 label           timestamp\n0    12   2.664940 -8.249557    sitting individual 2022-08-24 15:40:00\n1    13   6.348828 -2.214252        sitting remote 2022-08-24 15:40:00\n2    25  15.519357 -5.094738  standing interactive 2022-08-24 15:40:00\n3    29  20.045836 -8.308343    sitting individual 2022-08-24 15:40:00\n4    32  15.970045 -5.114333  standing interactive 2022-08-24 15:40:00\n5    33  20.829642 -5.251500  standing interactive 2022-08-24 15:40:00\n6    39   2.625750 -9.307695    sitting individual 2022-08-24 15:40:00\n7    44   4.408908 -8.229962    sitting individual 2022-08-24 15:40:00\n8    45  10.071906 -2.214252    sitting individual 2022-08-24 15:40:00\n9    46  16.401138 -7.740083    sitting individual 2022-08-24 15:40:00\n10   47   8.171177 -9.307695    sitting individual 2022-08-24 15:40:00\n11   48   4.408908 -9.288100    sitting individual 2022-08-24 15:40:00\n12   49  18.732961 -9.013768   sitting interactive 2022-08-24 15:40:00",
      "text/html": "<div>\n<style scoped>\n    .dataframe tbody tr th:only-of-type {\n        vertical-align: middle;\n    }\n\n    .dataframe tbody tr th {\n        vertical-align: top;\n    }\n\n    .dataframe thead th {\n        text-align: right;\n    }\n</style>\n<table border=\"1\" class=\"dataframe\">\n  <thead>\n    <tr style=\"text-align: right;\">\n      <th></th>\n      <th>id_</th>\n      <th>x</th>\n      <th>y</th>\n      <th>label</th>\n      <th>timestamp</th>\n    </tr>\n  </thead>\n  <tbody>\n    <tr>\n      <th>0</th>\n      <td>12</td>\n      <td>2.664940</td>\n      <td>-8.249557</td>\n      <td>sitting individual</td>\n      <td>2022-08-24 15:40:00</td>\n    </tr>\n    <tr>\n      <th>1</th>\n      <td>13</td>\n      <td>6.348828</td>\n      <td>-2.214252</td>\n      <td>sitting remote</td>\n      <td>2022-08-24 15:40:00</td>\n    </tr>\n    <tr>\n      <th>2</th>\n      <td>25</td>\n      <td>15.519357</td>\n      <td>-5.094738</td>\n      <td>standing interactive</td>\n      <td>2022-08-24 15:40:00</td>\n    </tr>\n    <tr>\n      <th>3</th>\n      <td>29</td>\n      <td>20.045836</td>\n      <td>-8.308343</td>\n      <td>sitting individual</td>\n      <td>2022-08-24 15:40:00</td>\n    </tr>\n    <tr>\n      <th>4</th>\n      <td>32</td>\n      <td>15.970045</td>\n      <td>-5.114333</td>\n      <td>standing interactive</td>\n      <td>2022-08-24 15:40:00</td>\n    </tr>\n    <tr>\n      <th>5</th>\n      <td>33</td>\n      <td>20.829642</td>\n      <td>-5.251500</td>\n      <td>standing interactive</td>\n      <td>2022-08-24 15:40:00</td>\n    </tr>\n    <tr>\n      <th>6</th>\n      <td>39</td>\n      <td>2.625750</td>\n      <td>-9.307695</td>\n      <td>sitting individual</td>\n      <td>2022-08-24 15:40:00</td>\n    </tr>\n    <tr>\n      <th>7</th>\n      <td>44</td>\n      <td>4.408908</td>\n      <td>-8.229962</td>\n      <td>sitting individual</td>\n      <td>2022-08-24 15:40:00</td>\n    </tr>\n    <tr>\n      <th>8</th>\n      <td>45</td>\n      <td>10.071906</td>\n      <td>-2.214252</td>\n      <td>sitting individual</td>\n      <td>2022-08-24 15:40:00</td>\n    </tr>\n    <tr>\n      <th>9</th>\n      <td>46</td>\n      <td>16.401138</td>\n      <td>-7.740083</td>\n      <td>sitting individual</td>\n      <td>2022-08-24 15:40:00</td>\n    </tr>\n    <tr>\n      <th>10</th>\n      <td>47</td>\n      <td>8.171177</td>\n      <td>-9.307695</td>\n      <td>sitting individual</td>\n      <td>2022-08-24 15:40:00</td>\n    </tr>\n    <tr>\n      <th>11</th>\n      <td>48</td>\n      <td>4.408908</td>\n      <td>-9.288100</td>\n      <td>sitting individual</td>\n      <td>2022-08-24 15:40:00</td>\n    </tr>\n    <tr>\n      <th>12</th>\n      <td>49</td>\n      <td>18.732961</td>\n      <td>-9.013768</td>\n      <td>sitting interactive</td>\n      <td>2022-08-24 15:40:00</td>\n    </tr>\n  </tbody>\n</table>\n</div>"
     },
     "execution_count": 107,
     "metadata": {},
     "output_type": "execute_result"
    }
   ],
   "source": [
    "a3"
   ],
   "metadata": {
    "collapsed": false,
    "pycharm": {
     "name": "#%%\n"
    }
   }
  },
  {
   "cell_type": "code",
   "execution_count": 108,
   "outputs": [],
   "source": [
    "a4_timestamp = pd.Timestamp(2022, 8, 25, 10, 5)\n",
    "a4 = a4.drop(columns=['Unnamed: 0'])\n",
    "a4['timestamp'] = a4_timestamp"
   ],
   "metadata": {
    "collapsed": false,
    "pycharm": {
     "name": "#%%\n"
    }
   }
  },
  {
   "cell_type": "code",
   "execution_count": 109,
   "outputs": [],
   "source": [
    "a5_timestamp = pd.Timestamp(2022, 8, 25, 10, 30)\n",
    "a5 = a5.drop(columns=['Unnamed: 0'])\n",
    "a5['timestamp'] = a5_timestamp"
   ],
   "metadata": {
    "collapsed": false,
    "pycharm": {
     "name": "#%%\n"
    }
   }
  },
  {
   "cell_type": "code",
   "execution_count": 110,
   "outputs": [
    {
     "data": {
      "text/plain": "   id_          x         y                 label           timestamp\n0   50  10.071906 -1.175709    sitting individual 2022-08-25 10:30:00\n1   52  17.302515 -5.055548    sitting individual 2022-08-25 10:30:00\n2   53  15.538952 -3.017653        sitting remote 2022-08-25 10:30:00\n3   58  19.928265 -8.915792   sitting interactive 2022-08-25 10:30:00\n4   60  18.811342 -9.052958   sitting interactive 2022-08-25 10:30:00\n5   62  17.537657 -6.564374  standing interactive 2022-08-25 10:30:00\n6   63  24.376363 -2.645345    sitting individual 2022-08-25 10:30:00\n7   64  19.340411 -5.231904        sitting remote 2022-08-25 10:30:00\n8   65  20.810047 -5.917735        sitting remote 2022-08-25 10:30:00",
      "text/html": "<div>\n<style scoped>\n    .dataframe tbody tr th:only-of-type {\n        vertical-align: middle;\n    }\n\n    .dataframe tbody tr th {\n        vertical-align: top;\n    }\n\n    .dataframe thead th {\n        text-align: right;\n    }\n</style>\n<table border=\"1\" class=\"dataframe\">\n  <thead>\n    <tr style=\"text-align: right;\">\n      <th></th>\n      <th>id_</th>\n      <th>x</th>\n      <th>y</th>\n      <th>label</th>\n      <th>timestamp</th>\n    </tr>\n  </thead>\n  <tbody>\n    <tr>\n      <th>0</th>\n      <td>50</td>\n      <td>10.071906</td>\n      <td>-1.175709</td>\n      <td>sitting individual</td>\n      <td>2022-08-25 10:30:00</td>\n    </tr>\n    <tr>\n      <th>1</th>\n      <td>52</td>\n      <td>17.302515</td>\n      <td>-5.055548</td>\n      <td>sitting individual</td>\n      <td>2022-08-25 10:30:00</td>\n    </tr>\n    <tr>\n      <th>2</th>\n      <td>53</td>\n      <td>15.538952</td>\n      <td>-3.017653</td>\n      <td>sitting remote</td>\n      <td>2022-08-25 10:30:00</td>\n    </tr>\n    <tr>\n      <th>3</th>\n      <td>58</td>\n      <td>19.928265</td>\n      <td>-8.915792</td>\n      <td>sitting interactive</td>\n      <td>2022-08-25 10:30:00</td>\n    </tr>\n    <tr>\n      <th>4</th>\n      <td>60</td>\n      <td>18.811342</td>\n      <td>-9.052958</td>\n      <td>sitting interactive</td>\n      <td>2022-08-25 10:30:00</td>\n    </tr>\n    <tr>\n      <th>5</th>\n      <td>62</td>\n      <td>17.537657</td>\n      <td>-6.564374</td>\n      <td>standing interactive</td>\n      <td>2022-08-25 10:30:00</td>\n    </tr>\n    <tr>\n      <th>6</th>\n      <td>63</td>\n      <td>24.376363</td>\n      <td>-2.645345</td>\n      <td>sitting individual</td>\n      <td>2022-08-25 10:30:00</td>\n    </tr>\n    <tr>\n      <th>7</th>\n      <td>64</td>\n      <td>19.340411</td>\n      <td>-5.231904</td>\n      <td>sitting remote</td>\n      <td>2022-08-25 10:30:00</td>\n    </tr>\n    <tr>\n      <th>8</th>\n      <td>65</td>\n      <td>20.810047</td>\n      <td>-5.917735</td>\n      <td>sitting remote</td>\n      <td>2022-08-25 10:30:00</td>\n    </tr>\n  </tbody>\n</table>\n</div>"
     },
     "execution_count": 110,
     "metadata": {},
     "output_type": "execute_result"
    }
   ],
   "source": [
    "a5"
   ],
   "metadata": {
    "collapsed": false,
    "pycharm": {
     "name": "#%%\n"
    }
   }
  },
  {
   "cell_type": "code",
   "execution_count": 111,
   "outputs": [],
   "source": [
    "a6_timestamp = pd.Timestamp(2022, 8, 25, 10, 55)\n",
    "a6 = a6.drop(columns=['Unnamed: 0'])\n",
    "a6['timestamp'] = a6_timestamp"
   ],
   "metadata": {
    "collapsed": false,
    "pycharm": {
     "name": "#%%\n"
    }
   }
  },
  {
   "cell_type": "code",
   "execution_count": 112,
   "outputs": [],
   "source": [
    "a7_timestamp = pd.Timestamp(2022, 8, 25, 11, 35)\n",
    "a7 = a7.drop(columns=['Unnamed: 0'])\n",
    "a7['timestamp'] = a7_timestamp"
   ],
   "metadata": {
    "collapsed": false,
    "pycharm": {
     "name": "#%%\n"
    }
   }
  },
  {
   "cell_type": "code",
   "execution_count": 113,
   "outputs": [],
   "source": [
    "a8_timestamp = pd.Timestamp(2022, 8, 25, 11, 50)\n",
    "a8 = a8.drop(columns=['Unnamed: 0'])\n",
    "a8['timestamp'] = a8_timestamp"
   ],
   "metadata": {
    "collapsed": false,
    "pycharm": {
     "name": "#%%\n"
    }
   }
  },
  {
   "cell_type": "code",
   "execution_count": 114,
   "outputs": [
    {
     "data": {
      "text/plain": "   id_          x         y                label           timestamp\n0   63  24.376363 -2.645345   sitting individual 2022-08-25 11:50:00\n1   64  19.340411 -5.231904       sitting remote 2022-08-25 11:50:00\n2   65  20.810047 -5.917735       sitting remote 2022-08-25 11:50:00\n3   66  16.695066 -5.114333  sitting interactive 2022-08-25 11:50:00\n4   71  19.987050 -8.210367       sitting remote 2022-08-25 11:50:00\n5   72  16.753851 -9.444861   sitting individual 2022-08-25 11:50:00\n6   73  16.303163 -5.114333  sitting interactive 2022-08-25 11:50:00\n7   74   2.449393 -0.646640      standing remote 2022-08-25 11:50:00",
      "text/html": "<div>\n<style scoped>\n    .dataframe tbody tr th:only-of-type {\n        vertical-align: middle;\n    }\n\n    .dataframe tbody tr th {\n        vertical-align: top;\n    }\n\n    .dataframe thead th {\n        text-align: right;\n    }\n</style>\n<table border=\"1\" class=\"dataframe\">\n  <thead>\n    <tr style=\"text-align: right;\">\n      <th></th>\n      <th>id_</th>\n      <th>x</th>\n      <th>y</th>\n      <th>label</th>\n      <th>timestamp</th>\n    </tr>\n  </thead>\n  <tbody>\n    <tr>\n      <th>0</th>\n      <td>63</td>\n      <td>24.376363</td>\n      <td>-2.645345</td>\n      <td>sitting individual</td>\n      <td>2022-08-25 11:50:00</td>\n    </tr>\n    <tr>\n      <th>1</th>\n      <td>64</td>\n      <td>19.340411</td>\n      <td>-5.231904</td>\n      <td>sitting remote</td>\n      <td>2022-08-25 11:50:00</td>\n    </tr>\n    <tr>\n      <th>2</th>\n      <td>65</td>\n      <td>20.810047</td>\n      <td>-5.917735</td>\n      <td>sitting remote</td>\n      <td>2022-08-25 11:50:00</td>\n    </tr>\n    <tr>\n      <th>3</th>\n      <td>66</td>\n      <td>16.695066</td>\n      <td>-5.114333</td>\n      <td>sitting interactive</td>\n      <td>2022-08-25 11:50:00</td>\n    </tr>\n    <tr>\n      <th>4</th>\n      <td>71</td>\n      <td>19.987050</td>\n      <td>-8.210367</td>\n      <td>sitting remote</td>\n      <td>2022-08-25 11:50:00</td>\n    </tr>\n    <tr>\n      <th>5</th>\n      <td>72</td>\n      <td>16.753851</td>\n      <td>-9.444861</td>\n      <td>sitting individual</td>\n      <td>2022-08-25 11:50:00</td>\n    </tr>\n    <tr>\n      <th>6</th>\n      <td>73</td>\n      <td>16.303163</td>\n      <td>-5.114333</td>\n      <td>sitting interactive</td>\n      <td>2022-08-25 11:50:00</td>\n    </tr>\n    <tr>\n      <th>7</th>\n      <td>74</td>\n      <td>2.449393</td>\n      <td>-0.646640</td>\n      <td>standing remote</td>\n      <td>2022-08-25 11:50:00</td>\n    </tr>\n  </tbody>\n</table>\n</div>"
     },
     "execution_count": 114,
     "metadata": {},
     "output_type": "execute_result"
    }
   ],
   "source": [
    "a8"
   ],
   "metadata": {
    "collapsed": false,
    "pycharm": {
     "name": "#%%\n"
    }
   }
  },
  {
   "cell_type": "code",
   "execution_count": 115,
   "outputs": [],
   "source": [
    "a9_timestamp = pd.Timestamp(2022, 8, 25, 12, 10)\n",
    "a9 = a9.drop(columns=['Unnamed: 0'])\n",
    "a9['timestamp'] = a9_timestamp"
   ],
   "metadata": {
    "collapsed": false,
    "pycharm": {
     "name": "#%%\n"
    }
   }
  },
  {
   "cell_type": "code",
   "execution_count": 116,
   "outputs": [],
   "source": [
    "a10_timestamp = pd.Timestamp(2022, 8, 25, 12, 25)\n",
    "a10 = a10.drop(columns=['Unnamed: 0'])\n",
    "a10['timestamp'] = a10_timestamp"
   ],
   "metadata": {
    "collapsed": false,
    "pycharm": {
     "name": "#%%\n"
    }
   }
  },
  {
   "cell_type": "code",
   "execution_count": 117,
   "outputs": [],
   "source": [
    "a11_timestamp = pd.Timestamp(2022, 8, 25, 14, 30)\n",
    "a11 = a11.drop(columns=['Unnamed: 0'])\n",
    "a11['timestamp'] = a11_timestamp"
   ],
   "metadata": {
    "collapsed": false,
    "pycharm": {
     "name": "#%%\n"
    }
   }
  },
  {
   "cell_type": "code",
   "execution_count": 118,
   "outputs": [],
   "source": [
    "a12_timestamp = pd.Timestamp(2022, 8, 25, 14, 50)\n",
    "a12 = a12.drop(columns=['Unnamed: 0'])\n",
    "a12['timestamp'] = a12_timestamp"
   ],
   "metadata": {
    "collapsed": false,
    "pycharm": {
     "name": "#%%\n"
    }
   }
  },
  {
   "cell_type": "code",
   "execution_count": 119,
   "outputs": [],
   "source": [
    "a13_timestamp = pd.Timestamp(2022, 8, 25, 15, 10)\n",
    "a13 = a13.drop(columns=['Unnamed: 0'])\n",
    "a13['timestamp'] = a13_timestamp"
   ],
   "metadata": {
    "collapsed": false,
    "pycharm": {
     "name": "#%%\n"
    }
   }
  },
  {
   "cell_type": "code",
   "execution_count": 120,
   "outputs": [],
   "source": [
    "a14_timestamp = pd.Timestamp(2022, 8, 25, 15, 30)\n",
    "a14 = a14.drop(columns=['Unnamed: 0'])\n",
    "a14['timestamp'] = a14_timestamp"
   ],
   "metadata": {
    "collapsed": false,
    "pycharm": {
     "name": "#%%\n"
    }
   }
  },
  {
   "cell_type": "code",
   "execution_count": 121,
   "outputs": [],
   "source": [
    "a15_timestamp = pd.Timestamp(2022, 8, 25, 16)\n",
    "a15 = a15.drop(columns=['Unnamed: 0'])\n",
    "a15['timestamp'] = a15_timestamp"
   ],
   "metadata": {
    "collapsed": false,
    "pycharm": {
     "name": "#%%\n"
    }
   }
  },
  {
   "cell_type": "code",
   "execution_count": 122,
   "outputs": [
    {
     "data": {
      "text/plain": "   id_          x         y                label           timestamp\n0   77  15.499762 -2.978462       sitting remote 2022-08-25 16:00:00\n1   80  24.200007 -2.586559   sitting individual 2022-08-25 16:00:00\n2   83  16.773446 -9.523242   sitting individual 2022-08-25 16:00:00\n3   87  10.032716 -1.097328   sitting individual 2022-08-25 16:00:00\n4   90  20.183002 -8.190772   sitting individual 2022-08-25 16:00:00\n5   91  19.007293 -1.097328   sitting individual 2022-08-25 16:00:00\n6   93  19.242435 -5.153524       sitting remote 2022-08-25 16:00:00\n7   94  16.420734 -6.231257   sitting individual 2022-08-25 16:00:00\n8   95  15.382191 -6.290042   sitting individual 2022-08-25 16:00:00\n9   96  13.951745 -5.858949  standing individual 2022-08-25 16:00:00",
      "text/html": "<div>\n<style scoped>\n    .dataframe tbody tr th:only-of-type {\n        vertical-align: middle;\n    }\n\n    .dataframe tbody tr th {\n        vertical-align: top;\n    }\n\n    .dataframe thead th {\n        text-align: right;\n    }\n</style>\n<table border=\"1\" class=\"dataframe\">\n  <thead>\n    <tr style=\"text-align: right;\">\n      <th></th>\n      <th>id_</th>\n      <th>x</th>\n      <th>y</th>\n      <th>label</th>\n      <th>timestamp</th>\n    </tr>\n  </thead>\n  <tbody>\n    <tr>\n      <th>0</th>\n      <td>77</td>\n      <td>15.499762</td>\n      <td>-2.978462</td>\n      <td>sitting remote</td>\n      <td>2022-08-25 16:00:00</td>\n    </tr>\n    <tr>\n      <th>1</th>\n      <td>80</td>\n      <td>24.200007</td>\n      <td>-2.586559</td>\n      <td>sitting individual</td>\n      <td>2022-08-25 16:00:00</td>\n    </tr>\n    <tr>\n      <th>2</th>\n      <td>83</td>\n      <td>16.773446</td>\n      <td>-9.523242</td>\n      <td>sitting individual</td>\n      <td>2022-08-25 16:00:00</td>\n    </tr>\n    <tr>\n      <th>3</th>\n      <td>87</td>\n      <td>10.032716</td>\n      <td>-1.097328</td>\n      <td>sitting individual</td>\n      <td>2022-08-25 16:00:00</td>\n    </tr>\n    <tr>\n      <th>4</th>\n      <td>90</td>\n      <td>20.183002</td>\n      <td>-8.190772</td>\n      <td>sitting individual</td>\n      <td>2022-08-25 16:00:00</td>\n    </tr>\n    <tr>\n      <th>5</th>\n      <td>91</td>\n      <td>19.007293</td>\n      <td>-1.097328</td>\n      <td>sitting individual</td>\n      <td>2022-08-25 16:00:00</td>\n    </tr>\n    <tr>\n      <th>6</th>\n      <td>93</td>\n      <td>19.242435</td>\n      <td>-5.153524</td>\n      <td>sitting remote</td>\n      <td>2022-08-25 16:00:00</td>\n    </tr>\n    <tr>\n      <th>7</th>\n      <td>94</td>\n      <td>16.420734</td>\n      <td>-6.231257</td>\n      <td>sitting individual</td>\n      <td>2022-08-25 16:00:00</td>\n    </tr>\n    <tr>\n      <th>8</th>\n      <td>95</td>\n      <td>15.382191</td>\n      <td>-6.290042</td>\n      <td>sitting individual</td>\n      <td>2022-08-25 16:00:00</td>\n    </tr>\n    <tr>\n      <th>9</th>\n      <td>96</td>\n      <td>13.951745</td>\n      <td>-5.858949</td>\n      <td>standing individual</td>\n      <td>2022-08-25 16:00:00</td>\n    </tr>\n  </tbody>\n</table>\n</div>"
     },
     "execution_count": 122,
     "metadata": {},
     "output_type": "execute_result"
    }
   ],
   "source": [
    "a15"
   ],
   "metadata": {
    "collapsed": false,
    "pycharm": {
     "name": "#%%\n"
    }
   }
  },
  {
   "cell_type": "code",
   "execution_count": 123,
   "outputs": [
    {
     "data": {
      "text/plain": "    id_          x         y                 label           timestamp\n0    10   4.408908 -9.346885   sitting interactive 2022-08-24 14:00:00\n1    12   2.664940 -8.249557    sitting individual 2022-08-24 14:00:00\n2    13   6.348828 -2.214252        sitting remote 2022-08-24 14:00:00\n3    25  15.519357 -5.094738  standing interactive 2022-08-24 14:00:00\n4    29  20.045836 -8.308343    sitting individual 2022-08-24 14:00:00\n5    30  19.144459 -5.271095    sitting individual 2022-08-24 14:00:00\n6    31  16.381543 -7.838059    sitting individual 2022-08-24 14:00:00\n7    32  15.970045 -5.114333  standing interactive 2022-08-24 14:00:00\n8    33  20.829642 -5.251500  standing interactive 2022-08-24 14:00:00\n9    35  12.893607 -0.333118  standing interactive 2022-08-24 14:00:00\n10   36  12.854417 -1.548017  standing interactive 2022-08-24 14:00:00\n11   37  13.383486 -1.038543  standing interactive 2022-08-24 14:00:00\n12   38  12.227372 -0.783806  standing interactive 2022-08-24 14:00:00",
      "text/html": "<div>\n<style scoped>\n    .dataframe tbody tr th:only-of-type {\n        vertical-align: middle;\n    }\n\n    .dataframe tbody tr th {\n        vertical-align: top;\n    }\n\n    .dataframe thead th {\n        text-align: right;\n    }\n</style>\n<table border=\"1\" class=\"dataframe\">\n  <thead>\n    <tr style=\"text-align: right;\">\n      <th></th>\n      <th>id_</th>\n      <th>x</th>\n      <th>y</th>\n      <th>label</th>\n      <th>timestamp</th>\n    </tr>\n  </thead>\n  <tbody>\n    <tr>\n      <th>0</th>\n      <td>10</td>\n      <td>4.408908</td>\n      <td>-9.346885</td>\n      <td>sitting interactive</td>\n      <td>2022-08-24 14:00:00</td>\n    </tr>\n    <tr>\n      <th>1</th>\n      <td>12</td>\n      <td>2.664940</td>\n      <td>-8.249557</td>\n      <td>sitting individual</td>\n      <td>2022-08-24 14:00:00</td>\n    </tr>\n    <tr>\n      <th>2</th>\n      <td>13</td>\n      <td>6.348828</td>\n      <td>-2.214252</td>\n      <td>sitting remote</td>\n      <td>2022-08-24 14:00:00</td>\n    </tr>\n    <tr>\n      <th>3</th>\n      <td>25</td>\n      <td>15.519357</td>\n      <td>-5.094738</td>\n      <td>standing interactive</td>\n      <td>2022-08-24 14:00:00</td>\n    </tr>\n    <tr>\n      <th>4</th>\n      <td>29</td>\n      <td>20.045836</td>\n      <td>-8.308343</td>\n      <td>sitting individual</td>\n      <td>2022-08-24 14:00:00</td>\n    </tr>\n    <tr>\n      <th>5</th>\n      <td>30</td>\n      <td>19.144459</td>\n      <td>-5.271095</td>\n      <td>sitting individual</td>\n      <td>2022-08-24 14:00:00</td>\n    </tr>\n    <tr>\n      <th>6</th>\n      <td>31</td>\n      <td>16.381543</td>\n      <td>-7.838059</td>\n      <td>sitting individual</td>\n      <td>2022-08-24 14:00:00</td>\n    </tr>\n    <tr>\n      <th>7</th>\n      <td>32</td>\n      <td>15.970045</td>\n      <td>-5.114333</td>\n      <td>standing interactive</td>\n      <td>2022-08-24 14:00:00</td>\n    </tr>\n    <tr>\n      <th>8</th>\n      <td>33</td>\n      <td>20.829642</td>\n      <td>-5.251500</td>\n      <td>standing interactive</td>\n      <td>2022-08-24 14:00:00</td>\n    </tr>\n    <tr>\n      <th>9</th>\n      <td>35</td>\n      <td>12.893607</td>\n      <td>-0.333118</td>\n      <td>standing interactive</td>\n      <td>2022-08-24 14:00:00</td>\n    </tr>\n    <tr>\n      <th>10</th>\n      <td>36</td>\n      <td>12.854417</td>\n      <td>-1.548017</td>\n      <td>standing interactive</td>\n      <td>2022-08-24 14:00:00</td>\n    </tr>\n    <tr>\n      <th>11</th>\n      <td>37</td>\n      <td>13.383486</td>\n      <td>-1.038543</td>\n      <td>standing interactive</td>\n      <td>2022-08-24 14:00:00</td>\n    </tr>\n    <tr>\n      <th>12</th>\n      <td>38</td>\n      <td>12.227372</td>\n      <td>-0.783806</td>\n      <td>standing interactive</td>\n      <td>2022-08-24 14:00:00</td>\n    </tr>\n  </tbody>\n</table>\n</div>"
     },
     "execution_count": 123,
     "metadata": {},
     "output_type": "execute_result"
    }
   ],
   "source": [
    "a1"
   ],
   "metadata": {
    "collapsed": false,
    "pycharm": {
     "name": "#%%\n"
    }
   }
  },
  {
   "cell_type": "code",
   "execution_count": 124,
   "outputs": [],
   "source": [
    "a_frames = [a1, a2, a3, a4, a5, a6, a7, a8, a9, a10, a11, a12, a13, a14, a15]"
   ],
   "metadata": {
    "collapsed": false,
    "pycharm": {
     "name": "#%%\n"
    }
   }
  },
  {
   "cell_type": "code",
   "execution_count": 127,
   "outputs": [],
   "source": [
    "A = pd.concat(a_frames, ignore_index=True)"
   ],
   "metadata": {
    "collapsed": false,
    "pycharm": {
     "name": "#%%\n"
    }
   }
  },
  {
   "cell_type": "code",
   "execution_count": 128,
   "outputs": [
    {
     "data": {
      "text/plain": "      id_          x         y                 label           timestamp\n0    10.0   4.408908 -9.346885   sitting interactive 2022-08-24 14:00:00\n1    12.0   2.664940 -8.249557    sitting individual 2022-08-24 14:00:00\n2    13.0   6.348828 -2.214252        sitting remote 2022-08-24 14:00:00\n3    25.0  15.519357 -5.094738  standing interactive 2022-08-24 14:00:00\n4    29.0  20.045836 -8.308343    sitting individual 2022-08-24 14:00:00\n..    ...        ...       ...                   ...                 ...\n137  91.0  19.007293 -1.097328    sitting individual 2022-08-25 16:00:00\n138  93.0  19.242435 -5.153524        sitting remote 2022-08-25 16:00:00\n139  94.0  16.420734 -6.231257    sitting individual 2022-08-25 16:00:00\n140  95.0  15.382191 -6.290042    sitting individual 2022-08-25 16:00:00\n141  96.0  13.951745 -5.858949   standing individual 2022-08-25 16:00:00\n\n[142 rows x 5 columns]",
      "text/html": "<div>\n<style scoped>\n    .dataframe tbody tr th:only-of-type {\n        vertical-align: middle;\n    }\n\n    .dataframe tbody tr th {\n        vertical-align: top;\n    }\n\n    .dataframe thead th {\n        text-align: right;\n    }\n</style>\n<table border=\"1\" class=\"dataframe\">\n  <thead>\n    <tr style=\"text-align: right;\">\n      <th></th>\n      <th>id_</th>\n      <th>x</th>\n      <th>y</th>\n      <th>label</th>\n      <th>timestamp</th>\n    </tr>\n  </thead>\n  <tbody>\n    <tr>\n      <th>0</th>\n      <td>10.0</td>\n      <td>4.408908</td>\n      <td>-9.346885</td>\n      <td>sitting interactive</td>\n      <td>2022-08-24 14:00:00</td>\n    </tr>\n    <tr>\n      <th>1</th>\n      <td>12.0</td>\n      <td>2.664940</td>\n      <td>-8.249557</td>\n      <td>sitting individual</td>\n      <td>2022-08-24 14:00:00</td>\n    </tr>\n    <tr>\n      <th>2</th>\n      <td>13.0</td>\n      <td>6.348828</td>\n      <td>-2.214252</td>\n      <td>sitting remote</td>\n      <td>2022-08-24 14:00:00</td>\n    </tr>\n    <tr>\n      <th>3</th>\n      <td>25.0</td>\n      <td>15.519357</td>\n      <td>-5.094738</td>\n      <td>standing interactive</td>\n      <td>2022-08-24 14:00:00</td>\n    </tr>\n    <tr>\n      <th>4</th>\n      <td>29.0</td>\n      <td>20.045836</td>\n      <td>-8.308343</td>\n      <td>sitting individual</td>\n      <td>2022-08-24 14:00:00</td>\n    </tr>\n    <tr>\n      <th>...</th>\n      <td>...</td>\n      <td>...</td>\n      <td>...</td>\n      <td>...</td>\n      <td>...</td>\n    </tr>\n    <tr>\n      <th>137</th>\n      <td>91.0</td>\n      <td>19.007293</td>\n      <td>-1.097328</td>\n      <td>sitting individual</td>\n      <td>2022-08-25 16:00:00</td>\n    </tr>\n    <tr>\n      <th>138</th>\n      <td>93.0</td>\n      <td>19.242435</td>\n      <td>-5.153524</td>\n      <td>sitting remote</td>\n      <td>2022-08-25 16:00:00</td>\n    </tr>\n    <tr>\n      <th>139</th>\n      <td>94.0</td>\n      <td>16.420734</td>\n      <td>-6.231257</td>\n      <td>sitting individual</td>\n      <td>2022-08-25 16:00:00</td>\n    </tr>\n    <tr>\n      <th>140</th>\n      <td>95.0</td>\n      <td>15.382191</td>\n      <td>-6.290042</td>\n      <td>sitting individual</td>\n      <td>2022-08-25 16:00:00</td>\n    </tr>\n    <tr>\n      <th>141</th>\n      <td>96.0</td>\n      <td>13.951745</td>\n      <td>-5.858949</td>\n      <td>standing individual</td>\n      <td>2022-08-25 16:00:00</td>\n    </tr>\n  </tbody>\n</table>\n<p>142 rows × 5 columns</p>\n</div>"
     },
     "execution_count": 128,
     "metadata": {},
     "output_type": "execute_result"
    }
   ],
   "source": [
    "A"
   ],
   "metadata": {
    "collapsed": false,
    "pycharm": {
     "name": "#%%\n"
    }
   }
  },
  {
   "cell_type": "code",
   "execution_count": 129,
   "outputs": [],
   "source": [
    "A.to_csv('A.csv')"
   ],
   "metadata": {
    "collapsed": false,
    "pycharm": {
     "name": "#%%\n"
    }
   }
  },
  {
   "cell_type": "markdown",
   "source": [
    "### Room B - Cafeteria"
   ],
   "metadata": {
    "collapsed": false
   }
  },
  {
   "cell_type": "code",
   "execution_count": 197,
   "outputs": [],
   "source": [
    "b1 = pd.read_csv('day1/B_12_25.csv')\n",
    "b2 = pd.read_csv('day1/B_13_50.csv')\n",
    "b3 = pd.read_csv('day1/B_14_50.csv')\n",
    "b4 = pd.read_csv('day1/B_15_40.csv')"
   ],
   "metadata": {
    "collapsed": false,
    "pycharm": {
     "name": "#%%\n"
    }
   }
  },
  {
   "cell_type": "code",
   "execution_count": 198,
   "outputs": [],
   "source": [
    "b5 = pd.read_csv('day2/B_10_10.csv')\n",
    "b6 = pd.read_csv('day2/B_10_35.csv')\n",
    "b7 = pd.read_csv('day2/B_11_00.csv')\n",
    "b8 = pd.read_csv('day2/B_11_35.csv')\n",
    "b9 = pd.read_csv('day2/B_11_50.csv')\n",
    "b10 = pd.read_csv('day2/B_12_10.csv')\n",
    "b11 = pd.read_csv('day2/B_12_25.csv')\n",
    "b12 = pd.read_csv('day2/B_14_45.csv')\n",
    "b13 = pd.read_csv('day2/B_14_55.csv')\n",
    "b14 = pd.read_csv('day2/B_15_10.csv')\n",
    "b15 = pd.read_csv('day2/B_15_35.csv')\n",
    "b16 = pd.read_csv('day2/B_16_00.csv')"
   ],
   "metadata": {
    "collapsed": false,
    "pycharm": {
     "name": "#%%\n"
    }
   }
  },
  {
   "cell_type": "code",
   "execution_count": 199,
   "outputs": [],
   "source": [
    "#to FIX\n",
    "b1_timestamp = pd.Timestamp(2022, 8, 24, 12, 25)\n",
    "b2_timestamp = pd.Timestamp(2022, 8, 24, 13, 50)\n",
    "b3_timestamp = pd.Timestamp(2022, 8, 24, 14, 50)\n",
    "b4_timestamp = pd.Timestamp(2022, 8, 24, 15, 40)"
   ],
   "metadata": {
    "collapsed": false,
    "pycharm": {
     "name": "#%%\n"
    }
   }
  },
  {
   "cell_type": "code",
   "execution_count": 200,
   "outputs": [],
   "source": [
    "b5_timestamp = pd.Timestamp(2022, 8, 25, 10, 10)\n",
    "b6_timestamp = pd.Timestamp(2022, 8, 25, 10, 35)\n",
    "b7_timestamp = pd.Timestamp(2022, 8, 25, 11)\n",
    "b8_timestamp = pd.Timestamp(2022, 8, 25, 11, 35)\n",
    "b9_timestamp = pd.Timestamp(2022, 8, 25, 11, 50)\n",
    "b10_timestamp = pd.Timestamp(2022, 8, 25, 12, 10)\n",
    "b11_timestamp = pd.Timestamp(2022, 8, 25, 12, 25)\n",
    "b12_timestamp = pd.Timestamp(2022, 8, 25, 14, 45)\n",
    "b13_timestamp = pd.Timestamp(2022, 8, 25, 14, 55)\n",
    "b14_timestamp = pd.Timestamp(2022, 8, 25, 15, 10)\n",
    "b15_timestamp = pd.Timestamp(2022, 8, 25, 15, 35)\n",
    "b16_timestamp = pd.Timestamp(2022, 8, 25, 16)"
   ],
   "metadata": {
    "collapsed": false,
    "pycharm": {
     "name": "#%%\n"
    }
   }
  },
  {
   "cell_type": "code",
   "execution_count": 195,
   "outputs": [
    {
     "data": {
      "text/plain": "   id_          x          y                 label           timestamp\n0   38  11.333617 -13.439672    sitting individual 2022-08-24 12:25:00\n1   39   7.295202  -5.797080    sitting individual 2022-08-24 12:25:00\n2   40   4.841756  -2.931108    sitting individual 2022-08-24 12:25:00\n3   41   7.012947 -11.355329  standing interactive 2022-08-24 12:25:00\n4   42   6.318166 -12.440924  standing interactive 2022-08-24 12:25:00\n5   43   7.772864 -13.939046   standing individual 2022-08-24 12:25:00\n6   44   3.539041  -9.813783   standing individual 2022-08-24 12:25:00\n7   45   4.429229 -10.465140   standing individual 2022-08-24 12:25:00",
      "text/html": "<div>\n<style scoped>\n    .dataframe tbody tr th:only-of-type {\n        vertical-align: middle;\n    }\n\n    .dataframe tbody tr th {\n        vertical-align: top;\n    }\n\n    .dataframe thead th {\n        text-align: right;\n    }\n</style>\n<table border=\"1\" class=\"dataframe\">\n  <thead>\n    <tr style=\"text-align: right;\">\n      <th></th>\n      <th>id_</th>\n      <th>x</th>\n      <th>y</th>\n      <th>label</th>\n      <th>timestamp</th>\n    </tr>\n  </thead>\n  <tbody>\n    <tr>\n      <th>0</th>\n      <td>38</td>\n      <td>11.333617</td>\n      <td>-13.439672</td>\n      <td>sitting individual</td>\n      <td>2022-08-24 12:25:00</td>\n    </tr>\n    <tr>\n      <th>1</th>\n      <td>39</td>\n      <td>7.295202</td>\n      <td>-5.797080</td>\n      <td>sitting individual</td>\n      <td>2022-08-24 12:25:00</td>\n    </tr>\n    <tr>\n      <th>2</th>\n      <td>40</td>\n      <td>4.841756</td>\n      <td>-2.931108</td>\n      <td>sitting individual</td>\n      <td>2022-08-24 12:25:00</td>\n    </tr>\n    <tr>\n      <th>3</th>\n      <td>41</td>\n      <td>7.012947</td>\n      <td>-11.355329</td>\n      <td>standing interactive</td>\n      <td>2022-08-24 12:25:00</td>\n    </tr>\n    <tr>\n      <th>4</th>\n      <td>42</td>\n      <td>6.318166</td>\n      <td>-12.440924</td>\n      <td>standing interactive</td>\n      <td>2022-08-24 12:25:00</td>\n    </tr>\n    <tr>\n      <th>5</th>\n      <td>43</td>\n      <td>7.772864</td>\n      <td>-13.939046</td>\n      <td>standing individual</td>\n      <td>2022-08-24 12:25:00</td>\n    </tr>\n    <tr>\n      <th>6</th>\n      <td>44</td>\n      <td>3.539041</td>\n      <td>-9.813783</td>\n      <td>standing individual</td>\n      <td>2022-08-24 12:25:00</td>\n    </tr>\n    <tr>\n      <th>7</th>\n      <td>45</td>\n      <td>4.429229</td>\n      <td>-10.465140</td>\n      <td>standing individual</td>\n      <td>2022-08-24 12:25:00</td>\n    </tr>\n  </tbody>\n</table>\n</div>"
     },
     "execution_count": 195,
     "metadata": {},
     "output_type": "execute_result"
    }
   ],
   "source": [
    "b2"
   ],
   "metadata": {
    "collapsed": false,
    "pycharm": {
     "name": "#%%\n"
    }
   }
  },
  {
   "cell_type": "code",
   "execution_count": 201,
   "outputs": [],
   "source": [
    "b1 = b1.drop(columns=['Unnamed: 0'])\n",
    "b1['timestamp'] = b1_timestamp"
   ],
   "metadata": {
    "collapsed": false,
    "pycharm": {
     "name": "#%%\n"
    }
   }
  },
  {
   "cell_type": "code",
   "execution_count": 203,
   "outputs": [],
   "source": [
    "b2 = b2.drop(columns=['Unnamed: 0'])\n",
    "b2['timestamp'] = b2_timestamp"
   ],
   "metadata": {
    "collapsed": false,
    "pycharm": {
     "name": "#%%\n"
    }
   }
  },
  {
   "cell_type": "code",
   "execution_count": 205,
   "outputs": [],
   "source": [
    "b3 = b3.drop(columns=['Unnamed: 0'])\n",
    "b3['timestamp'] = b3_timestamp"
   ],
   "metadata": {
    "collapsed": false,
    "pycharm": {
     "name": "#%%\n"
    }
   }
  },
  {
   "cell_type": "code",
   "execution_count": 206,
   "outputs": [],
   "source": [
    "b4 = b4.drop(columns=['Unnamed: 0'])\n",
    "b4['timestamp'] = b4_timestamp"
   ],
   "metadata": {
    "collapsed": false,
    "pycharm": {
     "name": "#%%\n"
    }
   }
  },
  {
   "cell_type": "code",
   "execution_count": 207,
   "outputs": [],
   "source": [
    "b5 = b5.drop(columns=['Unnamed: 0'])\n",
    "b5['timestamp'] = b5_timestamp"
   ],
   "metadata": {
    "collapsed": false,
    "pycharm": {
     "name": "#%%\n"
    }
   }
  },
  {
   "cell_type": "code",
   "execution_count": 208,
   "outputs": [],
   "source": [
    "b6 = b6.drop(columns=['Unnamed: 0'])\n",
    "b6['timestamp'] = b6_timestamp"
   ],
   "metadata": {
    "collapsed": false,
    "pycharm": {
     "name": "#%%\n"
    }
   }
  },
  {
   "cell_type": "code",
   "execution_count": 209,
   "outputs": [],
   "source": [
    "b7 = b7.drop(columns=['Unnamed: 0'])\n",
    "b7['timestamp'] = b7_timestamp"
   ],
   "metadata": {
    "collapsed": false,
    "pycharm": {
     "name": "#%%\n"
    }
   }
  },
  {
   "cell_type": "code",
   "execution_count": 210,
   "outputs": [],
   "source": [
    "b8 = b8.drop(columns=['Unnamed: 0'])\n",
    "b8['timestamp'] = b8_timestamp"
   ],
   "metadata": {
    "collapsed": false,
    "pycharm": {
     "name": "#%%\n"
    }
   }
  },
  {
   "cell_type": "code",
   "execution_count": 211,
   "outputs": [],
   "source": [
    "b9 = b9.drop(columns=['Unnamed: 0'])\n",
    "b9['timestamp'] = b9_timestamp"
   ],
   "metadata": {
    "collapsed": false,
    "pycharm": {
     "name": "#%%\n"
    }
   }
  },
  {
   "cell_type": "code",
   "execution_count": 212,
   "outputs": [],
   "source": [
    "b10 = b10.drop(columns=['Unnamed: 0'])\n",
    "b10['timestamp'] = b10_timestamp"
   ],
   "metadata": {
    "collapsed": false,
    "pycharm": {
     "name": "#%%\n"
    }
   }
  },
  {
   "cell_type": "code",
   "execution_count": 213,
   "outputs": [],
   "source": [
    "b11 = b11.drop(columns=['Unnamed: 0'])\n",
    "b11['timestamp'] = b11_timestamp"
   ],
   "metadata": {
    "collapsed": false,
    "pycharm": {
     "name": "#%%\n"
    }
   }
  },
  {
   "cell_type": "code",
   "execution_count": 214,
   "outputs": [],
   "source": [
    "b12 = b12.drop(columns=['Unnamed: 0'])\n",
    "b12['timestamp'] = b12_timestamp"
   ],
   "metadata": {
    "collapsed": false,
    "pycharm": {
     "name": "#%%\n"
    }
   }
  },
  {
   "cell_type": "code",
   "execution_count": 215,
   "outputs": [],
   "source": [
    "b13 = b13.drop(columns=['Unnamed: 0'])\n",
    "b13['timestamp'] = b13_timestamp"
   ],
   "metadata": {
    "collapsed": false,
    "pycharm": {
     "name": "#%%\n"
    }
   }
  },
  {
   "cell_type": "code",
   "execution_count": 216,
   "outputs": [],
   "source": [
    "b14 = b14.drop(columns=['Unnamed: 0'])\n",
    "b14['timestamp'] = b14_timestamp"
   ],
   "metadata": {
    "collapsed": false,
    "pycharm": {
     "name": "#%%\n"
    }
   }
  },
  {
   "cell_type": "code",
   "execution_count": 217,
   "outputs": [],
   "source": [
    "b15 = b15.drop(columns=['Unnamed: 0'])\n",
    "b15['timestamp'] = b15_timestamp"
   ],
   "metadata": {
    "collapsed": false,
    "pycharm": {
     "name": "#%%\n"
    }
   }
  },
  {
   "cell_type": "code",
   "execution_count": 218,
   "outputs": [],
   "source": [
    "b16 = b16.drop(columns=['Unnamed: 0'])\n",
    "b16['timestamp'] = b16_timestamp"
   ],
   "metadata": {
    "collapsed": false,
    "pycharm": {
     "name": "#%%\n"
    }
   }
  },
  {
   "cell_type": "code",
   "execution_count": 220,
   "outputs": [],
   "source": [
    "b_frames = [b1, b2, b3, b4, b5, b6, b7, b8, b9, b10, b11, b12, b13, b14, b15, b16]"
   ],
   "metadata": {
    "collapsed": false,
    "pycharm": {
     "name": "#%%\n"
    }
   }
  },
  {
   "cell_type": "code",
   "execution_count": 221,
   "outputs": [
    {
     "data": {
      "text/plain": "[    id_          x          y                 label           timestamp\n 0    11   7.338625  -1.867224   sitting interactive 2022-08-24 12:25:00\n 1    12   6.687268  -2.149479  standing interactive 2022-08-24 12:25:00\n 2    13   7.338625  -4.689772   sitting interactive 2022-08-24 12:25:00\n 3    14   7.316913  -5.753656   sitting interactive 2022-08-24 12:25:00\n 4    15  11.637583  -4.559501    sitting individual 2022-08-24 12:25:00\n 5    16   5.753656  -8.576204   sitting interactive 2022-08-24 12:25:00\n 6    17   6.491861  -8.597916   sitting interactive 2022-08-24 12:25:00\n 7    18   7.121506  -8.576204   sitting interactive 2022-08-24 12:25:00\n 8    19   5.797080 -10.313157   sitting interactive 2022-08-24 12:25:00\n 9    20   6.383301 -10.248021   sitting interactive 2022-08-24 12:25:00\n 10   21   7.164930 -10.269733   sitting interactive 2022-08-24 12:25:00\n 11   22   4.516077  -8.033406  standing interactive 2022-08-24 12:25:00\n 12   23   5.275994  -8.076830  standing interactive 2022-08-24 12:25:00\n 13   24   6.253030 -11.246769  standing interactive 2022-08-24 12:25:00\n 14   25   4.972027 -11.333617  standing interactive 2022-08-24 12:25:00\n 15   26   5.558249 -10.942802  standing interactive 2022-08-24 12:25:00\n 16   27   7.360337 -11.333617  standing interactive 2022-08-24 12:25:00\n 17   28   7.837999 -11.377040  standing interactive 2022-08-24 12:25:00\n 18   29   8.293949 -11.355329  standing interactive 2022-08-24 12:25:00\n 19   30  11.333617 -11.377040  standing interactive 2022-08-24 12:25:00\n 20   31  11.051362 -11.094786  standing interactive 2022-08-24 12:25:00\n 21   32  11.963262 -10.769107  standing interactive 2022-08-24 12:25:00\n 22   33  11.984974 -10.161174  standing interactive 2022-08-24 12:25:00\n 23   34   4.841756  -2.909396    sitting individual 2022-08-24 12:25:00\n 24   35  17.934037  -9.314409    sitting individual 2022-08-24 12:25:00\n 25   36   9.227561  -8.532780   sitting interactive 2022-08-24 12:25:00\n 26   37   9.227561 -10.291445   sitting interactive 2022-08-24 12:25:00,\n    id_          x          y                 label           timestamp\n 0   38  11.333617 -13.439672    sitting individual 2022-08-24 13:50:00\n 1   39   7.295202  -5.797080    sitting individual 2022-08-24 13:50:00\n 2   40   4.841756  -2.931108    sitting individual 2022-08-24 13:50:00\n 3   41   7.012947 -11.355329  standing interactive 2022-08-24 13:50:00\n 4   42   6.318166 -12.440924  standing interactive 2022-08-24 13:50:00\n 5   43   7.772864 -13.939046   standing individual 2022-08-24 13:50:00\n 6   44   3.539041  -9.813783   standing individual 2022-08-24 13:50:00\n 7   45   4.429229 -10.465140   standing individual 2022-08-24 13:50:00,\n    id_          x          y                label           timestamp\n 0   38  11.333617 -13.439672   sitting individual 2022-08-24 14:50:00\n 1   46  11.355329 -12.245517   sitting individual 2022-08-24 14:50:00\n 2   47  10.551988 -10.334869   sitting individual 2022-08-24 14:50:00\n 3   48   4.885180  -2.931108   sitting individual 2022-08-24 14:50:00\n 4   49   9.705223  -4.906892   sitting individual 2022-08-24 14:50:00\n 5   50   4.060127  -5.471401  sitting interactive 2022-08-24 14:50:00\n 6   51   3.452194  -6.122758  sitting interactive 2022-08-24 14:50:00\n 7   52   9.379545 -12.571195  standing individual 2022-08-24 14:50:00,\n     id_          x          y                label           timestamp\n 0    38  11.333617 -13.439672   sitting individual 2022-08-24 15:40:00\n 1    46  11.355329 -12.245517   sitting individual 2022-08-24 15:40:00\n 2    47  10.551988 -10.334869   sitting individual 2022-08-24 15:40:00\n 3    52   9.379545 -12.571195  standing individual 2022-08-24 15:40:00\n 4    53   2.518581  -2.648853  sitting interactive 2022-08-24 15:40:00\n 5    54   2.431734  -4.212110  sitting interactive 2022-08-24 15:40:00\n 6    55   5.536537  -5.970775  sitting interactive 2022-08-24 15:40:00\n 7    56   4.928603  -5.731944  sitting interactive 2022-08-24 15:40:00\n 8    57   5.514825  -4.885180  sitting interactive 2022-08-24 15:40:00\n 9    58   9.922343 -10.313157  sitting interactive 2022-08-24 15:40:00\n 10   59  17.912325 -10.182885  sitting interactive 2022-08-24 15:40:00\n 11   60  17.977461  -9.292697  sitting interactive 2022-08-24 15:40:00\n 12   61  17.217544 -10.942802  sitting interactive 2022-08-24 15:40:00,\n    id_         x          y                 label           timestamp\n 0   62  8.771611 -13.917334  standing interactive 2022-08-25 10:10:00\n 1   63  3.604177 -13.939046  standing interactive 2022-08-25 10:10:00,\n    id_          x          y                label           timestamp\n 0   64   6.556997 -12.462636  standing individual 2022-08-25 10:35:00\n 1   65  11.333617 -13.396248   sitting individual 2022-08-25 10:35:00,\n    id_          x          y                 label           timestamp\n 0   64   6.556997 -12.462636   standing individual 2022-08-25 11:00:00\n 1   65  11.333617 -13.396248    sitting individual 2022-08-25 11:00:00\n 2   66   8.793323 -13.982470  standing interactive 2022-08-25 11:00:00,\n    id_          x          y                 label           timestamp\n 0   67   7.251778 -12.506060   standing individual 2022-08-25 11:35:00\n 1   68   5.992487 -12.571195   standing individual 2022-08-25 11:35:00\n 2   69  11.290193 -11.659295  standing interactive 2022-08-25 11:35:00\n 3   70  11.355329 -12.223805   sitting interactive 2022-08-25 11:35:00,\n    id_          x          y                 label           timestamp\n 0   72  11.268481 -13.483096   sitting interactive 2022-08-25 11:50:00\n 1   73  12.419212 -13.700215  standing interactive 2022-08-25 11:50:00\n 2   74  12.419212 -13.265977  standing interactive 2022-08-25 11:50:00\n 3   76   8.141966 -14.025893   standing individual 2022-08-25 11:50:00\n 4   77   5.818792 -10.291445    sitting individual 2022-08-25 11:50:00\n 5   78   6.665556 -14.025893   standing individual 2022-08-25 11:50:00\n 6   79  10.638836  -1.823800   sitting interactive 2022-08-25 11:50:00\n 7   80   9.857207  -3.495617   sitting interactive 2022-08-25 11:50:00\n 8   81  14.785810  -2.844260        sitting remote 2022-08-25 11:50:00,\n     id_          x          y                 label           timestamp\n 0    72  11.268481 -13.483096   sitting interactive 2022-08-25 12:10:00\n 1    78   6.665556 -14.025893   standing individual 2022-08-25 12:10:00\n 2    81  14.785810  -2.844260        sitting remote 2022-08-25 12:10:00\n 3    82  10.248021  -2.844260   sitting interactive 2022-08-25 12:10:00\n 4    83   9.661800  -4.407518   sitting interactive 2022-08-25 12:10:00\n 5    85   9.032154 -11.681007  standing interactive 2022-08-25 12:10:00\n 6    86   5.145723 -11.268481   standing individual 2022-08-25 12:10:00\n 7    87   5.710232 -11.181633   standing individual 2022-08-25 12:10:00\n 8    88   6.274742 -11.398752   standing individual 2022-08-25 12:10:00\n 9    89   7.143218  -4.472653    sitting individual 2022-08-25 12:10:00\n 10   90   5.080587  -5.753656    sitting individual 2022-08-25 12:10:00\n 11   91  15.393744  -5.058875  standing interactive 2022-08-25 12:10:00\n 12   92  15.415456  -8.076830  standing interactive 2022-08-25 12:10:00\n 13   93  10.638836 -11.659295  standing interactive 2022-08-25 12:10:00\n 14   94   7.078082 -12.701467   standing individual 2022-08-25 12:10:00,\n     id_          x          y                 label           timestamp\n 0    72  11.268481 -13.483096   sitting interactive 2022-08-25 12:25:00\n 1    78   6.665556 -14.025893   standing individual 2022-08-25 12:25:00\n 2    82  10.248021  -2.844260   sitting interactive 2022-08-25 12:25:00\n 3    83   9.661800  -4.407518   sitting interactive 2022-08-25 12:25:00\n 4    90   5.080587  -5.753656    sitting individual 2022-08-25 12:25:00\n 5    91  15.393744  -5.058875  standing interactive 2022-08-25 12:25:00\n 6    92  15.415456  -8.076830  standing interactive 2022-08-25 12:25:00\n 7    94   7.078082 -12.701467   standing individual 2022-08-25 12:25:00\n 8    95  12.115245  -9.987478  standing interactive 2022-08-25 12:25:00\n 9    96  11.594160  -9.944054  standing interactive 2022-08-25 12:25:00\n 10   97  11.724431 -10.703971  standing interactive 2022-08-25 12:25:00\n 11   99   6.405013  -8.597916   sitting interactive 2022-08-25 12:25:00\n 12  100   5.775368 -10.269733   sitting interactive 2022-08-25 12:25:00\n 13  101   6.448437 -10.204597   sitting interactive 2022-08-25 12:25:00\n 14  102   7.056371 -10.226309   sitting interactive 2022-08-25 12:25:00\n 15  103   7.121506  -8.728188   sitting interactive 2022-08-25 12:25:00\n 16  104   5.189146  -8.467645  standing interactive 2022-08-25 12:25:00\n 17  105   7.099794  -1.888936   sitting interactive 2022-08-25 12:25:00\n 18  106   7.642592  -1.867224   sitting interactive 2022-08-25 12:25:00\n 19  107   8.315661  -1.867224   sitting interactive 2022-08-25 12:25:00\n 20  108   7.099794  -3.473905   sitting interactive 2022-08-25 12:25:00\n 21  109   7.772864  -3.452194   sitting interactive 2022-08-25 12:25:00\n 22  110   2.996243  -5.753656   sitting interactive 2022-08-25 12:25:00\n 23  111   2.974532  -5.210858   sitting interactive 2022-08-25 12:25:00\n 24  112   4.016703  -5.145723   sitting interactive 2022-08-25 12:25:00,\n     id_          x          y                 label           timestamp\n 0    78   6.665556 -14.025893   standing individual 2022-08-25 14:45:00\n 1    91  15.393744  -5.058875  standing interactive 2022-08-25 14:45:00\n 2    92  15.415456  -8.076830  standing interactive 2022-08-25 14:45:00\n 3   113  14.785810  -5.645096  standing interactive 2022-08-25 14:45:00\n 4   115   9.596664 -11.377040  standing interactive 2022-08-25 14:45:00\n 5   116  10.378293 -13.895622  standing interactive 2022-08-25 14:45:00\n 6   117  10.877667 -13.960758  standing interactive 2022-08-25 14:45:00\n 7   118  10.573700 -10.248021    sitting individual 2022-08-25 14:45:00\n 8   119   5.493113  -4.863468   sitting interactive 2022-08-25 14:45:00\n 9   120   5.514825  -5.992487   sitting interactive 2022-08-25 14:45:00\n 10  121   8.749899 -11.398752  standing interactive 2022-08-25 14:45:00,\n    id_          x          y                 label           timestamp\n 0  122   9.661800  -4.928603    sitting individual 2022-08-25 14:55:00\n 1  123   3.235074  -2.562005    sitting individual 2022-08-25 14:55:00\n 2  124  11.290193 -13.417960   sitting interactive 2022-08-25 14:55:00\n 3  125  11.463888 -12.810026   sitting interactive 2022-08-25 14:55:00\n 4  127  11.377040 -12.419212  standing interactive 2022-08-25 14:55:00\n 5  128  11.181633  -9.422969   sitting interactive 2022-08-25 14:55:00\n 6  129  10.573700 -10.269733   sitting interactive 2022-08-25 14:55:00,\n    id_          x          y                 label           timestamp\n 0  122   9.661800  -4.928603    sitting individual 2022-08-25 15:10:00\n 1  123   3.235074  -2.562005    sitting individual 2022-08-25 15:10:00\n 2  128  11.181633  -9.422969   sitting interactive 2022-08-25 15:10:00\n 3  129  10.573700 -10.269733   sitting interactive 2022-08-25 15:10:00\n 4  130  16.739882  -7.360337  standing interactive 2022-08-25 15:10:00\n 5  131  16.761594  -4.277246  standing interactive 2022-08-25 15:10:00\n 6  132  11.442176 -13.396248    sitting individual 2022-08-25 15:10:00,\n    id_          x          y                 label           timestamp\n 0  123   3.235074  -2.562005    sitting individual 2022-08-25 15:35:00\n 1  132  11.442176 -13.396248    sitting individual 2022-08-25 15:35:00\n 2  134  11.615871 -11.333617  standing interactive 2022-08-25 15:35:00\n 3  135  11.355329 -12.267229   sitting interactive 2022-08-25 15:35:00\n 4  136   2.496870  -8.402509  standing interactive 2022-08-25 15:35:00\n 5  137   6.405013 -13.939046   standing individual 2022-08-25 15:35:00\n 6  138  10.508564  -1.910648    sitting individual 2022-08-25 15:35:00,\n    id_          x          y                 label           timestamp\n 0  123   3.235074  -2.562005    sitting individual 2022-08-25 16:00:00\n 1  132  11.442176 -13.396248    sitting individual 2022-08-25 16:00:00\n 2  135  11.355329 -12.267229   sitting interactive 2022-08-25 16:00:00\n 3  136   2.496870  -8.402509  standing interactive 2022-08-25 16:00:00\n 4  138  10.508564  -1.910648    sitting individual 2022-08-25 16:00:00]"
     },
     "execution_count": 221,
     "metadata": {},
     "output_type": "execute_result"
    }
   ],
   "source": [
    "b_frames"
   ],
   "metadata": {
    "collapsed": false,
    "pycharm": {
     "name": "#%%\n"
    }
   }
  },
  {
   "cell_type": "code",
   "execution_count": 222,
   "outputs": [],
   "source": [
    "B = pd.concat(b_frames, ignore_index=True)"
   ],
   "metadata": {
    "collapsed": false,
    "pycharm": {
     "name": "#%%\n"
    }
   }
  },
  {
   "cell_type": "code",
   "execution_count": 223,
   "outputs": [
    {
     "data": {
      "text/plain": "     id_          x          y                 label           timestamp\n0     11   7.338625  -1.867224   sitting interactive 2022-08-24 12:25:00\n1     12   6.687268  -2.149479  standing interactive 2022-08-24 12:25:00\n2     13   7.338625  -4.689772   sitting interactive 2022-08-24 12:25:00\n3     14   7.316913  -5.753656   sitting interactive 2022-08-24 12:25:00\n4     15  11.637583  -4.559501    sitting individual 2022-08-24 12:25:00\n..   ...        ...        ...                   ...                 ...\n148  123   3.235074  -2.562005    sitting individual 2022-08-25 16:00:00\n149  132  11.442176 -13.396248    sitting individual 2022-08-25 16:00:00\n150  135  11.355329 -12.267229   sitting interactive 2022-08-25 16:00:00\n151  136   2.496870  -8.402509  standing interactive 2022-08-25 16:00:00\n152  138  10.508564  -1.910648    sitting individual 2022-08-25 16:00:00\n\n[153 rows x 5 columns]",
      "text/html": "<div>\n<style scoped>\n    .dataframe tbody tr th:only-of-type {\n        vertical-align: middle;\n    }\n\n    .dataframe tbody tr th {\n        vertical-align: top;\n    }\n\n    .dataframe thead th {\n        text-align: right;\n    }\n</style>\n<table border=\"1\" class=\"dataframe\">\n  <thead>\n    <tr style=\"text-align: right;\">\n      <th></th>\n      <th>id_</th>\n      <th>x</th>\n      <th>y</th>\n      <th>label</th>\n      <th>timestamp</th>\n    </tr>\n  </thead>\n  <tbody>\n    <tr>\n      <th>0</th>\n      <td>11</td>\n      <td>7.338625</td>\n      <td>-1.867224</td>\n      <td>sitting interactive</td>\n      <td>2022-08-24 12:25:00</td>\n    </tr>\n    <tr>\n      <th>1</th>\n      <td>12</td>\n      <td>6.687268</td>\n      <td>-2.149479</td>\n      <td>standing interactive</td>\n      <td>2022-08-24 12:25:00</td>\n    </tr>\n    <tr>\n      <th>2</th>\n      <td>13</td>\n      <td>7.338625</td>\n      <td>-4.689772</td>\n      <td>sitting interactive</td>\n      <td>2022-08-24 12:25:00</td>\n    </tr>\n    <tr>\n      <th>3</th>\n      <td>14</td>\n      <td>7.316913</td>\n      <td>-5.753656</td>\n      <td>sitting interactive</td>\n      <td>2022-08-24 12:25:00</td>\n    </tr>\n    <tr>\n      <th>4</th>\n      <td>15</td>\n      <td>11.637583</td>\n      <td>-4.559501</td>\n      <td>sitting individual</td>\n      <td>2022-08-24 12:25:00</td>\n    </tr>\n    <tr>\n      <th>...</th>\n      <td>...</td>\n      <td>...</td>\n      <td>...</td>\n      <td>...</td>\n      <td>...</td>\n    </tr>\n    <tr>\n      <th>148</th>\n      <td>123</td>\n      <td>3.235074</td>\n      <td>-2.562005</td>\n      <td>sitting individual</td>\n      <td>2022-08-25 16:00:00</td>\n    </tr>\n    <tr>\n      <th>149</th>\n      <td>132</td>\n      <td>11.442176</td>\n      <td>-13.396248</td>\n      <td>sitting individual</td>\n      <td>2022-08-25 16:00:00</td>\n    </tr>\n    <tr>\n      <th>150</th>\n      <td>135</td>\n      <td>11.355329</td>\n      <td>-12.267229</td>\n      <td>sitting interactive</td>\n      <td>2022-08-25 16:00:00</td>\n    </tr>\n    <tr>\n      <th>151</th>\n      <td>136</td>\n      <td>2.496870</td>\n      <td>-8.402509</td>\n      <td>standing interactive</td>\n      <td>2022-08-25 16:00:00</td>\n    </tr>\n    <tr>\n      <th>152</th>\n      <td>138</td>\n      <td>10.508564</td>\n      <td>-1.910648</td>\n      <td>sitting individual</td>\n      <td>2022-08-25 16:00:00</td>\n    </tr>\n  </tbody>\n</table>\n<p>153 rows × 5 columns</p>\n</div>"
     },
     "execution_count": 223,
     "metadata": {},
     "output_type": "execute_result"
    }
   ],
   "source": [
    "B"
   ],
   "metadata": {
    "collapsed": false,
    "pycharm": {
     "name": "#%%\n"
    }
   }
  },
  {
   "cell_type": "code",
   "execution_count": 224,
   "outputs": [],
   "source": [
    "B.to_csv('B.csv')"
   ],
   "metadata": {
    "collapsed": false,
    "pycharm": {
     "name": "#%%\n"
    }
   }
  },
  {
   "cell_type": "markdown",
   "source": [
    "# Data Visualization"
   ],
   "metadata": {
    "collapsed": false
   }
  },
  {
   "cell_type": "code",
   "execution_count": 227,
   "outputs": [
    {
     "data": {
      "text/plain": "0       4.408908\n1       2.664940\n2       6.348828\n3      15.519357\n4      20.045836\n         ...    \n137    19.007293\n138    19.242435\n139    16.420734\n140    15.382191\n141    13.951745\nName: x, Length: 142, dtype: float64"
     },
     "execution_count": 227,
     "metadata": {},
     "output_type": "execute_result"
    }
   ],
   "source": [
    "A['x']"
   ],
   "metadata": {
    "collapsed": false,
    "pycharm": {
     "name": "#%%\n"
    }
   }
  },
  {
   "cell_type": "code",
   "execution_count": 229,
   "outputs": [
    {
     "name": "stdout",
     "output_type": "stream",
     "text": [
      "<class 'pandas.core.frame.DataFrame'>\n",
      "RangeIndex: 142 entries, 0 to 141\n",
      "Data columns (total 5 columns):\n",
      " #   Column     Non-Null Count  Dtype         \n",
      "---  ------     --------------  -----         \n",
      " 0   id_        142 non-null    float64       \n",
      " 1   x          142 non-null    float64       \n",
      " 2   y          142 non-null    float64       \n",
      " 3   label      142 non-null    object        \n",
      " 4   timestamp  142 non-null    datetime64[ns]\n",
      "dtypes: datetime64[ns](1), float64(3), object(1)\n",
      "memory usage: 5.7+ KB\n"
     ]
    }
   ],
   "source": [
    "A.info(verbose=True)"
   ],
   "metadata": {
    "collapsed": false,
    "pycharm": {
     "name": "#%%\n"
    }
   }
  },
  {
   "cell_type": "code",
   "execution_count": 230,
   "outputs": [
    {
     "data": {
      "text/plain": "              id_           x           y\ncount  142.000000  142.000000  142.000000\nmean    62.246479   16.311028   -5.224039\nstd     22.712882    5.232313    2.921983\nmin     10.000000    2.449393  -11.737493\n25%     45.250000   15.401786   -8.190772\n50%     65.000000   16.773446   -5.231904\n75%     81.000000   19.590249   -2.601256\nmax     96.000000   24.376363   -0.333118",
      "text/html": "<div>\n<style scoped>\n    .dataframe tbody tr th:only-of-type {\n        vertical-align: middle;\n    }\n\n    .dataframe tbody tr th {\n        vertical-align: top;\n    }\n\n    .dataframe thead th {\n        text-align: right;\n    }\n</style>\n<table border=\"1\" class=\"dataframe\">\n  <thead>\n    <tr style=\"text-align: right;\">\n      <th></th>\n      <th>id_</th>\n      <th>x</th>\n      <th>y</th>\n    </tr>\n  </thead>\n  <tbody>\n    <tr>\n      <th>count</th>\n      <td>142.000000</td>\n      <td>142.000000</td>\n      <td>142.000000</td>\n    </tr>\n    <tr>\n      <th>mean</th>\n      <td>62.246479</td>\n      <td>16.311028</td>\n      <td>-5.224039</td>\n    </tr>\n    <tr>\n      <th>std</th>\n      <td>22.712882</td>\n      <td>5.232313</td>\n      <td>2.921983</td>\n    </tr>\n    <tr>\n      <th>min</th>\n      <td>10.000000</td>\n      <td>2.449393</td>\n      <td>-11.737493</td>\n    </tr>\n    <tr>\n      <th>25%</th>\n      <td>45.250000</td>\n      <td>15.401786</td>\n      <td>-8.190772</td>\n    </tr>\n    <tr>\n      <th>50%</th>\n      <td>65.000000</td>\n      <td>16.773446</td>\n      <td>-5.231904</td>\n    </tr>\n    <tr>\n      <th>75%</th>\n      <td>81.000000</td>\n      <td>19.590249</td>\n      <td>-2.601256</td>\n    </tr>\n    <tr>\n      <th>max</th>\n      <td>96.000000</td>\n      <td>24.376363</td>\n      <td>-0.333118</td>\n    </tr>\n  </tbody>\n</table>\n</div>"
     },
     "execution_count": 230,
     "metadata": {},
     "output_type": "execute_result"
    }
   ],
   "source": [
    "A.describe()"
   ],
   "metadata": {
    "collapsed": false,
    "pycharm": {
     "name": "#%%\n"
    }
   }
  },
  {
   "cell_type": "code",
   "execution_count": 231,
   "outputs": [
    {
     "data": {
      "text/plain": "              id_           x           y\ncount  153.000000  153.000000  153.000000\nmean    76.993464    8.790769   -8.902876\nstd     36.785383    3.628811    3.886329\nmin     11.000000    2.431734  -14.025893\n25%     46.000000    6.253030  -12.267229\n50%     78.000000    8.749899  -10.226309\n75%    108.000000   11.333617   -5.145723\nmax    138.000000   17.977461   -1.823800",
      "text/html": "<div>\n<style scoped>\n    .dataframe tbody tr th:only-of-type {\n        vertical-align: middle;\n    }\n\n    .dataframe tbody tr th {\n        vertical-align: top;\n    }\n\n    .dataframe thead th {\n        text-align: right;\n    }\n</style>\n<table border=\"1\" class=\"dataframe\">\n  <thead>\n    <tr style=\"text-align: right;\">\n      <th></th>\n      <th>id_</th>\n      <th>x</th>\n      <th>y</th>\n    </tr>\n  </thead>\n  <tbody>\n    <tr>\n      <th>count</th>\n      <td>153.000000</td>\n      <td>153.000000</td>\n      <td>153.000000</td>\n    </tr>\n    <tr>\n      <th>mean</th>\n      <td>76.993464</td>\n      <td>8.790769</td>\n      <td>-8.902876</td>\n    </tr>\n    <tr>\n      <th>std</th>\n      <td>36.785383</td>\n      <td>3.628811</td>\n      <td>3.886329</td>\n    </tr>\n    <tr>\n      <th>min</th>\n      <td>11.000000</td>\n      <td>2.431734</td>\n      <td>-14.025893</td>\n    </tr>\n    <tr>\n      <th>25%</th>\n      <td>46.000000</td>\n      <td>6.253030</td>\n      <td>-12.267229</td>\n    </tr>\n    <tr>\n      <th>50%</th>\n      <td>78.000000</td>\n      <td>8.749899</td>\n      <td>-10.226309</td>\n    </tr>\n    <tr>\n      <th>75%</th>\n      <td>108.000000</td>\n      <td>11.333617</td>\n      <td>-5.145723</td>\n    </tr>\n    <tr>\n      <th>max</th>\n      <td>138.000000</td>\n      <td>17.977461</td>\n      <td>-1.823800</td>\n    </tr>\n  </tbody>\n</table>\n</div>"
     },
     "execution_count": 231,
     "metadata": {},
     "output_type": "execute_result"
    }
   ],
   "source": [
    "B.describe()"
   ],
   "metadata": {
    "collapsed": false,
    "pycharm": {
     "name": "#%%\n"
    }
   }
  },
  {
   "cell_type": "code",
   "execution_count": 234,
   "outputs": [],
   "source": [
    "x = A['x']"
   ],
   "metadata": {
    "collapsed": false,
    "pycharm": {
     "name": "#%%\n"
    }
   }
  },
  {
   "cell_type": "code",
   "execution_count": 235,
   "outputs": [],
   "source": [
    "y = A['y']"
   ],
   "metadata": {
    "collapsed": false,
    "pycharm": {
     "name": "#%%\n"
    }
   }
  },
  {
   "cell_type": "code",
   "execution_count": 236,
   "outputs": [
    {
     "data": {
      "text/plain": "0     -9.346885\n1     -8.249557\n2     -2.214252\n3     -5.094738\n4     -8.308343\n         ...   \n137   -1.097328\n138   -5.153524\n139   -6.231257\n140   -6.290042\n141   -5.858949\nName: y, Length: 142, dtype: float64"
     },
     "execution_count": 236,
     "metadata": {},
     "output_type": "execute_result"
    }
   ],
   "source": [
    "y"
   ],
   "metadata": {
    "collapsed": false,
    "pycharm": {
     "name": "#%%\n"
    }
   }
  },
  {
   "cell_type": "code",
   "execution_count": null,
   "outputs": [],
   "source": [],
   "metadata": {
    "collapsed": false,
    "pycharm": {
     "name": "#%%\n"
    }
   }
  },
  {
   "cell_type": "code",
   "execution_count": 239,
   "outputs": [
    {
     "name": "stderr",
     "output_type": "stream",
     "text": [
      "/Users/mappo/PycharmProjects/pythonProject/venv/lib/python3.10/site-packages/seaborn/_decorators.py:36: FutureWarning: Pass the following variable as a keyword arg: y. From version 0.12, the only valid positional argument will be `data`, and passing other arguments without an explicit keyword will result in an error or misinterpretation.\n",
      "  warnings.warn(\n",
      "/Users/mappo/PycharmProjects/pythonProject/venv/lib/python3.10/site-packages/seaborn/distributions.py:1718: UserWarning: `shade_lowest` is now deprecated in favor of `thresh`. Setting `thresh=0.05`, but please update your code.\n",
      "  warnings.warn(msg, UserWarning)\n"
     ]
    },
    {
     "data": {
      "text/plain": "<Figure size 640x480 with 1 Axes>",
      "image/png": "[encoded data removed]"
     },
     "metadata": {},
     "output_type": "display_data"
    }
   ],
   "source": [
    "ax = sn.kdeplot(x, y, cmap=\"Greens\", shade=True, shade_lowest=False)"
   ],
   "metadata": {
    "collapsed": false,
    "pycharm": {
     "name": "#%%\n"
    }
   }
  },
  {
   "cell_type": "code",
   "execution_count": 238,
   "outputs": [],
   "source": [
    "x1 = B['x']\n",
    "y1 = B['y']"
   ],
   "metadata": {
    "collapsed": false,
    "pycharm": {
     "name": "#%%\n"
    }
   }
  },
  {
   "cell_type": "code",
   "execution_count": null,
   "outputs": [],
   "source": [
    "ax2 = sn.kdeplot(x, y, cmap=\"Blues\", shade=True, shade_lowest=False)"
   ],
   "metadata": {
    "collapsed": false,
    "pycharm": {
     "name": "#%%\n"
    }
   }
  },
  {
   "cell_type": "code",
   "execution_count": 240,
   "outputs": [
    {
     "name": "stderr",
     "output_type": "stream",
     "text": [
      "/Users/mappo/PycharmProjects/pythonProject/venv/lib/python3.10/site-packages/seaborn/_decorators.py:36: FutureWarning: Pass the following variable as a keyword arg: y. From version 0.12, the only valid positional argument will be `data`, and passing other arguments without an explicit keyword will result in an error or misinterpretation.\n",
      "  warnings.warn(\n",
      "/Users/mappo/PycharmProjects/pythonProject/venv/lib/python3.10/site-packages/seaborn/distributions.py:1718: UserWarning: `shade_lowest` is now deprecated in favor of `thresh`. Setting `thresh=0.05`, but please update your code.\n",
      "  warnings.warn(msg, UserWarning)\n"
     ]
    },
    {
     "data": {
      "text/plain": "<Figure size 640x480 with 1 Axes>",
      "image/png": "[encoded data removed]"
     },
     "metadata": {},
     "output_type": "display_data"
    }
   ],
   "source": [
    "ax_ = sn.kdeplot(a1['x'], a1['y'], cmap=\"Greens\", shade=True, shade_lowest=False)"
   ],
   "metadata": {
    "collapsed": false,
    "pycharm": {
     "name": "#%%\n"
    }
   }
  },
  {
   "cell_type": "code",
   "execution_count": 241,
   "outputs": [
    {
     "name": "stderr",
     "output_type": "stream",
     "text": [
      "/Users/mappo/PycharmProjects/pythonProject/venv/lib/python3.10/site-packages/seaborn/_decorators.py:36: FutureWarning: Pass the following variable as a keyword arg: y. From version 0.12, the only valid positional argument will be `data`, and passing other arguments without an explicit keyword will result in an error or misinterpretation.\n",
      "  warnings.warn(\n",
      "/Users/mappo/PycharmProjects/pythonProject/venv/lib/python3.10/site-packages/seaborn/distributions.py:1718: UserWarning: `shade_lowest` is now deprecated in favor of `thresh`. Setting `thresh=0.05`, but please update your code.\n",
      "  warnings.warn(msg, UserWarning)\n"
     ]
    },
    {
     "data": {
      "text/plain": "<Figure size 640x480 with 1 Axes>",
      "image/png": "[encoded data removed]"
     },
     "metadata": {},
     "output_type": "display_data"
    }
   ],
   "source": [
    "ax2 = sn.kdeplot(a2['x'], a2['y'], cmap=\"Greens\", shade=True, shade_lowest=False)"
   ],
   "metadata": {
    "collapsed": false,
    "pycharm": {
     "name": "#%%\n"
    }
   }
  },
  {
   "cell_type": "code",
   "execution_count": 242,
   "outputs": [
    {
     "name": "stderr",
     "output_type": "stream",
     "text": [
      "/Users/mappo/PycharmProjects/pythonProject/venv/lib/python3.10/site-packages/seaborn/_decorators.py:36: FutureWarning: Pass the following variable as a keyword arg: y. From version 0.12, the only valid positional argument will be `data`, and passing other arguments without an explicit keyword will result in an error or misinterpretation.\n",
      "  warnings.warn(\n",
      "/Users/mappo/PycharmProjects/pythonProject/venv/lib/python3.10/site-packages/seaborn/distributions.py:1718: UserWarning: `shade_lowest` is now deprecated in favor of `thresh`. Setting `thresh=0.05`, but please update your code.\n",
      "  warnings.warn(msg, UserWarning)\n"
     ]
    },
    {
     "data": {
      "text/plain": "<Figure size 640x480 with 1 Axes>",
      "image/png": "[encoded data removed]"
     },
     "metadata": {},
     "output_type": "display_data"
    }
   ],
   "source": [
    "ax3 = sn.kdeplot(a3['x'], a3['y'], cmap=\"Greens\", shade=True, shade_lowest=False)"
   ],
   "metadata": {
    "collapsed": false,
    "pycharm": {
     "name": "#%%\n"
    }
   }
  },
  {
   "cell_type": "code",
   "execution_count": null,
   "outputs": [],
   "source": [],
   "metadata": {
    "collapsed": false,
    "pycharm": {
     "name": "#%%\n"
    }
   }
  }
 ],
 "metadata": {
  "kernelspec": {
   "display_name": "Python 3",
   "language": "python",
   "name": "python3"
  },
  "language_info": {
   "codemirror_mode": {
    "name": "ipython",
    "version": 2
   },
   "file_extension": ".py",
   "mimetype": "text/x-python",
   "name": "python",
   "nbconvert_exporter": "python",
   "pygments_lexer": "ipython2",
   "version": "2.7.6"
  }
 },
 "nbformat": 4,
 "nbformat_minor": 0
}