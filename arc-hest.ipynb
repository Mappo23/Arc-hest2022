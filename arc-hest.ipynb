{
 "cells": [
  {
   "cell_type": "code",
   "execution_count": 3,
   "metadata": {
    "collapsed": true
   },
   "outputs": [],
   "source": [
    "import pandas as pd\n",
    "import seaborn as sn"
   ]
  },
  {
   "cell_type": "code",
   "execution_count": 4,
   "outputs": [],
   "source": [
    "import numpy as np\n",
    "import matplotlib\n",
    "import matplotlib.pyplot as plt"
   ],
   "metadata": {
    "collapsed": false,
    "pycharm": {
     "name": "#%%\n"
    }
   }
  },
  {
   "cell_type": "code",
   "execution_count": 23,
   "outputs": [],
   "source": [
    "%matplotlib inline"
   ],
   "metadata": {
    "collapsed": false,
    "pycharm": {
     "name": "#%%\n"
    }
   }
  },
  {
   "cell_type": "markdown",
   "source": [
    "# Preprocessing"
   ],
   "metadata": {
    "collapsed": false
   }
  },
  {
   "cell_type": "markdown",
   "source": [
    "### Room A - Openspace"
   ],
   "metadata": {
    "collapsed": false
   }
  },
  {
   "cell_type": "code",
   "execution_count": 3,
   "outputs": [],
   "source": [
    "#first day of survey"
   ],
   "metadata": {
    "collapsed": false,
    "pycharm": {
     "name": "#%%\n"
    }
   }
  },
  {
   "cell_type": "code",
   "execution_count": 4,
   "outputs": [],
   "source": [
    "a1 = pd.read_csv('day1/A_14_00.csv')"
   ],
   "metadata": {
    "collapsed": false,
    "pycharm": {
     "name": "#%%\n"
    }
   }
  },
  {
   "cell_type": "code",
   "execution_count": 5,
   "outputs": [],
   "source": [
    "a2 = pd.read_csv('day1/A_14_35.csv')"
   ],
   "metadata": {
    "collapsed": false,
    "pycharm": {
     "name": "#%%\n"
    }
   }
  },
  {
   "cell_type": "code",
   "execution_count": 6,
   "outputs": [],
   "source": [
    "a3 = pd.read_csv('day1/A_15_40.csv')"
   ],
   "metadata": {
    "collapsed": false,
    "pycharm": {
     "name": "#%%\n"
    }
   }
  },
  {
   "cell_type": "code",
   "execution_count": 7,
   "outputs": [],
   "source": [
    "#second day of survey"
   ],
   "metadata": {
    "collapsed": false,
    "pycharm": {
     "name": "#%%\n"
    }
   }
  },
  {
   "cell_type": "code",
   "execution_count": 8,
   "outputs": [],
   "source": [
    "a4 = pd.read_csv('day2/A_10_05.csv')"
   ],
   "metadata": {
    "collapsed": false,
    "pycharm": {
     "name": "#%%\n"
    }
   }
  },
  {
   "cell_type": "code",
   "execution_count": 9,
   "outputs": [],
   "source": [
    "a5 = pd.read_csv('day2/A_10_30.csv')"
   ],
   "metadata": {
    "collapsed": false,
    "pycharm": {
     "name": "#%%\n"
    }
   }
  },
  {
   "cell_type": "code",
   "execution_count": 10,
   "outputs": [],
   "source": [
    "a6 = pd.read_csv('day2/A_10_55.csv')"
   ],
   "metadata": {
    "collapsed": false,
    "pycharm": {
     "name": "#%%\n"
    }
   }
  },
  {
   "cell_type": "code",
   "execution_count": 11,
   "outputs": [],
   "source": [
    "a7 = pd.read_csv('day2/A_11_35.csv')"
   ],
   "metadata": {
    "collapsed": false,
    "pycharm": {
     "name": "#%%\n"
    }
   }
  },
  {
   "cell_type": "code",
   "execution_count": 12,
   "outputs": [],
   "source": [
    "a8 = pd.read_csv('day2/A_11_50.csv')"
   ],
   "metadata": {
    "collapsed": false,
    "pycharm": {
     "name": "#%%\n"
    }
   }
  },
  {
   "cell_type": "code",
   "execution_count": 13,
   "outputs": [],
   "source": [
    "a9 = pd.read_csv('day2/A_12_10.csv')"
   ],
   "metadata": {
    "collapsed": false,
    "pycharm": {
     "name": "#%%\n"
    }
   }
  },
  {
   "cell_type": "code",
   "execution_count": 14,
   "outputs": [],
   "source": [
    "a10 = pd.read_csv('day2/A_12_25.csv')"
   ],
   "metadata": {
    "collapsed": false,
    "pycharm": {
     "name": "#%%\n"
    }
   }
  },
  {
   "cell_type": "code",
   "execution_count": 15,
   "outputs": [],
   "source": [
    "a11 = pd.read_csv('day2/A_14_30.csv')"
   ],
   "metadata": {
    "collapsed": false,
    "pycharm": {
     "name": "#%%\n"
    }
   }
  },
  {
   "cell_type": "code",
   "execution_count": 16,
   "outputs": [],
   "source": [
    "a12 = pd.read_csv('day2/A_14_50.csv')"
   ],
   "metadata": {
    "collapsed": false,
    "pycharm": {
     "name": "#%%\n"
    }
   }
  },
  {
   "cell_type": "code",
   "execution_count": 17,
   "outputs": [],
   "source": [
    "a13 = pd.read_csv('day2/A_15_10.csv')"
   ],
   "metadata": {
    "collapsed": false,
    "pycharm": {
     "name": "#%%\n"
    }
   }
  },
  {
   "cell_type": "code",
   "execution_count": 18,
   "outputs": [],
   "source": [
    "a14 = pd.read_csv('day2/A_15_30.csv')"
   ],
   "metadata": {
    "collapsed": false,
    "pycharm": {
     "name": "#%%\n"
    }
   }
  },
  {
   "cell_type": "code",
   "execution_count": 19,
   "outputs": [],
   "source": [
    "a15 = pd.read_csv('day2/A_16_00.csv')"
   ],
   "metadata": {
    "collapsed": false,
    "pycharm": {
     "name": "#%%\n"
    }
   }
  },
  {
   "cell_type": "code",
   "execution_count": 20,
   "outputs": [
    {
     "data": {
      "text/plain": "    Unnamed: 0  id_          x         y                 label\n0            0   10   4.408908 -9.346885   sitting interactive\n1            1   12   2.664940 -8.249557    sitting individual\n2            2   13   6.348828 -2.214252        sitting remote\n3            3   25  15.519357 -5.094738  standing interactive\n4            4   29  20.045836 -8.308343    sitting individual\n5            5   30  19.144459 -5.271095    sitting individual\n6            6   31  16.381543 -7.838059    sitting individual\n7            7   32  15.970045 -5.114333  standing interactive\n8            8   33  20.829642 -5.251500  standing interactive\n9            9   35  12.893607 -0.333118  standing interactive\n10          10   36  12.854417 -1.548017  standing interactive\n11          11   37  13.383486 -1.038543  standing interactive\n12          12   38  12.227372 -0.783806  standing interactive",
      "text/html": "<div>\n<style scoped>\n    .dataframe tbody tr th:only-of-type {\n        vertical-align: middle;\n    }\n\n    .dataframe tbody tr th {\n        vertical-align: top;\n    }\n\n    .dataframe thead th {\n        text-align: right;\n    }\n</style>\n<table border=\"1\" class=\"dataframe\">\n  <thead>\n    <tr style=\"text-align: right;\">\n      <th></th>\n      <th>Unnamed: 0</th>\n      <th>id_</th>\n      <th>x</th>\n      <th>y</th>\n      <th>label</th>\n    </tr>\n  </thead>\n  <tbody>\n    <tr>\n      <th>0</th>\n      <td>0</td>\n      <td>10</td>\n      <td>4.408908</td>\n      <td>-9.346885</td>\n      <td>sitting interactive</td>\n    </tr>\n    <tr>\n      <th>1</th>\n      <td>1</td>\n      <td>12</td>\n      <td>2.664940</td>\n      <td>-8.249557</td>\n      <td>sitting individual</td>\n    </tr>\n    <tr>\n      <th>2</th>\n      <td>2</td>\n      <td>13</td>\n      <td>6.348828</td>\n      <td>-2.214252</td>\n      <td>sitting remote</td>\n    </tr>\n    <tr>\n      <th>3</th>\n      <td>3</td>\n      <td>25</td>\n      <td>15.519357</td>\n      <td>-5.094738</td>\n      <td>standing interactive</td>\n    </tr>\n    <tr>\n      <th>4</th>\n      <td>4</td>\n      <td>29</td>\n      <td>20.045836</td>\n      <td>-8.308343</td>\n      <td>sitting individual</td>\n    </tr>\n    <tr>\n      <th>5</th>\n      <td>5</td>\n      <td>30</td>\n      <td>19.144459</td>\n      <td>-5.271095</td>\n      <td>sitting individual</td>\n    </tr>\n    <tr>\n      <th>6</th>\n      <td>6</td>\n      <td>31</td>\n      <td>16.381543</td>\n      <td>-7.838059</td>\n      <td>sitting individual</td>\n    </tr>\n    <tr>\n      <th>7</th>\n      <td>7</td>\n      <td>32</td>\n      <td>15.970045</td>\n      <td>-5.114333</td>\n      <td>standing interactive</td>\n    </tr>\n    <tr>\n      <th>8</th>\n      <td>8</td>\n      <td>33</td>\n      <td>20.829642</td>\n      <td>-5.251500</td>\n      <td>standing interactive</td>\n    </tr>\n    <tr>\n      <th>9</th>\n      <td>9</td>\n      <td>35</td>\n      <td>12.893607</td>\n      <td>-0.333118</td>\n      <td>standing interactive</td>\n    </tr>\n    <tr>\n      <th>10</th>\n      <td>10</td>\n      <td>36</td>\n      <td>12.854417</td>\n      <td>-1.548017</td>\n      <td>standing interactive</td>\n    </tr>\n    <tr>\n      <th>11</th>\n      <td>11</td>\n      <td>37</td>\n      <td>13.383486</td>\n      <td>-1.038543</td>\n      <td>standing interactive</td>\n    </tr>\n    <tr>\n      <th>12</th>\n      <td>12</td>\n      <td>38</td>\n      <td>12.227372</td>\n      <td>-0.783806</td>\n      <td>standing interactive</td>\n    </tr>\n  </tbody>\n</table>\n</div>"
     },
     "execution_count": 20,
     "metadata": {},
     "output_type": "execute_result"
    }
   ],
   "source": [
    "a1"
   ],
   "metadata": {
    "collapsed": false,
    "pycharm": {
     "name": "#%%\n"
    }
   }
  },
  {
   "cell_type": "code",
   "execution_count": 21,
   "outputs": [
    {
     "name": "stdout",
     "output_type": "stream",
     "text": [
      "<class 'pandas.core.frame.DataFrame'>\n",
      "RangeIndex: 13 entries, 0 to 12\n",
      "Data columns (total 5 columns):\n",
      " #   Column      Non-Null Count  Dtype  \n",
      "---  ------      --------------  -----  \n",
      " 0   Unnamed: 0  13 non-null     int64  \n",
      " 1   id_         13 non-null     int64  \n",
      " 2   x           13 non-null     float64\n",
      " 3   y           13 non-null     float64\n",
      " 4   label       13 non-null     object \n",
      "dtypes: float64(2), int64(2), object(1)\n",
      "memory usage: 648.0+ bytes\n"
     ]
    }
   ],
   "source": [
    "a1.info()"
   ],
   "metadata": {
    "collapsed": false,
    "pycharm": {
     "name": "#%%\n"
    }
   }
  },
  {
   "cell_type": "code",
   "execution_count": 22,
   "outputs": [],
   "source": [
    "a1 = a1.drop(columns=['Unnamed: 0'])"
   ],
   "metadata": {
    "collapsed": false,
    "pycharm": {
     "name": "#%%\n"
    }
   }
  },
  {
   "cell_type": "code",
   "execution_count": 23,
   "outputs": [],
   "source": [
    "a1_timestamp = pd.Timestamp(2022, 8, 24 , 14)"
   ],
   "metadata": {
    "collapsed": false,
    "pycharm": {
     "name": "#%%\n"
    }
   }
  },
  {
   "cell_type": "code",
   "execution_count": 24,
   "outputs": [],
   "source": [
    "a1['timestamp'] = a1_timestamp"
   ],
   "metadata": {
    "collapsed": false,
    "pycharm": {
     "name": "#%%\n"
    }
   }
  },
  {
   "cell_type": "code",
   "execution_count": 25,
   "outputs": [
    {
     "data": {
      "text/plain": "    id_          x         y                 label           timestamp\n0    10   4.408908 -9.346885   sitting interactive 2022-08-24 14:00:00\n1    12   2.664940 -8.249557    sitting individual 2022-08-24 14:00:00\n2    13   6.348828 -2.214252        sitting remote 2022-08-24 14:00:00\n3    25  15.519357 -5.094738  standing interactive 2022-08-24 14:00:00\n4    29  20.045836 -8.308343    sitting individual 2022-08-24 14:00:00\n5    30  19.144459 -5.271095    sitting individual 2022-08-24 14:00:00\n6    31  16.381543 -7.838059    sitting individual 2022-08-24 14:00:00\n7    32  15.970045 -5.114333  standing interactive 2022-08-24 14:00:00\n8    33  20.829642 -5.251500  standing interactive 2022-08-24 14:00:00\n9    35  12.893607 -0.333118  standing interactive 2022-08-24 14:00:00\n10   36  12.854417 -1.548017  standing interactive 2022-08-24 14:00:00\n11   37  13.383486 -1.038543  standing interactive 2022-08-24 14:00:00\n12   38  12.227372 -0.783806  standing interactive 2022-08-24 14:00:00",
      "text/html": "<div>\n<style scoped>\n    .dataframe tbody tr th:only-of-type {\n        vertical-align: middle;\n    }\n\n    .dataframe tbody tr th {\n        vertical-align: top;\n    }\n\n    .dataframe thead th {\n        text-align: right;\n    }\n</style>\n<table border=\"1\" class=\"dataframe\">\n  <thead>\n    <tr style=\"text-align: right;\">\n      <th></th>\n      <th>id_</th>\n      <th>x</th>\n      <th>y</th>\n      <th>label</th>\n      <th>timestamp</th>\n    </tr>\n  </thead>\n  <tbody>\n    <tr>\n      <th>0</th>\n      <td>10</td>\n      <td>4.408908</td>\n      <td>-9.346885</td>\n      <td>sitting interactive</td>\n      <td>2022-08-24 14:00:00</td>\n    </tr>\n    <tr>\n      <th>1</th>\n      <td>12</td>\n      <td>2.664940</td>\n      <td>-8.249557</td>\n      <td>sitting individual</td>\n      <td>2022-08-24 14:00:00</td>\n    </tr>\n    <tr>\n      <th>2</th>\n      <td>13</td>\n      <td>6.348828</td>\n      <td>-2.214252</td>\n      <td>sitting remote</td>\n      <td>2022-08-24 14:00:00</td>\n    </tr>\n    <tr>\n      <th>3</th>\n      <td>25</td>\n      <td>15.519357</td>\n      <td>-5.094738</td>\n      <td>standing interactive</td>\n      <td>2022-08-24 14:00:00</td>\n    </tr>\n    <tr>\n      <th>4</th>\n      <td>29</td>\n      <td>20.045836</td>\n      <td>-8.308343</td>\n      <td>sitting individual</td>\n      <td>2022-08-24 14:00:00</td>\n    </tr>\n    <tr>\n      <th>5</th>\n      <td>30</td>\n      <td>19.144459</td>\n      <td>-5.271095</td>\n      <td>sitting individual</td>\n      <td>2022-08-24 14:00:00</td>\n    </tr>\n    <tr>\n      <th>6</th>\n      <td>31</td>\n      <td>16.381543</td>\n      <td>-7.838059</td>\n      <td>sitting individual</td>\n      <td>2022-08-24 14:00:00</td>\n    </tr>\n    <tr>\n      <th>7</th>\n      <td>32</td>\n      <td>15.970045</td>\n      <td>-5.114333</td>\n      <td>standing interactive</td>\n      <td>2022-08-24 14:00:00</td>\n    </tr>\n    <tr>\n      <th>8</th>\n      <td>33</td>\n      <td>20.829642</td>\n      <td>-5.251500</td>\n      <td>standing interactive</td>\n      <td>2022-08-24 14:00:00</td>\n    </tr>\n    <tr>\n      <th>9</th>\n      <td>35</td>\n      <td>12.893607</td>\n      <td>-0.333118</td>\n      <td>standing interactive</td>\n      <td>2022-08-24 14:00:00</td>\n    </tr>\n    <tr>\n      <th>10</th>\n      <td>36</td>\n      <td>12.854417</td>\n      <td>-1.548017</td>\n      <td>standing interactive</td>\n      <td>2022-08-24 14:00:00</td>\n    </tr>\n    <tr>\n      <th>11</th>\n      <td>37</td>\n      <td>13.383486</td>\n      <td>-1.038543</td>\n      <td>standing interactive</td>\n      <td>2022-08-24 14:00:00</td>\n    </tr>\n    <tr>\n      <th>12</th>\n      <td>38</td>\n      <td>12.227372</td>\n      <td>-0.783806</td>\n      <td>standing interactive</td>\n      <td>2022-08-24 14:00:00</td>\n    </tr>\n  </tbody>\n</table>\n</div>"
     },
     "execution_count": 25,
     "metadata": {},
     "output_type": "execute_result"
    }
   ],
   "source": [
    "a1"
   ],
   "metadata": {
    "collapsed": false,
    "pycharm": {
     "name": "#%%\n"
    }
   }
  },
  {
   "cell_type": "code",
   "execution_count": 26,
   "outputs": [],
   "source": [
    "a2_timestamp = pd.Timestamp(2022, 8, 24 , 14, 35)"
   ],
   "metadata": {
    "collapsed": false,
    "pycharm": {
     "name": "#%%\n"
    }
   }
  },
  {
   "cell_type": "code",
   "execution_count": 27,
   "outputs": [],
   "source": [
    "a2 = a2.drop(columns=['Unnamed: 0'])"
   ],
   "metadata": {
    "collapsed": false,
    "pycharm": {
     "name": "#%%\n"
    }
   }
  },
  {
   "cell_type": "code",
   "execution_count": 28,
   "outputs": [],
   "source": [
    "a2['timestamp'] = a2_timestamp"
   ],
   "metadata": {
    "collapsed": false,
    "pycharm": {
     "name": "#%%\n"
    }
   }
  },
  {
   "cell_type": "code",
   "execution_count": 29,
   "outputs": [
    {
     "name": "stdout",
     "output_type": "stream",
     "text": [
      "<class 'pandas.core.frame.DataFrame'>\n",
      "RangeIndex: 14 entries, 0 to 13\n",
      "Data columns (total 5 columns):\n",
      " #   Column     Non-Null Count  Dtype         \n",
      "---  ------     --------------  -----         \n",
      " 0   id_        14 non-null     int64         \n",
      " 1   x          14 non-null     float64       \n",
      " 2   y          14 non-null     float64       \n",
      " 3   label      14 non-null     object        \n",
      " 4   timestamp  14 non-null     datetime64[ns]\n",
      "dtypes: datetime64[ns](1), float64(2), int64(1), object(1)\n",
      "memory usage: 688.0+ bytes\n"
     ]
    }
   ],
   "source": [
    "a2.info()"
   ],
   "metadata": {
    "collapsed": false,
    "pycharm": {
     "name": "#%%\n"
    }
   }
  },
  {
   "cell_type": "code",
   "execution_count": 30,
   "outputs": [
    {
     "data": {
      "text/plain": "    id_          x         y                 label           timestamp\n0    12   2.664940 -8.249557    sitting individual 2022-08-24 14:35:00\n1    13   6.348828 -2.214252        sitting remote 2022-08-24 14:35:00\n2    25  15.519357 -5.094738  standing interactive 2022-08-24 14:35:00\n3    29  20.045836 -8.308343    sitting individual 2022-08-24 14:35:00\n4    30  19.144459 -5.271095    sitting individual 2022-08-24 14:35:00\n5    32  15.970045 -5.114333  standing interactive 2022-08-24 14:35:00\n6    33  20.829642 -5.251500  standing interactive 2022-08-24 14:35:00\n7    39   2.625750 -9.307695    sitting individual 2022-08-24 14:35:00\n8    40  15.480167 -2.939272   sitting interactive 2022-08-24 14:35:00\n9    41  15.480167 -1.567612   sitting interactive 2022-08-24 14:35:00\n10   42  15.362596 -2.273037   sitting interactive 2022-08-24 14:35:00\n11   43  18.987698 -1.018948    sitting individual 2022-08-24 14:35:00\n12   44   4.408908 -8.229962    sitting individual 2022-08-24 14:35:00\n13   45  10.071906 -2.214252    sitting individual 2022-08-24 14:35:00",
      "text/html": "<div>\n<style scoped>\n    .dataframe tbody tr th:only-of-type {\n        vertical-align: middle;\n    }\n\n    .dataframe tbody tr th {\n        vertical-align: top;\n    }\n\n    .dataframe thead th {\n        text-align: right;\n    }\n</style>\n<table border=\"1\" class=\"dataframe\">\n  <thead>\n    <tr style=\"text-align: right;\">\n      <th></th>\n      <th>id_</th>\n      <th>x</th>\n      <th>y</th>\n      <th>label</th>\n      <th>timestamp</th>\n    </tr>\n  </thead>\n  <tbody>\n    <tr>\n      <th>0</th>\n      <td>12</td>\n      <td>2.664940</td>\n      <td>-8.249557</td>\n      <td>sitting individual</td>\n      <td>2022-08-24 14:35:00</td>\n    </tr>\n    <tr>\n      <th>1</th>\n      <td>13</td>\n      <td>6.348828</td>\n      <td>-2.214252</td>\n      <td>sitting remote</td>\n      <td>2022-08-24 14:35:00</td>\n    </tr>\n    <tr>\n      <th>2</th>\n      <td>25</td>\n      <td>15.519357</td>\n      <td>-5.094738</td>\n      <td>standing interactive</td>\n      <td>2022-08-24 14:35:00</td>\n    </tr>\n    <tr>\n      <th>3</th>\n      <td>29</td>\n      <td>20.045836</td>\n      <td>-8.308343</td>\n      <td>sitting individual</td>\n      <td>2022-08-24 14:35:00</td>\n    </tr>\n    <tr>\n      <th>4</th>\n      <td>30</td>\n      <td>19.144459</td>\n      <td>-5.271095</td>\n      <td>sitting individual</td>\n      <td>2022-08-24 14:35:00</td>\n    </tr>\n    <tr>\n      <th>5</th>\n      <td>32</td>\n      <td>15.970045</td>\n      <td>-5.114333</td>\n      <td>standing interactive</td>\n      <td>2022-08-24 14:35:00</td>\n    </tr>\n    <tr>\n      <th>6</th>\n      <td>33</td>\n      <td>20.829642</td>\n      <td>-5.251500</td>\n      <td>standing interactive</td>\n      <td>2022-08-24 14:35:00</td>\n    </tr>\n    <tr>\n      <th>7</th>\n      <td>39</td>\n      <td>2.625750</td>\n      <td>-9.307695</td>\n      <td>sitting individual</td>\n      <td>2022-08-24 14:35:00</td>\n    </tr>\n    <tr>\n      <th>8</th>\n      <td>40</td>\n      <td>15.480167</td>\n      <td>-2.939272</td>\n      <td>sitting interactive</td>\n      <td>2022-08-24 14:35:00</td>\n    </tr>\n    <tr>\n      <th>9</th>\n      <td>41</td>\n      <td>15.480167</td>\n      <td>-1.567612</td>\n      <td>sitting interactive</td>\n      <td>2022-08-24 14:35:00</td>\n    </tr>\n    <tr>\n      <th>10</th>\n      <td>42</td>\n      <td>15.362596</td>\n      <td>-2.273037</td>\n      <td>sitting interactive</td>\n      <td>2022-08-24 14:35:00</td>\n    </tr>\n    <tr>\n      <th>11</th>\n      <td>43</td>\n      <td>18.987698</td>\n      <td>-1.018948</td>\n      <td>sitting individual</td>\n      <td>2022-08-24 14:35:00</td>\n    </tr>\n    <tr>\n      <th>12</th>\n      <td>44</td>\n      <td>4.408908</td>\n      <td>-8.229962</td>\n      <td>sitting individual</td>\n      <td>2022-08-24 14:35:00</td>\n    </tr>\n    <tr>\n      <th>13</th>\n      <td>45</td>\n      <td>10.071906</td>\n      <td>-2.214252</td>\n      <td>sitting individual</td>\n      <td>2022-08-24 14:35:00</td>\n    </tr>\n  </tbody>\n</table>\n</div>"
     },
     "execution_count": 30,
     "metadata": {},
     "output_type": "execute_result"
    }
   ],
   "source": [
    "a2"
   ],
   "metadata": {
    "collapsed": false,
    "pycharm": {
     "name": "#%%\n"
    }
   }
  },
  {
   "cell_type": "code",
   "execution_count": 31,
   "outputs": [],
   "source": [
    "a3_timestamp = pd.Timestamp(2022, 8, 24 , 15, 40)"
   ],
   "metadata": {
    "collapsed": false,
    "pycharm": {
     "name": "#%%\n"
    }
   }
  },
  {
   "cell_type": "code",
   "execution_count": 32,
   "outputs": [],
   "source": [
    "a3 = a3.drop(columns=['Unnamed: 0'])\n",
    "a3['timestamp'] = a3_timestamp"
   ],
   "metadata": {
    "collapsed": false,
    "pycharm": {
     "name": "#%%\n"
    }
   }
  },
  {
   "cell_type": "code",
   "execution_count": 33,
   "outputs": [
    {
     "data": {
      "text/plain": "    id_          x         y                 label           timestamp\n0    12   2.664940 -8.249557    sitting individual 2022-08-24 15:40:00\n1    13   6.348828 -2.214252        sitting remote 2022-08-24 15:40:00\n2    25  15.519357 -5.094738  standing interactive 2022-08-24 15:40:00\n3    29  20.045836 -8.308343    sitting individual 2022-08-24 15:40:00\n4    32  15.970045 -5.114333  standing interactive 2022-08-24 15:40:00\n5    33  20.829642 -5.251500  standing interactive 2022-08-24 15:40:00\n6    39   2.625750 -9.307695    sitting individual 2022-08-24 15:40:00\n7    44   4.408908 -8.229962    sitting individual 2022-08-24 15:40:00\n8    45  10.071906 -2.214252    sitting individual 2022-08-24 15:40:00\n9    46  16.401138 -7.740083    sitting individual 2022-08-24 15:40:00\n10   47   8.171177 -9.307695    sitting individual 2022-08-24 15:40:00\n11   48   4.408908 -9.288100    sitting individual 2022-08-24 15:40:00\n12   49  18.732961 -9.013768   sitting interactive 2022-08-24 15:40:00",
      "text/html": "<div>\n<style scoped>\n    .dataframe tbody tr th:only-of-type {\n        vertical-align: middle;\n    }\n\n    .dataframe tbody tr th {\n        vertical-align: top;\n    }\n\n    .dataframe thead th {\n        text-align: right;\n    }\n</style>\n<table border=\"1\" class=\"dataframe\">\n  <thead>\n    <tr style=\"text-align: right;\">\n      <th></th>\n      <th>id_</th>\n      <th>x</th>\n      <th>y</th>\n      <th>label</th>\n      <th>timestamp</th>\n    </tr>\n  </thead>\n  <tbody>\n    <tr>\n      <th>0</th>\n      <td>12</td>\n      <td>2.664940</td>\n      <td>-8.249557</td>\n      <td>sitting individual</td>\n      <td>2022-08-24 15:40:00</td>\n    </tr>\n    <tr>\n      <th>1</th>\n      <td>13</td>\n      <td>6.348828</td>\n      <td>-2.214252</td>\n      <td>sitting remote</td>\n      <td>2022-08-24 15:40:00</td>\n    </tr>\n    <tr>\n      <th>2</th>\n      <td>25</td>\n      <td>15.519357</td>\n      <td>-5.094738</td>\n      <td>standing interactive</td>\n      <td>2022-08-24 15:40:00</td>\n    </tr>\n    <tr>\n      <th>3</th>\n      <td>29</td>\n      <td>20.045836</td>\n      <td>-8.308343</td>\n      <td>sitting individual</td>\n      <td>2022-08-24 15:40:00</td>\n    </tr>\n    <tr>\n      <th>4</th>\n      <td>32</td>\n      <td>15.970045</td>\n      <td>-5.114333</td>\n      <td>standing interactive</td>\n      <td>2022-08-24 15:40:00</td>\n    </tr>\n    <tr>\n      <th>5</th>\n      <td>33</td>\n      <td>20.829642</td>\n      <td>-5.251500</td>\n      <td>standing interactive</td>\n      <td>2022-08-24 15:40:00</td>\n    </tr>\n    <tr>\n      <th>6</th>\n      <td>39</td>\n      <td>2.625750</td>\n      <td>-9.307695</td>\n      <td>sitting individual</td>\n      <td>2022-08-24 15:40:00</td>\n    </tr>\n    <tr>\n      <th>7</th>\n      <td>44</td>\n      <td>4.408908</td>\n      <td>-8.229962</td>\n      <td>sitting individual</td>\n      <td>2022-08-24 15:40:00</td>\n    </tr>\n    <tr>\n      <th>8</th>\n      <td>45</td>\n      <td>10.071906</td>\n      <td>-2.214252</td>\n      <td>sitting individual</td>\n      <td>2022-08-24 15:40:00</td>\n    </tr>\n    <tr>\n      <th>9</th>\n      <td>46</td>\n      <td>16.401138</td>\n      <td>-7.740083</td>\n      <td>sitting individual</td>\n      <td>2022-08-24 15:40:00</td>\n    </tr>\n    <tr>\n      <th>10</th>\n      <td>47</td>\n      <td>8.171177</td>\n      <td>-9.307695</td>\n      <td>sitting individual</td>\n      <td>2022-08-24 15:40:00</td>\n    </tr>\n    <tr>\n      <th>11</th>\n      <td>48</td>\n      <td>4.408908</td>\n      <td>-9.288100</td>\n      <td>sitting individual</td>\n      <td>2022-08-24 15:40:00</td>\n    </tr>\n    <tr>\n      <th>12</th>\n      <td>49</td>\n      <td>18.732961</td>\n      <td>-9.013768</td>\n      <td>sitting interactive</td>\n      <td>2022-08-24 15:40:00</td>\n    </tr>\n  </tbody>\n</table>\n</div>"
     },
     "execution_count": 33,
     "metadata": {},
     "output_type": "execute_result"
    }
   ],
   "source": [
    "a3"
   ],
   "metadata": {
    "collapsed": false,
    "pycharm": {
     "name": "#%%\n"
    }
   }
  },
  {
   "cell_type": "code",
   "execution_count": 34,
   "outputs": [],
   "source": [
    "a4_timestamp = pd.Timestamp(2022, 8, 25, 10, 5)\n",
    "a4 = a4.drop(columns=['Unnamed: 0'])\n",
    "a4['timestamp'] = a4_timestamp"
   ],
   "metadata": {
    "collapsed": false,
    "pycharm": {
     "name": "#%%\n"
    }
   }
  },
  {
   "cell_type": "code",
   "execution_count": 35,
   "outputs": [],
   "source": [
    "a5_timestamp = pd.Timestamp(2022, 8, 25, 10, 30)\n",
    "a5 = a5.drop(columns=['Unnamed: 0'])\n",
    "a5['timestamp'] = a5_timestamp"
   ],
   "metadata": {
    "collapsed": false,
    "pycharm": {
     "name": "#%%\n"
    }
   }
  },
  {
   "cell_type": "code",
   "execution_count": 36,
   "outputs": [],
   "source": [
    "a6_timestamp = pd.Timestamp(2022, 8, 25, 10, 55)\n",
    "a6 = a6.drop(columns=['Unnamed: 0'])\n",
    "a6['timestamp'] = a6_timestamp"
   ],
   "metadata": {
    "collapsed": false,
    "pycharm": {
     "name": "#%%\n"
    }
   }
  },
  {
   "cell_type": "code",
   "execution_count": 37,
   "outputs": [],
   "source": [
    "a7_timestamp = pd.Timestamp(2022, 8, 25, 11, 35)\n",
    "a7 = a7.drop(columns=['Unnamed: 0'])\n",
    "a7['timestamp'] = a7_timestamp"
   ],
   "metadata": {
    "collapsed": false,
    "pycharm": {
     "name": "#%%\n"
    }
   }
  },
  {
   "cell_type": "code",
   "execution_count": 38,
   "outputs": [],
   "source": [
    "a8_timestamp = pd.Timestamp(2022, 8, 25, 11, 50)\n",
    "a8 = a8.drop(columns=['Unnamed: 0'])\n",
    "a8['timestamp'] = a8_timestamp"
   ],
   "metadata": {
    "collapsed": false,
    "pycharm": {
     "name": "#%%\n"
    }
   }
  },
  {
   "cell_type": "code",
   "execution_count": 40,
   "outputs": [],
   "source": [
    "a9_timestamp = pd.Timestamp(2022, 8, 25, 12, 10)\n",
    "a9 = a9.drop(columns=['Unnamed: 0'])\n",
    "a9['timestamp'] = a9_timestamp"
   ],
   "metadata": {
    "collapsed": false,
    "pycharm": {
     "name": "#%%\n"
    }
   }
  },
  {
   "cell_type": "code",
   "execution_count": 41,
   "outputs": [],
   "source": [
    "a10_timestamp = pd.Timestamp(2022, 8, 25, 12, 25)\n",
    "a10 = a10.drop(columns=['Unnamed: 0'])\n",
    "a10['timestamp'] = a10_timestamp"
   ],
   "metadata": {
    "collapsed": false,
    "pycharm": {
     "name": "#%%\n"
    }
   }
  },
  {
   "cell_type": "code",
   "execution_count": 42,
   "outputs": [],
   "source": [
    "a11_timestamp = pd.Timestamp(2022, 8, 25, 14, 30)\n",
    "a11 = a11.drop(columns=['Unnamed: 0'])\n",
    "a11['timestamp'] = a11_timestamp"
   ],
   "metadata": {
    "collapsed": false,
    "pycharm": {
     "name": "#%%\n"
    }
   }
  },
  {
   "cell_type": "code",
   "execution_count": 43,
   "outputs": [],
   "source": [
    "a12_timestamp = pd.Timestamp(2022, 8, 25, 14, 50)\n",
    "a12 = a12.drop(columns=['Unnamed: 0'])\n",
    "a12['timestamp'] = a12_timestamp"
   ],
   "metadata": {
    "collapsed": false,
    "pycharm": {
     "name": "#%%\n"
    }
   }
  },
  {
   "cell_type": "code",
   "execution_count": 44,
   "outputs": [],
   "source": [
    "a13_timestamp = pd.Timestamp(2022, 8, 25, 15, 10)\n",
    "a13 = a13.drop(columns=['Unnamed: 0'])\n",
    "a13['timestamp'] = a13_timestamp"
   ],
   "metadata": {
    "collapsed": false,
    "pycharm": {
     "name": "#%%\n"
    }
   }
  },
  {
   "cell_type": "code",
   "execution_count": 45,
   "outputs": [],
   "source": [
    "a14_timestamp = pd.Timestamp(2022, 8, 25, 15, 30)\n",
    "a14 = a14.drop(columns=['Unnamed: 0'])\n",
    "a14['timestamp'] = a14_timestamp"
   ],
   "metadata": {
    "collapsed": false,
    "pycharm": {
     "name": "#%%\n"
    }
   }
  },
  {
   "cell_type": "code",
   "execution_count": 46,
   "outputs": [],
   "source": [
    "a15_timestamp = pd.Timestamp(2022, 8, 25, 16)\n",
    "a15 = a15.drop(columns=['Unnamed: 0'])\n",
    "a15['timestamp'] = a15_timestamp"
   ],
   "metadata": {
    "collapsed": false,
    "pycharm": {
     "name": "#%%\n"
    }
   }
  },
  {
   "cell_type": "code",
   "execution_count": 123,
   "outputs": [
    {
     "data": {
      "text/plain": "    id_          x         y                 label           timestamp\n0    10   4.408908 -9.346885   sitting interactive 2022-08-24 14:00:00\n1    12   2.664940 -8.249557    sitting individual 2022-08-24 14:00:00\n2    13   6.348828 -2.214252        sitting remote 2022-08-24 14:00:00\n3    25  15.519357 -5.094738  standing interactive 2022-08-24 14:00:00\n4    29  20.045836 -8.308343    sitting individual 2022-08-24 14:00:00\n5    30  19.144459 -5.271095    sitting individual 2022-08-24 14:00:00\n6    31  16.381543 -7.838059    sitting individual 2022-08-24 14:00:00\n7    32  15.970045 -5.114333  standing interactive 2022-08-24 14:00:00\n8    33  20.829642 -5.251500  standing interactive 2022-08-24 14:00:00\n9    35  12.893607 -0.333118  standing interactive 2022-08-24 14:00:00\n10   36  12.854417 -1.548017  standing interactive 2022-08-24 14:00:00\n11   37  13.383486 -1.038543  standing interactive 2022-08-24 14:00:00\n12   38  12.227372 -0.783806  standing interactive 2022-08-24 14:00:00",
      "text/html": "<div>\n<style scoped>\n    .dataframe tbody tr th:only-of-type {\n        vertical-align: middle;\n    }\n\n    .dataframe tbody tr th {\n        vertical-align: top;\n    }\n\n    .dataframe thead th {\n        text-align: right;\n    }\n</style>\n<table border=\"1\" class=\"dataframe\">\n  <thead>\n    <tr style=\"text-align: right;\">\n      <th></th>\n      <th>id_</th>\n      <th>x</th>\n      <th>y</th>\n      <th>label</th>\n      <th>timestamp</th>\n    </tr>\n  </thead>\n  <tbody>\n    <tr>\n      <th>0</th>\n      <td>10</td>\n      <td>4.408908</td>\n      <td>-9.346885</td>\n      <td>sitting interactive</td>\n      <td>2022-08-24 14:00:00</td>\n    </tr>\n    <tr>\n      <th>1</th>\n      <td>12</td>\n      <td>2.664940</td>\n      <td>-8.249557</td>\n      <td>sitting individual</td>\n      <td>2022-08-24 14:00:00</td>\n    </tr>\n    <tr>\n      <th>2</th>\n      <td>13</td>\n      <td>6.348828</td>\n      <td>-2.214252</td>\n      <td>sitting remote</td>\n      <td>2022-08-24 14:00:00</td>\n    </tr>\n    <tr>\n      <th>3</th>\n      <td>25</td>\n      <td>15.519357</td>\n      <td>-5.094738</td>\n      <td>standing interactive</td>\n      <td>2022-08-24 14:00:00</td>\n    </tr>\n    <tr>\n      <th>4</th>\n      <td>29</td>\n      <td>20.045836</td>\n      <td>-8.308343</td>\n      <td>sitting individual</td>\n      <td>2022-08-24 14:00:00</td>\n    </tr>\n    <tr>\n      <th>5</th>\n      <td>30</td>\n      <td>19.144459</td>\n      <td>-5.271095</td>\n      <td>sitting individual</td>\n      <td>2022-08-24 14:00:00</td>\n    </tr>\n    <tr>\n      <th>6</th>\n      <td>31</td>\n      <td>16.381543</td>\n      <td>-7.838059</td>\n      <td>sitting individual</td>\n      <td>2022-08-24 14:00:00</td>\n    </tr>\n    <tr>\n      <th>7</th>\n      <td>32</td>\n      <td>15.970045</td>\n      <td>-5.114333</td>\n      <td>standing interactive</td>\n      <td>2022-08-24 14:00:00</td>\n    </tr>\n    <tr>\n      <th>8</th>\n      <td>33</td>\n      <td>20.829642</td>\n      <td>-5.251500</td>\n      <td>standing interactive</td>\n      <td>2022-08-24 14:00:00</td>\n    </tr>\n    <tr>\n      <th>9</th>\n      <td>35</td>\n      <td>12.893607</td>\n      <td>-0.333118</td>\n      <td>standing interactive</td>\n      <td>2022-08-24 14:00:00</td>\n    </tr>\n    <tr>\n      <th>10</th>\n      <td>36</td>\n      <td>12.854417</td>\n      <td>-1.548017</td>\n      <td>standing interactive</td>\n      <td>2022-08-24 14:00:00</td>\n    </tr>\n    <tr>\n      <th>11</th>\n      <td>37</td>\n      <td>13.383486</td>\n      <td>-1.038543</td>\n      <td>standing interactive</td>\n      <td>2022-08-24 14:00:00</td>\n    </tr>\n    <tr>\n      <th>12</th>\n      <td>38</td>\n      <td>12.227372</td>\n      <td>-0.783806</td>\n      <td>standing interactive</td>\n      <td>2022-08-24 14:00:00</td>\n    </tr>\n  </tbody>\n</table>\n</div>"
     },
     "execution_count": 123,
     "metadata": {},
     "output_type": "execute_result"
    }
   ],
   "source": [
    "a1"
   ],
   "metadata": {
    "collapsed": false,
    "pycharm": {
     "name": "#%%\n"
    }
   }
  },
  {
   "cell_type": "code",
   "execution_count": 48,
   "outputs": [],
   "source": [
    "a_frames = [a1, a2, a3, a4, a5, a6, a7, a8, a9, a10, a11, a12, a13, a14, a15]"
   ],
   "metadata": {
    "collapsed": false,
    "pycharm": {
     "name": "#%%\n"
    }
   }
  },
  {
   "cell_type": "code",
   "execution_count": 49,
   "outputs": [],
   "source": [
    "A = pd.concat(a_frames, ignore_index=True)"
   ],
   "metadata": {
    "collapsed": false,
    "pycharm": {
     "name": "#%%\n"
    }
   }
  },
  {
   "cell_type": "code",
   "execution_count": 50,
   "outputs": [
    {
     "data": {
      "text/plain": "      id_          x         y                 label           timestamp\n0    10.0   4.408908 -9.346885   sitting interactive 2022-08-24 14:00:00\n1    12.0   2.664940 -8.249557    sitting individual 2022-08-24 14:00:00\n2    13.0   6.348828 -2.214252        sitting remote 2022-08-24 14:00:00\n3    25.0  15.519357 -5.094738  standing interactive 2022-08-24 14:00:00\n4    29.0  20.045836 -8.308343    sitting individual 2022-08-24 14:00:00\n..    ...        ...       ...                   ...                 ...\n137  91.0  19.007293 -1.097328    sitting individual 2022-08-25 16:00:00\n138  93.0  19.242435 -5.153524        sitting remote 2022-08-25 16:00:00\n139  94.0  16.420734 -6.231257    sitting individual 2022-08-25 16:00:00\n140  95.0  15.382191 -6.290042    sitting individual 2022-08-25 16:00:00\n141  96.0  13.951745 -5.858949   standing individual 2022-08-25 16:00:00\n\n[142 rows x 5 columns]",
      "text/html": "<div>\n<style scoped>\n    .dataframe tbody tr th:only-of-type {\n        vertical-align: middle;\n    }\n\n    .dataframe tbody tr th {\n        vertical-align: top;\n    }\n\n    .dataframe thead th {\n        text-align: right;\n    }\n</style>\n<table border=\"1\" class=\"dataframe\">\n  <thead>\n    <tr style=\"text-align: right;\">\n      <th></th>\n      <th>id_</th>\n      <th>x</th>\n      <th>y</th>\n      <th>label</th>\n      <th>timestamp</th>\n    </tr>\n  </thead>\n  <tbody>\n    <tr>\n      <th>0</th>\n      <td>10.0</td>\n      <td>4.408908</td>\n      <td>-9.346885</td>\n      <td>sitting interactive</td>\n      <td>2022-08-24 14:00:00</td>\n    </tr>\n    <tr>\n      <th>1</th>\n      <td>12.0</td>\n      <td>2.664940</td>\n      <td>-8.249557</td>\n      <td>sitting individual</td>\n      <td>2022-08-24 14:00:00</td>\n    </tr>\n    <tr>\n      <th>2</th>\n      <td>13.0</td>\n      <td>6.348828</td>\n      <td>-2.214252</td>\n      <td>sitting remote</td>\n      <td>2022-08-24 14:00:00</td>\n    </tr>\n    <tr>\n      <th>3</th>\n      <td>25.0</td>\n      <td>15.519357</td>\n      <td>-5.094738</td>\n      <td>standing interactive</td>\n      <td>2022-08-24 14:00:00</td>\n    </tr>\n    <tr>\n      <th>4</th>\n      <td>29.0</td>\n      <td>20.045836</td>\n      <td>-8.308343</td>\n      <td>sitting individual</td>\n      <td>2022-08-24 14:00:00</td>\n    </tr>\n    <tr>\n      <th>...</th>\n      <td>...</td>\n      <td>...</td>\n      <td>...</td>\n      <td>...</td>\n      <td>...</td>\n    </tr>\n    <tr>\n      <th>137</th>\n      <td>91.0</td>\n      <td>19.007293</td>\n      <td>-1.097328</td>\n      <td>sitting individual</td>\n      <td>2022-08-25 16:00:00</td>\n    </tr>\n    <tr>\n      <th>138</th>\n      <td>93.0</td>\n      <td>19.242435</td>\n      <td>-5.153524</td>\n      <td>sitting remote</td>\n      <td>2022-08-25 16:00:00</td>\n    </tr>\n    <tr>\n      <th>139</th>\n      <td>94.0</td>\n      <td>16.420734</td>\n      <td>-6.231257</td>\n      <td>sitting individual</td>\n      <td>2022-08-25 16:00:00</td>\n    </tr>\n    <tr>\n      <th>140</th>\n      <td>95.0</td>\n      <td>15.382191</td>\n      <td>-6.290042</td>\n      <td>sitting individual</td>\n      <td>2022-08-25 16:00:00</td>\n    </tr>\n    <tr>\n      <th>141</th>\n      <td>96.0</td>\n      <td>13.951745</td>\n      <td>-5.858949</td>\n      <td>standing individual</td>\n      <td>2022-08-25 16:00:00</td>\n    </tr>\n  </tbody>\n</table>\n<p>142 rows × 5 columns</p>\n</div>"
     },
     "execution_count": 50,
     "metadata": {},
     "output_type": "execute_result"
    }
   ],
   "source": [
    "A"
   ],
   "metadata": {
    "collapsed": false,
    "pycharm": {
     "name": "#%%\n"
    }
   }
  },
  {
   "cell_type": "code",
   "execution_count": 51,
   "outputs": [],
   "source": [
    "A.to_csv('A.csv')"
   ],
   "metadata": {
    "collapsed": false,
    "pycharm": {
     "name": "#%%\n"
    }
   }
  },
  {
   "cell_type": "markdown",
   "source": [
    "### Room B - Cafeteria"
   ],
   "metadata": {
    "collapsed": false
   }
  },
  {
   "cell_type": "code",
   "execution_count": 52,
   "outputs": [],
   "source": [
    "b1 = pd.read_csv('day1/B_12_25.csv')\n",
    "b2 = pd.read_csv('day1/B_13_50.csv')\n",
    "b3 = pd.read_csv('day1/B_14_50.csv')\n",
    "b4 = pd.read_csv('day1/B_15_40.csv')"
   ],
   "metadata": {
    "collapsed": false,
    "pycharm": {
     "name": "#%%\n"
    }
   }
  },
  {
   "cell_type": "code",
   "execution_count": 53,
   "outputs": [],
   "source": [
    "b5 = pd.read_csv('day2/B_10_10.csv')\n",
    "b6 = pd.read_csv('day2/B_10_35.csv')\n",
    "b7 = pd.read_csv('day2/B_11_00.csv')\n",
    "b8 = pd.read_csv('day2/B_11_35.csv')\n",
    "b9 = pd.read_csv('day2/B_11_50.csv')\n",
    "b10 = pd.read_csv('day2/B_12_10.csv')\n",
    "b11 = pd.read_csv('day2/B_12_25.csv')\n",
    "b12 = pd.read_csv('day2/B_14_45.csv')\n",
    "b13 = pd.read_csv('day2/B_14_55.csv')\n",
    "b14 = pd.read_csv('day2/B_15_10.csv')\n",
    "b15 = pd.read_csv('day2/B_15_35.csv')\n",
    "b16 = pd.read_csv('day2/B_16_00.csv')"
   ],
   "metadata": {
    "collapsed": false,
    "pycharm": {
     "name": "#%%\n"
    }
   }
  },
  {
   "cell_type": "code",
   "execution_count": 54,
   "outputs": [],
   "source": [
    "#to FIX\n",
    "b1_timestamp = pd.Timestamp(2022, 8, 24, 12, 25)\n",
    "b2_timestamp = pd.Timestamp(2022, 8, 24, 13, 50)\n",
    "b3_timestamp = pd.Timestamp(2022, 8, 24, 14, 50)\n",
    "b4_timestamp = pd.Timestamp(2022, 8, 24, 15, 40)"
   ],
   "metadata": {
    "collapsed": false,
    "pycharm": {
     "name": "#%%\n"
    }
   }
  },
  {
   "cell_type": "code",
   "execution_count": 55,
   "outputs": [],
   "source": [
    "b5_timestamp = pd.Timestamp(2022, 8, 25, 10, 10)\n",
    "b6_timestamp = pd.Timestamp(2022, 8, 25, 10, 35)\n",
    "b7_timestamp = pd.Timestamp(2022, 8, 25, 11)\n",
    "b8_timestamp = pd.Timestamp(2022, 8, 25, 11, 35)\n",
    "b9_timestamp = pd.Timestamp(2022, 8, 25, 11, 50)\n",
    "b10_timestamp = pd.Timestamp(2022, 8, 25, 12, 10)\n",
    "b11_timestamp = pd.Timestamp(2022, 8, 25, 12, 25)\n",
    "b12_timestamp = pd.Timestamp(2022, 8, 25, 14, 45)\n",
    "b13_timestamp = pd.Timestamp(2022, 8, 25, 14, 55)\n",
    "b14_timestamp = pd.Timestamp(2022, 8, 25, 15, 10)\n",
    "b15_timestamp = pd.Timestamp(2022, 8, 25, 15, 35)\n",
    "b16_timestamp = pd.Timestamp(2022, 8, 25, 16)"
   ],
   "metadata": {
    "collapsed": false,
    "pycharm": {
     "name": "#%%\n"
    }
   }
  },
  {
   "cell_type": "code",
   "execution_count": 57,
   "outputs": [],
   "source": [
    "b1 = b1.drop(columns=['Unnamed: 0'])\n",
    "b1['timestamp'] = b1_timestamp"
   ],
   "metadata": {
    "collapsed": false,
    "pycharm": {
     "name": "#%%\n"
    }
   }
  },
  {
   "cell_type": "code",
   "execution_count": 58,
   "outputs": [],
   "source": [
    "b2 = b2.drop(columns=['Unnamed: 0'])\n",
    "b2['timestamp'] = b2_timestamp"
   ],
   "metadata": {
    "collapsed": false,
    "pycharm": {
     "name": "#%%\n"
    }
   }
  },
  {
   "cell_type": "code",
   "execution_count": 59,
   "outputs": [],
   "source": [
    "b3 = b3.drop(columns=['Unnamed: 0'])\n",
    "b3['timestamp'] = b3_timestamp"
   ],
   "metadata": {
    "collapsed": false,
    "pycharm": {
     "name": "#%%\n"
    }
   }
  },
  {
   "cell_type": "code",
   "execution_count": 60,
   "outputs": [],
   "source": [
    "b4 = b4.drop(columns=['Unnamed: 0'])\n",
    "b4['timestamp'] = b4_timestamp"
   ],
   "metadata": {
    "collapsed": false,
    "pycharm": {
     "name": "#%%\n"
    }
   }
  },
  {
   "cell_type": "code",
   "execution_count": 61,
   "outputs": [],
   "source": [
    "b5 = b5.drop(columns=['Unnamed: 0'])\n",
    "b5['timestamp'] = b5_timestamp"
   ],
   "metadata": {
    "collapsed": false,
    "pycharm": {
     "name": "#%%\n"
    }
   }
  },
  {
   "cell_type": "code",
   "execution_count": 62,
   "outputs": [],
   "source": [
    "b6 = b6.drop(columns=['Unnamed: 0'])\n",
    "b6['timestamp'] = b6_timestamp"
   ],
   "metadata": {
    "collapsed": false,
    "pycharm": {
     "name": "#%%\n"
    }
   }
  },
  {
   "cell_type": "code",
   "execution_count": 63,
   "outputs": [],
   "source": [
    "b7 = b7.drop(columns=['Unnamed: 0'])\n",
    "b7['timestamp'] = b7_timestamp"
   ],
   "metadata": {
    "collapsed": false,
    "pycharm": {
     "name": "#%%\n"
    }
   }
  },
  {
   "cell_type": "code",
   "execution_count": 64,
   "outputs": [],
   "source": [
    "b8 = b8.drop(columns=['Unnamed: 0'])\n",
    "b8['timestamp'] = b8_timestamp"
   ],
   "metadata": {
    "collapsed": false,
    "pycharm": {
     "name": "#%%\n"
    }
   }
  },
  {
   "cell_type": "code",
   "execution_count": 65,
   "outputs": [],
   "source": [
    "b9 = b9.drop(columns=['Unnamed: 0'])\n",
    "b9['timestamp'] = b9_timestamp"
   ],
   "metadata": {
    "collapsed": false,
    "pycharm": {
     "name": "#%%\n"
    }
   }
  },
  {
   "cell_type": "code",
   "execution_count": 66,
   "outputs": [],
   "source": [
    "b10 = b10.drop(columns=['Unnamed: 0'])\n",
    "b10['timestamp'] = b10_timestamp"
   ],
   "metadata": {
    "collapsed": false,
    "pycharm": {
     "name": "#%%\n"
    }
   }
  },
  {
   "cell_type": "code",
   "execution_count": 67,
   "outputs": [],
   "source": [
    "b11 = b11.drop(columns=['Unnamed: 0'])\n",
    "b11['timestamp'] = b11_timestamp"
   ],
   "metadata": {
    "collapsed": false,
    "pycharm": {
     "name": "#%%\n"
    }
   }
  },
  {
   "cell_type": "code",
   "execution_count": 68,
   "outputs": [],
   "source": [
    "b12 = b12.drop(columns=['Unnamed: 0'])\n",
    "b12['timestamp'] = b12_timestamp"
   ],
   "metadata": {
    "collapsed": false,
    "pycharm": {
     "name": "#%%\n"
    }
   }
  },
  {
   "cell_type": "code",
   "execution_count": 69,
   "outputs": [],
   "source": [
    "b13 = b13.drop(columns=['Unnamed: 0'])\n",
    "b13['timestamp'] = b13_timestamp"
   ],
   "metadata": {
    "collapsed": false,
    "pycharm": {
     "name": "#%%\n"
    }
   }
  },
  {
   "cell_type": "code",
   "execution_count": 70,
   "outputs": [],
   "source": [
    "b14 = b14.drop(columns=['Unnamed: 0'])\n",
    "b14['timestamp'] = b14_timestamp"
   ],
   "metadata": {
    "collapsed": false,
    "pycharm": {
     "name": "#%%\n"
    }
   }
  },
  {
   "cell_type": "code",
   "execution_count": 71,
   "outputs": [],
   "source": [
    "b15 = b15.drop(columns=['Unnamed: 0'])\n",
    "b15['timestamp'] = b15_timestamp"
   ],
   "metadata": {
    "collapsed": false,
    "pycharm": {
     "name": "#%%\n"
    }
   }
  },
  {
   "cell_type": "code",
   "execution_count": 72,
   "outputs": [],
   "source": [
    "b16 = b16.drop(columns=['Unnamed: 0'])\n",
    "b16['timestamp'] = b16_timestamp"
   ],
   "metadata": {
    "collapsed": false,
    "pycharm": {
     "name": "#%%\n"
    }
   }
  },
  {
   "cell_type": "code",
   "execution_count": 73,
   "outputs": [],
   "source": [
    "b_frames = [b1, b2, b3, b4, b5, b6, b7, b8, b9, b10, b11, b12, b13, b14, b15, b16]"
   ],
   "metadata": {
    "collapsed": false,
    "pycharm": {
     "name": "#%%\n"
    }
   }
  },
  {
   "cell_type": "code",
   "execution_count": 74,
   "outputs": [
    {
     "data": {
      "text/plain": "[    id_          x          y                 label           timestamp\n 0    11   7.338625  -1.867224   sitting interactive 2022-08-24 12:25:00\n 1    12   6.687268  -2.149479  standing interactive 2022-08-24 12:25:00\n 2    13   7.338625  -4.689772   sitting interactive 2022-08-24 12:25:00\n 3    14   7.316913  -5.753656   sitting interactive 2022-08-24 12:25:00\n 4    15  11.637583  -4.559501    sitting individual 2022-08-24 12:25:00\n 5    16   5.753656  -8.576204   sitting interactive 2022-08-24 12:25:00\n 6    17   6.491861  -8.597916   sitting interactive 2022-08-24 12:25:00\n 7    18   7.121506  -8.576204   sitting interactive 2022-08-24 12:25:00\n 8    19   5.797080 -10.313157   sitting interactive 2022-08-24 12:25:00\n 9    20   6.383301 -10.248021   sitting interactive 2022-08-24 12:25:00\n 10   21   7.164930 -10.269733   sitting interactive 2022-08-24 12:25:00\n 11   22   4.516077  -8.033406  standing interactive 2022-08-24 12:25:00\n 12   23   5.275994  -8.076830  standing interactive 2022-08-24 12:25:00\n 13   24   6.253030 -11.246769  standing interactive 2022-08-24 12:25:00\n 14   25   4.972027 -11.333617  standing interactive 2022-08-24 12:25:00\n 15   26   5.558249 -10.942802  standing interactive 2022-08-24 12:25:00\n 16   27   7.360337 -11.333617  standing interactive 2022-08-24 12:25:00\n 17   28   7.837999 -11.377040  standing interactive 2022-08-24 12:25:00\n 18   29   8.293949 -11.355329  standing interactive 2022-08-24 12:25:00\n 19   30  11.333617 -11.377040  standing interactive 2022-08-24 12:25:00\n 20   31  11.051362 -11.094786  standing interactive 2022-08-24 12:25:00\n 21   32  11.963262 -10.769107  standing interactive 2022-08-24 12:25:00\n 22   33  11.984974 -10.161174  standing interactive 2022-08-24 12:25:00\n 23   34   4.841756  -2.909396    sitting individual 2022-08-24 12:25:00\n 24   35  17.934037  -9.314409    sitting individual 2022-08-24 12:25:00\n 25   36   9.227561  -8.532780   sitting interactive 2022-08-24 12:25:00\n 26   37   9.227561 -10.291445   sitting interactive 2022-08-24 12:25:00,\n    id_          x          y                 label           timestamp\n 0   38  11.333617 -13.439672    sitting individual 2022-08-24 13:50:00\n 1   39   7.295202  -5.797080    sitting individual 2022-08-24 13:50:00\n 2   40   4.841756  -2.931108    sitting individual 2022-08-24 13:50:00\n 3   41   7.012947 -11.355329  standing interactive 2022-08-24 13:50:00\n 4   42   6.318166 -12.440924  standing interactive 2022-08-24 13:50:00\n 5   43   7.772864 -13.939046   standing individual 2022-08-24 13:50:00\n 6   44   3.539041  -9.813783   standing individual 2022-08-24 13:50:00\n 7   45   4.429229 -10.465140   standing individual 2022-08-24 13:50:00,\n    id_          x          y                label           timestamp\n 0   38  11.333617 -13.439672   sitting individual 2022-08-24 14:50:00\n 1   46  11.355329 -12.245517   sitting individual 2022-08-24 14:50:00\n 2   47  10.551988 -10.334869   sitting individual 2022-08-24 14:50:00\n 3   48   4.885180  -2.931108   sitting individual 2022-08-24 14:50:00\n 4   49   9.705223  -4.906892   sitting individual 2022-08-24 14:50:00\n 5   50   4.060127  -5.471401  sitting interactive 2022-08-24 14:50:00\n 6   51   3.452194  -6.122758  sitting interactive 2022-08-24 14:50:00\n 7   52   9.379545 -12.571195  standing individual 2022-08-24 14:50:00,\n     id_          x          y                label           timestamp\n 0    38  11.333617 -13.439672   sitting individual 2022-08-24 15:40:00\n 1    46  11.355329 -12.245517   sitting individual 2022-08-24 15:40:00\n 2    47  10.551988 -10.334869   sitting individual 2022-08-24 15:40:00\n 3    52   9.379545 -12.571195  standing individual 2022-08-24 15:40:00\n 4    53   2.518581  -2.648853  sitting interactive 2022-08-24 15:40:00\n 5    54   2.431734  -4.212110  sitting interactive 2022-08-24 15:40:00\n 6    55   5.536537  -5.970775  sitting interactive 2022-08-24 15:40:00\n 7    56   4.928603  -5.731944  sitting interactive 2022-08-24 15:40:00\n 8    57   5.514825  -4.885180  sitting interactive 2022-08-24 15:40:00\n 9    58   9.922343 -10.313157  sitting interactive 2022-08-24 15:40:00\n 10   59  17.912325 -10.182885  sitting interactive 2022-08-24 15:40:00\n 11   60  17.977461  -9.292697  sitting interactive 2022-08-24 15:40:00\n 12   61  17.217544 -10.942802  sitting interactive 2022-08-24 15:40:00,\n    id_         x          y                 label           timestamp\n 0   62  8.771611 -13.917334  standing interactive 2022-08-25 10:10:00\n 1   63  3.604177 -13.939046  standing interactive 2022-08-25 10:10:00,\n    id_          x          y                label           timestamp\n 0   64   6.556997 -12.462636  standing individual 2022-08-25 10:35:00\n 1   65  11.333617 -13.396248   sitting individual 2022-08-25 10:35:00,\n    id_          x          y                 label           timestamp\n 0   64   6.556997 -12.462636   standing individual 2022-08-25 11:00:00\n 1   65  11.333617 -13.396248    sitting individual 2022-08-25 11:00:00\n 2   66   8.793323 -13.982470  standing interactive 2022-08-25 11:00:00,\n    id_          x          y                 label           timestamp\n 0   67   7.251778 -12.506060   standing individual 2022-08-25 11:35:00\n 1   68   5.992487 -12.571195   standing individual 2022-08-25 11:35:00\n 2   69  11.290193 -11.659295  standing interactive 2022-08-25 11:35:00\n 3   70  11.355329 -12.223805   sitting interactive 2022-08-25 11:35:00,\n    id_          x          y                 label           timestamp\n 0   72  11.268481 -13.483096   sitting interactive 2022-08-25 11:50:00\n 1   73  12.419212 -13.700215  standing interactive 2022-08-25 11:50:00\n 2   74  12.419212 -13.265977  standing interactive 2022-08-25 11:50:00\n 3   76   8.141966 -14.025893   standing individual 2022-08-25 11:50:00\n 4   77   5.818792 -10.291445    sitting individual 2022-08-25 11:50:00\n 5   78   6.665556 -14.025893   standing individual 2022-08-25 11:50:00\n 6   79  10.638836  -1.823800   sitting interactive 2022-08-25 11:50:00\n 7   80   9.857207  -3.495617   sitting interactive 2022-08-25 11:50:00\n 8   81  14.785810  -2.844260        sitting remote 2022-08-25 11:50:00,\n     id_          x          y                 label           timestamp\n 0    72  11.268481 -13.483096   sitting interactive 2022-08-25 12:10:00\n 1    78   6.665556 -14.025893   standing individual 2022-08-25 12:10:00\n 2    81  14.785810  -2.844260        sitting remote 2022-08-25 12:10:00\n 3    82  10.248021  -2.844260   sitting interactive 2022-08-25 12:10:00\n 4    83   9.661800  -4.407518   sitting interactive 2022-08-25 12:10:00\n 5    85   9.032154 -11.681007  standing interactive 2022-08-25 12:10:00\n 6    86   5.145723 -11.268481   standing individual 2022-08-25 12:10:00\n 7    87   5.710232 -11.181633   standing individual 2022-08-25 12:10:00\n 8    88   6.274742 -11.398752   standing individual 2022-08-25 12:10:00\n 9    89   7.143218  -4.472653    sitting individual 2022-08-25 12:10:00\n 10   90   5.080587  -5.753656    sitting individual 2022-08-25 12:10:00\n 11   91  15.393744  -5.058875  standing interactive 2022-08-25 12:10:00\n 12   92  15.415456  -8.076830  standing interactive 2022-08-25 12:10:00\n 13   93  10.638836 -11.659295  standing interactive 2022-08-25 12:10:00\n 14   94   7.078082 -12.701467   standing individual 2022-08-25 12:10:00,\n     id_          x          y                 label           timestamp\n 0    72  11.268481 -13.483096   sitting interactive 2022-08-25 12:25:00\n 1    78   6.665556 -14.025893   standing individual 2022-08-25 12:25:00\n 2    82  10.248021  -2.844260   sitting interactive 2022-08-25 12:25:00\n 3    83   9.661800  -4.407518   sitting interactive 2022-08-25 12:25:00\n 4    90   5.080587  -5.753656    sitting individual 2022-08-25 12:25:00\n 5    91  15.393744  -5.058875  standing interactive 2022-08-25 12:25:00\n 6    92  15.415456  -8.076830  standing interactive 2022-08-25 12:25:00\n 7    94   7.078082 -12.701467   standing individual 2022-08-25 12:25:00\n 8    95  12.115245  -9.987478  standing interactive 2022-08-25 12:25:00\n 9    96  11.594160  -9.944054  standing interactive 2022-08-25 12:25:00\n 10   97  11.724431 -10.703971  standing interactive 2022-08-25 12:25:00\n 11   99   6.405013  -8.597916   sitting interactive 2022-08-25 12:25:00\n 12  100   5.775368 -10.269733   sitting interactive 2022-08-25 12:25:00\n 13  101   6.448437 -10.204597   sitting interactive 2022-08-25 12:25:00\n 14  102   7.056371 -10.226309   sitting interactive 2022-08-25 12:25:00\n 15  103   7.121506  -8.728188   sitting interactive 2022-08-25 12:25:00\n 16  104   5.189146  -8.467645  standing interactive 2022-08-25 12:25:00\n 17  105   7.099794  -1.888936   sitting interactive 2022-08-25 12:25:00\n 18  106   7.642592  -1.867224   sitting interactive 2022-08-25 12:25:00\n 19  107   8.315661  -1.867224   sitting interactive 2022-08-25 12:25:00\n 20  108   7.099794  -3.473905   sitting interactive 2022-08-25 12:25:00\n 21  109   7.772864  -3.452194   sitting interactive 2022-08-25 12:25:00\n 22  110   2.996243  -5.753656   sitting interactive 2022-08-25 12:25:00\n 23  111   2.974532  -5.210858   sitting interactive 2022-08-25 12:25:00\n 24  112   4.016703  -5.145723   sitting interactive 2022-08-25 12:25:00,\n     id_          x          y                 label           timestamp\n 0    78   6.665556 -14.025893   standing individual 2022-08-25 14:45:00\n 1    91  15.393744  -5.058875  standing interactive 2022-08-25 14:45:00\n 2    92  15.415456  -8.076830  standing interactive 2022-08-25 14:45:00\n 3   113  14.785810  -5.645096  standing interactive 2022-08-25 14:45:00\n 4   115   9.596664 -11.377040  standing interactive 2022-08-25 14:45:00\n 5   116  10.378293 -13.895622  standing interactive 2022-08-25 14:45:00\n 6   117  10.877667 -13.960758  standing interactive 2022-08-25 14:45:00\n 7   118  10.573700 -10.248021    sitting individual 2022-08-25 14:45:00\n 8   119   5.493113  -4.863468   sitting interactive 2022-08-25 14:45:00\n 9   120   5.514825  -5.992487   sitting interactive 2022-08-25 14:45:00\n 10  121   8.749899 -11.398752  standing interactive 2022-08-25 14:45:00,\n    id_          x          y                 label           timestamp\n 0  122   9.661800  -4.928603    sitting individual 2022-08-25 14:55:00\n 1  123   3.235074  -2.562005    sitting individual 2022-08-25 14:55:00\n 2  124  11.290193 -13.417960   sitting interactive 2022-08-25 14:55:00\n 3  125  11.463888 -12.810026   sitting interactive 2022-08-25 14:55:00\n 4  127  11.377040 -12.419212  standing interactive 2022-08-25 14:55:00\n 5  128  11.181633  -9.422969   sitting interactive 2022-08-25 14:55:00\n 6  129  10.573700 -10.269733   sitting interactive 2022-08-25 14:55:00,\n    id_          x          y                 label           timestamp\n 0  122   9.661800  -4.928603    sitting individual 2022-08-25 15:10:00\n 1  123   3.235074  -2.562005    sitting individual 2022-08-25 15:10:00\n 2  128  11.181633  -9.422969   sitting interactive 2022-08-25 15:10:00\n 3  129  10.573700 -10.269733   sitting interactive 2022-08-25 15:10:00\n 4  130  16.739882  -7.360337  standing interactive 2022-08-25 15:10:00\n 5  131  16.761594  -4.277246  standing interactive 2022-08-25 15:10:00\n 6  132  11.442176 -13.396248    sitting individual 2022-08-25 15:10:00,\n    id_          x          y                 label           timestamp\n 0  123   3.235074  -2.562005    sitting individual 2022-08-25 15:35:00\n 1  132  11.442176 -13.396248    sitting individual 2022-08-25 15:35:00\n 2  134  11.615871 -11.333617  standing interactive 2022-08-25 15:35:00\n 3  135  11.355329 -12.267229   sitting interactive 2022-08-25 15:35:00\n 4  136   2.496870  -8.402509  standing interactive 2022-08-25 15:35:00\n 5  137   6.405013 -13.939046   standing individual 2022-08-25 15:35:00\n 6  138  10.508564  -1.910648    sitting individual 2022-08-25 15:35:00,\n    id_          x          y                 label           timestamp\n 0  123   3.235074  -2.562005    sitting individual 2022-08-25 16:00:00\n 1  132  11.442176 -13.396248    sitting individual 2022-08-25 16:00:00\n 2  135  11.355329 -12.267229   sitting interactive 2022-08-25 16:00:00\n 3  136   2.496870  -8.402509  standing interactive 2022-08-25 16:00:00\n 4  138  10.508564  -1.910648    sitting individual 2022-08-25 16:00:00]"
     },
     "execution_count": 74,
     "metadata": {},
     "output_type": "execute_result"
    }
   ],
   "source": [
    "b_frames"
   ],
   "metadata": {
    "collapsed": false,
    "pycharm": {
     "name": "#%%\n"
    }
   }
  },
  {
   "cell_type": "code",
   "execution_count": 75,
   "outputs": [],
   "source": [
    "B = pd.concat(b_frames, ignore_index=True)"
   ],
   "metadata": {
    "collapsed": false,
    "pycharm": {
     "name": "#%%\n"
    }
   }
  },
  {
   "cell_type": "code",
   "execution_count": 76,
   "outputs": [
    {
     "data": {
      "text/plain": "     id_          x          y                 label           timestamp\n0     11   7.338625  -1.867224   sitting interactive 2022-08-24 12:25:00\n1     12   6.687268  -2.149479  standing interactive 2022-08-24 12:25:00\n2     13   7.338625  -4.689772   sitting interactive 2022-08-24 12:25:00\n3     14   7.316913  -5.753656   sitting interactive 2022-08-24 12:25:00\n4     15  11.637583  -4.559501    sitting individual 2022-08-24 12:25:00\n..   ...        ...        ...                   ...                 ...\n148  123   3.235074  -2.562005    sitting individual 2022-08-25 16:00:00\n149  132  11.442176 -13.396248    sitting individual 2022-08-25 16:00:00\n150  135  11.355329 -12.267229   sitting interactive 2022-08-25 16:00:00\n151  136   2.496870  -8.402509  standing interactive 2022-08-25 16:00:00\n152  138  10.508564  -1.910648    sitting individual 2022-08-25 16:00:00\n\n[153 rows x 5 columns]",
      "text/html": "<div>\n<style scoped>\n    .dataframe tbody tr th:only-of-type {\n        vertical-align: middle;\n    }\n\n    .dataframe tbody tr th {\n        vertical-align: top;\n    }\n\n    .dataframe thead th {\n        text-align: right;\n    }\n</style>\n<table border=\"1\" class=\"dataframe\">\n  <thead>\n    <tr style=\"text-align: right;\">\n      <th></th>\n      <th>id_</th>\n      <th>x</th>\n      <th>y</th>\n      <th>label</th>\n      <th>timestamp</th>\n    </tr>\n  </thead>\n  <tbody>\n    <tr>\n      <th>0</th>\n      <td>11</td>\n      <td>7.338625</td>\n      <td>-1.867224</td>\n      <td>sitting interactive</td>\n      <td>2022-08-24 12:25:00</td>\n    </tr>\n    <tr>\n      <th>1</th>\n      <td>12</td>\n      <td>6.687268</td>\n      <td>-2.149479</td>\n      <td>standing interactive</td>\n      <td>2022-08-24 12:25:00</td>\n    </tr>\n    <tr>\n      <th>2</th>\n      <td>13</td>\n      <td>7.338625</td>\n      <td>-4.689772</td>\n      <td>sitting interactive</td>\n      <td>2022-08-24 12:25:00</td>\n    </tr>\n    <tr>\n      <th>3</th>\n      <td>14</td>\n      <td>7.316913</td>\n      <td>-5.753656</td>\n      <td>sitting interactive</td>\n      <td>2022-08-24 12:25:00</td>\n    </tr>\n    <tr>\n      <th>4</th>\n      <td>15</td>\n      <td>11.637583</td>\n      <td>-4.559501</td>\n      <td>sitting individual</td>\n      <td>2022-08-24 12:25:00</td>\n    </tr>\n    <tr>\n      <th>...</th>\n      <td>...</td>\n      <td>...</td>\n      <td>...</td>\n      <td>...</td>\n      <td>...</td>\n    </tr>\n    <tr>\n      <th>148</th>\n      <td>123</td>\n      <td>3.235074</td>\n      <td>-2.562005</td>\n      <td>sitting individual</td>\n      <td>2022-08-25 16:00:00</td>\n    </tr>\n    <tr>\n      <th>149</th>\n      <td>132</td>\n      <td>11.442176</td>\n      <td>-13.396248</td>\n      <td>sitting individual</td>\n      <td>2022-08-25 16:00:00</td>\n    </tr>\n    <tr>\n      <th>150</th>\n      <td>135</td>\n      <td>11.355329</td>\n      <td>-12.267229</td>\n      <td>sitting interactive</td>\n      <td>2022-08-25 16:00:00</td>\n    </tr>\n    <tr>\n      <th>151</th>\n      <td>136</td>\n      <td>2.496870</td>\n      <td>-8.402509</td>\n      <td>standing interactive</td>\n      <td>2022-08-25 16:00:00</td>\n    </tr>\n    <tr>\n      <th>152</th>\n      <td>138</td>\n      <td>10.508564</td>\n      <td>-1.910648</td>\n      <td>sitting individual</td>\n      <td>2022-08-25 16:00:00</td>\n    </tr>\n  </tbody>\n</table>\n<p>153 rows × 5 columns</p>\n</div>"
     },
     "execution_count": 76,
     "metadata": {},
     "output_type": "execute_result"
    }
   ],
   "source": [
    "B"
   ],
   "metadata": {
    "collapsed": false,
    "pycharm": {
     "name": "#%%\n"
    }
   }
  },
  {
   "cell_type": "code",
   "execution_count": 77,
   "outputs": [],
   "source": [
    "B.to_csv('B.csv')"
   ],
   "metadata": {
    "collapsed": false,
    "pycharm": {
     "name": "#%%\n"
    }
   }
  },
  {
   "cell_type": "code",
   "execution_count": 6,
   "outputs": [],
   "source": [
    "#backup\n",
    "#A = pd.read_csv('A.csv')\n",
    "#B = pd.read_csv('B.csv')"
   ],
   "metadata": {
    "collapsed": false,
    "pycharm": {
     "name": "#%%\n"
    }
   }
  },
  {
   "cell_type": "markdown",
   "source": [
    "# Data Visualization"
   ],
   "metadata": {
    "collapsed": false
   }
  },
  {
   "cell_type": "code",
   "execution_count": 78,
   "outputs": [
    {
     "data": {
      "text/plain": "0       4.408908\n1       2.664940\n2       6.348828\n3      15.519357\n4      20.045836\n         ...    \n137    19.007293\n138    19.242435\n139    16.420734\n140    15.382191\n141    13.951745\nName: x, Length: 142, dtype: float64"
     },
     "execution_count": 78,
     "metadata": {},
     "output_type": "execute_result"
    }
   ],
   "source": [
    "A['x']"
   ],
   "metadata": {
    "collapsed": false,
    "pycharm": {
     "name": "#%%\n"
    }
   }
  },
  {
   "cell_type": "code",
   "execution_count": 7,
   "outputs": [
    {
     "data": {
      "text/plain": "       Unnamed: 0         id_           x           y\ncount  142.000000  142.000000  142.000000  142.000000\nmean    70.500000   62.246479   16.311028   -5.224039\nstd     41.135953   22.712882    5.232313    2.921983\nmin      0.000000   10.000000    2.449393  -11.737493\n25%     35.250000   45.250000   15.401786   -8.190772\n50%     70.500000   65.000000   16.773446   -5.231904\n75%    105.750000   81.000000   19.590249   -2.601256\nmax    141.000000   96.000000   24.376363   -0.333118",
      "text/html": "<div>\n<style scoped>\n    .dataframe tbody tr th:only-of-type {\n        vertical-align: middle;\n    }\n\n    .dataframe tbody tr th {\n        vertical-align: top;\n    }\n\n    .dataframe thead th {\n        text-align: right;\n    }\n</style>\n<table border=\"1\" class=\"dataframe\">\n  <thead>\n    <tr style=\"text-align: right;\">\n      <th></th>\n      <th>Unnamed: 0</th>\n      <th>id_</th>\n      <th>x</th>\n      <th>y</th>\n    </tr>\n  </thead>\n  <tbody>\n    <tr>\n      <th>count</th>\n      <td>142.000000</td>\n      <td>142.000000</td>\n      <td>142.000000</td>\n      <td>142.000000</td>\n    </tr>\n    <tr>\n      <th>mean</th>\n      <td>70.500000</td>\n      <td>62.246479</td>\n      <td>16.311028</td>\n      <td>-5.224039</td>\n    </tr>\n    <tr>\n      <th>std</th>\n      <td>41.135953</td>\n      <td>22.712882</td>\n      <td>5.232313</td>\n      <td>2.921983</td>\n    </tr>\n    <tr>\n      <th>min</th>\n      <td>0.000000</td>\n      <td>10.000000</td>\n      <td>2.449393</td>\n      <td>-11.737493</td>\n    </tr>\n    <tr>\n      <th>25%</th>\n      <td>35.250000</td>\n      <td>45.250000</td>\n      <td>15.401786</td>\n      <td>-8.190772</td>\n    </tr>\n    <tr>\n      <th>50%</th>\n      <td>70.500000</td>\n      <td>65.000000</td>\n      <td>16.773446</td>\n      <td>-5.231904</td>\n    </tr>\n    <tr>\n      <th>75%</th>\n      <td>105.750000</td>\n      <td>81.000000</td>\n      <td>19.590249</td>\n      <td>-2.601256</td>\n    </tr>\n    <tr>\n      <th>max</th>\n      <td>141.000000</td>\n      <td>96.000000</td>\n      <td>24.376363</td>\n      <td>-0.333118</td>\n    </tr>\n  </tbody>\n</table>\n</div>"
     },
     "execution_count": 7,
     "metadata": {},
     "output_type": "execute_result"
    }
   ],
   "source": [
    "A.describe()"
   ],
   "metadata": {
    "collapsed": false,
    "pycharm": {
     "name": "#%%\n"
    }
   }
  },
  {
   "cell_type": "code",
   "execution_count": 81,
   "outputs": [
    {
     "data": {
      "text/plain": "              id_           x           y\ncount  153.000000  153.000000  153.000000\nmean    76.993464    8.790769   -8.902876\nstd     36.785383    3.628811    3.886329\nmin     11.000000    2.431734  -14.025893\n25%     46.000000    6.253030  -12.267229\n50%     78.000000    8.749899  -10.226309\n75%    108.000000   11.333617   -5.145723\nmax    138.000000   17.977461   -1.823800",
      "text/html": "<div>\n<style scoped>\n    .dataframe tbody tr th:only-of-type {\n        vertical-align: middle;\n    }\n\n    .dataframe tbody tr th {\n        vertical-align: top;\n    }\n\n    .dataframe thead th {\n        text-align: right;\n    }\n</style>\n<table border=\"1\" class=\"dataframe\">\n  <thead>\n    <tr style=\"text-align: right;\">\n      <th></th>\n      <th>id_</th>\n      <th>x</th>\n      <th>y</th>\n    </tr>\n  </thead>\n  <tbody>\n    <tr>\n      <th>count</th>\n      <td>153.000000</td>\n      <td>153.000000</td>\n      <td>153.000000</td>\n    </tr>\n    <tr>\n      <th>mean</th>\n      <td>76.993464</td>\n      <td>8.790769</td>\n      <td>-8.902876</td>\n    </tr>\n    <tr>\n      <th>std</th>\n      <td>36.785383</td>\n      <td>3.628811</td>\n      <td>3.886329</td>\n    </tr>\n    <tr>\n      <th>min</th>\n      <td>11.000000</td>\n      <td>2.431734</td>\n      <td>-14.025893</td>\n    </tr>\n    <tr>\n      <th>25%</th>\n      <td>46.000000</td>\n      <td>6.253030</td>\n      <td>-12.267229</td>\n    </tr>\n    <tr>\n      <th>50%</th>\n      <td>78.000000</td>\n      <td>8.749899</td>\n      <td>-10.226309</td>\n    </tr>\n    <tr>\n      <th>75%</th>\n      <td>108.000000</td>\n      <td>11.333617</td>\n      <td>-5.145723</td>\n    </tr>\n    <tr>\n      <th>max</th>\n      <td>138.000000</td>\n      <td>17.977461</td>\n      <td>-1.823800</td>\n    </tr>\n  </tbody>\n</table>\n</div>"
     },
     "execution_count": 81,
     "metadata": {},
     "output_type": "execute_result"
    }
   ],
   "source": [
    "B.describe()"
   ],
   "metadata": {
    "collapsed": false,
    "pycharm": {
     "name": "#%%\n"
    }
   }
  },
  {
   "cell_type": "code",
   "execution_count": 82,
   "outputs": [],
   "source": [
    "x = A['x']"
   ],
   "metadata": {
    "collapsed": false,
    "pycharm": {
     "name": "#%%\n"
    }
   }
  },
  {
   "cell_type": "code",
   "execution_count": 83,
   "outputs": [],
   "source": [
    "y = A['y']"
   ],
   "metadata": {
    "collapsed": false,
    "pycharm": {
     "name": "#%%\n"
    }
   }
  },
  {
   "cell_type": "code",
   "execution_count": 236,
   "outputs": [
    {
     "data": {
      "text/plain": "0     -9.346885\n1     -8.249557\n2     -2.214252\n3     -5.094738\n4     -8.308343\n         ...   \n137   -1.097328\n138   -5.153524\n139   -6.231257\n140   -6.290042\n141   -5.858949\nName: y, Length: 142, dtype: float64"
     },
     "execution_count": 236,
     "metadata": {},
     "output_type": "execute_result"
    }
   ],
   "source": [
    "y"
   ],
   "metadata": {
    "collapsed": false,
    "pycharm": {
     "name": "#%%\n"
    }
   }
  },
  {
   "cell_type": "code",
   "execution_count": 84,
   "outputs": [
    {
     "name": "stderr",
     "output_type": "stream",
     "text": [
      "/Users/mappo/PycharmProjects/arc-hest/venv/lib/python3.10/site-packages/seaborn/_decorators.py:36: FutureWarning: Pass the following variable as a keyword arg: y. From version 0.12, the only valid positional argument will be `data`, and passing other arguments without an explicit keyword will result in an error or misinterpretation.\n",
      "  warnings.warn(\n",
      "/Users/mappo/PycharmProjects/arc-hest/venv/lib/python3.10/site-packages/seaborn/distributions.py:1718: UserWarning: `shade_lowest` is now deprecated in favor of `thresh`. Setting `thresh=0.05`, but please update your code.\n",
      "  warnings.warn(msg, UserWarning)\n"
     ]
    },
    {
     "data": {
      "text/plain": "<Figure size 640x480 with 1 Axes>",
      "image/png": "[encoded data removed]"
     },
     "metadata": {},
     "output_type": "display_data"
    }
   ],
   "source": [
    "ax = sn.kdeplot(x, y, cmap=\"Greens\", shade=True, shade_lowest=False)"
   ],
   "metadata": {
    "collapsed": false,
    "pycharm": {
     "name": "#%%\n"
    }
   }
  },
  {
   "cell_type": "code",
   "execution_count": 85,
   "outputs": [],
   "source": [
    "x1 = B['x']\n",
    "y1 = B['y']"
   ],
   "metadata": {
    "collapsed": false,
    "pycharm": {
     "name": "#%%\n"
    }
   }
  },
  {
   "cell_type": "code",
   "execution_count": 86,
   "outputs": [
    {
     "data": {
      "text/plain": "0       7.338625\n1       6.687268\n2       7.338625\n3       7.316913\n4      11.637583\n         ...    \n148     3.235074\n149    11.442176\n150    11.355329\n151     2.496870\n152    10.508564\nName: x, Length: 153, dtype: float64"
     },
     "execution_count": 86,
     "metadata": {},
     "output_type": "execute_result"
    }
   ],
   "source": [
    "x1"
   ],
   "metadata": {
    "collapsed": false,
    "pycharm": {
     "name": "#%%\n"
    }
   }
  },
  {
   "cell_type": "code",
   "execution_count": 87,
   "outputs": [
    {
     "data": {
      "text/plain": "0      -1.867224\n1      -2.149479\n2      -4.689772\n3      -5.753656\n4      -4.559501\n         ...    \n148    -2.562005\n149   -13.396248\n150   -12.267229\n151    -8.402509\n152    -1.910648\nName: y, Length: 153, dtype: float64"
     },
     "execution_count": 87,
     "metadata": {},
     "output_type": "execute_result"
    }
   ],
   "source": [
    "y1"
   ],
   "metadata": {
    "collapsed": false,
    "pycharm": {
     "name": "#%%\n"
    }
   }
  },
  {
   "cell_type": "code",
   "execution_count": 88,
   "outputs": [
    {
     "name": "stderr",
     "output_type": "stream",
     "text": [
      "/Users/mappo/PycharmProjects/arc-hest/venv/lib/python3.10/site-packages/seaborn/_decorators.py:36: FutureWarning: Pass the following variable as a keyword arg: y. From version 0.12, the only valid positional argument will be `data`, and passing other arguments without an explicit keyword will result in an error or misinterpretation.\n",
      "  warnings.warn(\n",
      "/Users/mappo/PycharmProjects/arc-hest/venv/lib/python3.10/site-packages/seaborn/distributions.py:1718: UserWarning: `shade_lowest` is now deprecated in favor of `thresh`. Setting `thresh=0.05`, but please update your code.\n",
      "  warnings.warn(msg, UserWarning)\n"
     ]
    },
    {
     "data": {
      "text/plain": "<Figure size 640x480 with 1 Axes>",
      "image/png": "[encoded data removed]"
     },
     "metadata": {},
     "output_type": "display_data"
    }
   ],
   "source": [
    "ax2 = sn.kdeplot(x1, y1, cmap=\"Reds\", shade=True, shade_lowest=False)"
   ],
   "metadata": {
    "collapsed": false,
    "pycharm": {
     "name": "#%%\n"
    }
   }
  },
  {
   "cell_type": "code",
   "execution_count": 90,
   "outputs": [
    {
     "name": "stdout",
     "output_type": "stream",
     "text": [
      "<class 'pandas.core.frame.DataFrame'>\n",
      "RangeIndex: 142 entries, 0 to 141\n",
      "Data columns (total 5 columns):\n",
      " #   Column     Non-Null Count  Dtype         \n",
      "---  ------     --------------  -----         \n",
      " 0   id_        142 non-null    float64       \n",
      " 1   x          142 non-null    float64       \n",
      " 2   y          142 non-null    float64       \n",
      " 3   label      142 non-null    object        \n",
      " 4   timestamp  142 non-null    datetime64[ns]\n",
      "dtypes: datetime64[ns](1), float64(3), object(1)\n",
      "memory usage: 5.7+ KB\n"
     ]
    }
   ],
   "source": [
    "A.info()"
   ],
   "metadata": {
    "collapsed": false,
    "pycharm": {
     "name": "#%%\n"
    }
   }
  },
  {
   "cell_type": "code",
   "execution_count": 98,
   "outputs": [
    {
     "name": "stdout",
     "output_type": "stream",
     "text": [
      "<class 'pandas.core.frame.DataFrame'>\n",
      "RangeIndex: 153 entries, 0 to 152\n",
      "Data columns (total 5 columns):\n",
      " #   Column     Non-Null Count  Dtype         \n",
      "---  ------     --------------  -----         \n",
      " 0   id_        153 non-null    int64         \n",
      " 1   x          153 non-null    float64       \n",
      " 2   y          153 non-null    float64       \n",
      " 3   label      153 non-null    object        \n",
      " 4   timestamp  153 non-null    datetime64[ns]\n",
      "dtypes: datetime64[ns](1), float64(2), int64(1), object(1)\n",
      "memory usage: 6.1+ KB\n"
     ]
    }
   ],
   "source": [
    "B.info()"
   ],
   "metadata": {
    "collapsed": false,
    "pycharm": {
     "name": "#%%\n"
    }
   }
  },
  {
   "cell_type": "code",
   "execution_count": 91,
   "outputs": [
    {
     "data": {
      "text/plain": "array(['2022-08-24T14:00:00.000000000', '2022-08-24T14:35:00.000000000',\n       '2022-08-24T15:40:00.000000000', '2022-08-25T10:05:00.000000000',\n       '2022-08-25T10:30:00.000000000', '2022-08-25T10:55:00.000000000',\n       '2022-08-25T11:35:00.000000000', '2022-08-25T11:50:00.000000000',\n       '2022-08-25T12:10:00.000000000', '2022-08-25T14:30:00.000000000',\n       '2022-08-25T14:50:00.000000000', '2022-08-25T15:10:00.000000000',\n       '2022-08-25T15:30:00.000000000', '2022-08-25T16:00:00.000000000'],\n      dtype='datetime64[ns]')"
     },
     "execution_count": 91,
     "metadata": {},
     "output_type": "execute_result"
    }
   ],
   "source": [
    "A['timestamp'].unique()"
   ],
   "metadata": {
    "collapsed": false,
    "pycharm": {
     "name": "#%%\n"
    }
   }
  },
  {
   "cell_type": "code",
   "execution_count": 95,
   "outputs": [
    {
     "data": {
      "text/plain": "array(['sitting interactive', 'sitting individual', 'sitting remote',\n       'standing interactive', 'standing individual', 'standing remote'],\n      dtype=object)"
     },
     "execution_count": 95,
     "metadata": {},
     "output_type": "execute_result"
    }
   ],
   "source": [
    "A['label'].unique()"
   ],
   "metadata": {
    "collapsed": false,
    "pycharm": {
     "name": "#%%\n"
    }
   }
  },
  {
   "cell_type": "code",
   "execution_count": 93,
   "outputs": [
    {
     "data": {
      "text/plain": "array(['sitting interactive', 'standing interactive',\n       'sitting individual', 'standing individual', 'sitting remote'],\n      dtype=object)"
     },
     "execution_count": 93,
     "metadata": {},
     "output_type": "execute_result"
    }
   ],
   "source": [
    "B['label'].unique()"
   ],
   "metadata": {
    "collapsed": false,
    "pycharm": {
     "name": "#%%\n"
    }
   }
  },
  {
   "cell_type": "code",
   "execution_count": 97,
   "outputs": [
    {
     "data": {
      "text/plain": "sitting individual      76\nsitting remote          29\nstanding interactive    18\nsitting interactive     15\nstanding individual      2\nstanding remote          2\nName: label, dtype: int64"
     },
     "execution_count": 97,
     "metadata": {},
     "output_type": "execute_result"
    }
   ],
   "source": [
    "A['label'].value_counts()"
   ],
   "metadata": {
    "collapsed": false,
    "pycharm": {
     "name": "#%%\n"
    }
   }
  },
  {
   "cell_type": "code",
   "execution_count": 96,
   "outputs": [
    {
     "data": {
      "text/plain": "sitting interactive     55\nstanding interactive    44\nsitting individual      32\nstanding individual     20\nsitting remote           2\nName: label, dtype: int64"
     },
     "execution_count": 96,
     "metadata": {},
     "output_type": "execute_result"
    }
   ],
   "source": [
    "B['label'].value_counts()"
   ],
   "metadata": {
    "collapsed": false,
    "pycharm": {
     "name": "#%%\n"
    }
   }
  },
  {
   "cell_type": "code",
   "execution_count": 99,
   "outputs": [
    {
     "data": {
      "text/plain": "timestamp            label               \n2022-08-24 14:00:00  standing interactive    7\n                     sitting individual      4\n                     sitting interactive     1\n                     sitting remote          1\n2022-08-24 14:35:00  sitting individual      7\n                     sitting interactive     3\n                     standing interactive    3\n                     sitting remote          1\n2022-08-24 15:40:00  sitting individual      8\n                     standing interactive    3\n                     sitting interactive     1\n                     sitting remote          1\n2022-08-25 10:05:00  sitting remote          4\n                     sitting individual      3\n                     sitting interactive     2\n                     standing individual     1\n2022-08-25 10:30:00  sitting individual      3\n                     sitting remote          3\n                     sitting interactive     2\n                     standing interactive    1\n2022-08-25 10:55:00  sitting individual      4\n                     sitting interactive     3\n                     sitting remote          3\n                     standing interactive    1\n2022-08-25 11:35:00  sitting individual      4\n                     sitting remote          4\n                     sitting interactive     1\n2022-08-25 11:50:00  sitting remote          3\n                     sitting individual      2\n                     sitting interactive     2\n                     standing remote         1\n2022-08-25 12:10:00  sitting individual      1\n                     standing remote         1\n2022-08-25 14:30:00  sitting individual      7\n                     sitting remote          2\n2022-08-25 14:50:00  sitting individual      9\n                     sitting remote          2\n                     standing interactive    2\n2022-08-25 15:10:00  sitting individual      9\n                     sitting remote          1\n                     standing interactive    1\n2022-08-25 15:30:00  sitting individual      8\n                     sitting remote          2\n2022-08-25 16:00:00  sitting individual      7\n                     sitting remote          2\n                     standing individual     1\nName: label, dtype: int64"
     },
     "execution_count": 99,
     "metadata": {},
     "output_type": "execute_result"
    }
   ],
   "source": [
    "A.groupby('timestamp')['label'].value_counts()"
   ],
   "metadata": {
    "collapsed": false,
    "pycharm": {
     "name": "#%%\n"
    }
   }
  },
  {
   "cell_type": "code",
   "execution_count": 8,
   "outputs": [],
   "source": [
    "A_timeseries = A.groupby('timestamp')['label'].value_counts()"
   ],
   "metadata": {
    "collapsed": false,
    "pycharm": {
     "name": "#%%\n"
    }
   }
  },
  {
   "cell_type": "code",
   "execution_count": 9,
   "outputs": [
    {
     "data": {
      "text/plain": "timestamp            label               \n2022-08-24 14:00:00  standing interactive    7\n                     sitting individual      4\n                     sitting interactive     1\n                     sitting remote          1\n2022-08-24 14:35:00  sitting individual      7\n                     sitting interactive     3\n                     standing interactive    3\n                     sitting remote          1\n2022-08-24 15:40:00  sitting individual      8\n                     standing interactive    3\n                     sitting interactive     1\n                     sitting remote          1\n2022-08-25 10:05:00  sitting remote          4\n                     sitting individual      3\n                     sitting interactive     2\n                     standing individual     1\n2022-08-25 10:30:00  sitting individual      3\n                     sitting remote          3\n                     sitting interactive     2\n                     standing interactive    1\n2022-08-25 10:55:00  sitting individual      4\n                     sitting interactive     3\n                     sitting remote          3\n                     standing interactive    1\n2022-08-25 11:35:00  sitting individual      4\n                     sitting remote          4\n                     sitting interactive     1\n2022-08-25 11:50:00  sitting remote          3\n                     sitting individual      2\n                     sitting interactive     2\n                     standing remote         1\n2022-08-25 12:10:00  sitting individual      1\n                     standing remote         1\n2022-08-25 14:30:00  sitting individual      7\n                     sitting remote          2\n2022-08-25 14:50:00  sitting individual      9\n                     sitting remote          2\n                     standing interactive    2\n2022-08-25 15:10:00  sitting individual      9\n                     sitting remote          1\n                     standing interactive    1\n2022-08-25 15:30:00  sitting individual      8\n                     sitting remote          2\n2022-08-25 16:00:00  sitting individual      7\n                     sitting remote          2\n                     standing individual     1\nName: label, dtype: int64"
     },
     "execution_count": 9,
     "metadata": {},
     "output_type": "execute_result"
    }
   ],
   "source": [
    "A_timeseries"
   ],
   "metadata": {
    "collapsed": false,
    "pycharm": {
     "name": "#%%\n"
    }
   }
  },
  {
   "cell_type": "code",
   "execution_count": 102,
   "outputs": [
    {
     "name": "stdout",
     "output_type": "stream",
     "text": [
      "<class 'pandas.core.series.Series'>\n",
      "MultiIndex: 46 entries, (Timestamp('2022-08-24 14:00:00'), 'standing interactive') to (Timestamp('2022-08-25 16:00:00'), 'standing individual')\n",
      "Series name: label\n",
      "Non-Null Count  Dtype\n",
      "--------------  -----\n",
      "46 non-null     int64\n",
      "dtypes: int64(1)\n",
      "memory usage: 732.0+ bytes\n"
     ]
    }
   ],
   "source": [
    "A_timeseries.info()"
   ],
   "metadata": {
    "collapsed": false,
    "pycharm": {
     "name": "#%%\n"
    }
   }
  },
  {
   "cell_type": "code",
   "execution_count": 107,
   "outputs": [
    {
     "data": {
      "text/plain": "count    46.000000\nmean      3.086957\nstd       2.402092\nmin       1.000000\n25%       1.000000\n50%       2.000000\n75%       4.000000\nmax       9.000000\nName: label, dtype: float64"
     },
     "execution_count": 107,
     "metadata": {},
     "output_type": "execute_result"
    }
   ],
   "source": [
    "A_timeseries.describe()"
   ],
   "metadata": {
    "collapsed": false,
    "pycharm": {
     "name": "#%%\n"
    }
   }
  },
  {
   "cell_type": "code",
   "execution_count": 12,
   "outputs": [
    {
     "data": {
      "text/plain": "                                          label\ntimestamp           label                      \n2022-08-24 14:00:00 standing interactive      7\n                    sitting individual        4\n                    sitting interactive       1\n                    sitting remote            1\n2022-08-24 14:35:00 sitting individual        7\n                    sitting interactive       3\n                    standing interactive      3\n                    sitting remote            1\n2022-08-24 15:40:00 sitting individual        8\n                    standing interactive      3\n                    sitting interactive       1\n                    sitting remote            1\n2022-08-25 10:05:00 sitting remote            4\n                    sitting individual        3\n                    sitting interactive       2\n                    standing individual       1\n2022-08-25 10:30:00 sitting individual        3\n                    sitting remote            3\n                    sitting interactive       2\n                    standing interactive      1\n2022-08-25 10:55:00 sitting individual        4\n                    sitting interactive       3\n                    sitting remote            3\n                    standing interactive      1\n2022-08-25 11:35:00 sitting individual        4\n                    sitting remote            4\n                    sitting interactive       1\n2022-08-25 11:50:00 sitting remote            3\n                    sitting individual        2\n                    sitting interactive       2\n                    standing remote           1\n2022-08-25 12:10:00 sitting individual        1\n                    standing remote           1\n2022-08-25 14:30:00 sitting individual        7\n                    sitting remote            2\n2022-08-25 14:50:00 sitting individual        9\n                    sitting remote            2\n                    standing interactive      2\n2022-08-25 15:10:00 sitting individual        9\n                    sitting remote            1\n                    standing interactive      1\n2022-08-25 15:30:00 sitting individual        8\n                    sitting remote            2\n2022-08-25 16:00:00 sitting individual        7\n                    sitting remote            2\n                    standing individual       1",
      "text/html": "<div>\n<style scoped>\n    .dataframe tbody tr th:only-of-type {\n        vertical-align: middle;\n    }\n\n    .dataframe tbody tr th {\n        vertical-align: top;\n    }\n\n    .dataframe thead th {\n        text-align: right;\n    }\n</style>\n<table border=\"1\" class=\"dataframe\">\n  <thead>\n    <tr style=\"text-align: right;\">\n      <th></th>\n      <th></th>\n      <th>label</th>\n    </tr>\n    <tr>\n      <th>timestamp</th>\n      <th>label</th>\n      <th></th>\n    </tr>\n  </thead>\n  <tbody>\n    <tr>\n      <th rowspan=\"4\" valign=\"top\">2022-08-24 14:00:00</th>\n      <th>standing interactive</th>\n      <td>7</td>\n    </tr>\n    <tr>\n      <th>sitting individual</th>\n      <td>4</td>\n    </tr>\n    <tr>\n      <th>sitting interactive</th>\n      <td>1</td>\n    </tr>\n    <tr>\n      <th>sitting remote</th>\n      <td>1</td>\n    </tr>\n    <tr>\n      <th rowspan=\"4\" valign=\"top\">2022-08-24 14:35:00</th>\n      <th>sitting individual</th>\n      <td>7</td>\n    </tr>\n    <tr>\n      <th>sitting interactive</th>\n      <td>3</td>\n    </tr>\n    <tr>\n      <th>standing interactive</th>\n      <td>3</td>\n    </tr>\n    <tr>\n      <th>sitting remote</th>\n      <td>1</td>\n    </tr>\n    <tr>\n      <th rowspan=\"4\" valign=\"top\">2022-08-24 15:40:00</th>\n      <th>sitting individual</th>\n      <td>8</td>\n    </tr>\n    <tr>\n      <th>standing interactive</th>\n      <td>3</td>\n    </tr>\n    <tr>\n      <th>sitting interactive</th>\n      <td>1</td>\n    </tr>\n    <tr>\n      <th>sitting remote</th>\n      <td>1</td>\n    </tr>\n    <tr>\n      <th rowspan=\"4\" valign=\"top\">2022-08-25 10:05:00</th>\n      <th>sitting remote</th>\n      <td>4</td>\n    </tr>\n    <tr>\n      <th>sitting individual</th>\n      <td>3</td>\n    </tr>\n    <tr>\n      <th>sitting interactive</th>\n      <td>2</td>\n    </tr>\n    <tr>\n      <th>standing individual</th>\n      <td>1</td>\n    </tr>\n    <tr>\n      <th rowspan=\"4\" valign=\"top\">2022-08-25 10:30:00</th>\n      <th>sitting individual</th>\n      <td>3</td>\n    </tr>\n    <tr>\n      <th>sitting remote</th>\n      <td>3</td>\n    </tr>\n    <tr>\n      <th>sitting interactive</th>\n      <td>2</td>\n    </tr>\n    <tr>\n      <th>standing interactive</th>\n      <td>1</td>\n    </tr>\n    <tr>\n      <th rowspan=\"4\" valign=\"top\">2022-08-25 10:55:00</th>\n      <th>sitting individual</th>\n      <td>4</td>\n    </tr>\n    <tr>\n      <th>sitting interactive</th>\n      <td>3</td>\n    </tr>\n    <tr>\n      <th>sitting remote</th>\n      <td>3</td>\n    </tr>\n    <tr>\n      <th>standing interactive</th>\n      <td>1</td>\n    </tr>\n    <tr>\n      <th rowspan=\"3\" valign=\"top\">2022-08-25 11:35:00</th>\n      <th>sitting individual</th>\n      <td>4</td>\n    </tr>\n    <tr>\n      <th>sitting remote</th>\n      <td>4</td>\n    </tr>\n    <tr>\n      <th>sitting interactive</th>\n      <td>1</td>\n    </tr>\n    <tr>\n      <th rowspan=\"4\" valign=\"top\">2022-08-25 11:50:00</th>\n      <th>sitting remote</th>\n      <td>3</td>\n    </tr>\n    <tr>\n      <th>sitting individual</th>\n      <td>2</td>\n    </tr>\n    <tr>\n      <th>sitting interactive</th>\n      <td>2</td>\n    </tr>\n    <tr>\n      <th>standing remote</th>\n      <td>1</td>\n    </tr>\n    <tr>\n      <th rowspan=\"2\" valign=\"top\">2022-08-25 12:10:00</th>\n      <th>sitting individual</th>\n      <td>1</td>\n    </tr>\n    <tr>\n      <th>standing remote</th>\n      <td>1</td>\n    </tr>\n    <tr>\n      <th rowspan=\"2\" valign=\"top\">2022-08-25 14:30:00</th>\n      <th>sitting individual</th>\n      <td>7</td>\n    </tr>\n    <tr>\n      <th>sitting remote</th>\n      <td>2</td>\n    </tr>\n    <tr>\n      <th rowspan=\"3\" valign=\"top\">2022-08-25 14:50:00</th>\n      <th>sitting individual</th>\n      <td>9</td>\n    </tr>\n    <tr>\n      <th>sitting remote</th>\n      <td>2</td>\n    </tr>\n    <tr>\n      <th>standing interactive</th>\n      <td>2</td>\n    </tr>\n    <tr>\n      <th rowspan=\"3\" valign=\"top\">2022-08-25 15:10:00</th>\n      <th>sitting individual</th>\n      <td>9</td>\n    </tr>\n    <tr>\n      <th>sitting remote</th>\n      <td>1</td>\n    </tr>\n    <tr>\n      <th>standing interactive</th>\n      <td>1</td>\n    </tr>\n    <tr>\n      <th rowspan=\"2\" valign=\"top\">2022-08-25 15:30:00</th>\n      <th>sitting individual</th>\n      <td>8</td>\n    </tr>\n    <tr>\n      <th>sitting remote</th>\n      <td>2</td>\n    </tr>\n    <tr>\n      <th rowspan=\"3\" valign=\"top\">2022-08-25 16:00:00</th>\n      <th>sitting individual</th>\n      <td>7</td>\n    </tr>\n    <tr>\n      <th>sitting remote</th>\n      <td>2</td>\n    </tr>\n    <tr>\n      <th>standing individual</th>\n      <td>1</td>\n    </tr>\n  </tbody>\n</table>\n</div>"
     },
     "execution_count": 12,
     "metadata": {},
     "output_type": "execute_result"
    }
   ],
   "source": [
    "A_timeseries"
   ],
   "metadata": {
    "collapsed": false,
    "pycharm": {
     "name": "#%%\n"
    }
   }
  },
  {
   "cell_type": "code",
   "execution_count": 11,
   "outputs": [
    {
     "ename": "AttributeError",
     "evalue": "'DataFrame' object has no attribute 'to_frame'",
     "output_type": "error",
     "traceback": [
      "\u001B[0;31m---------------------------------------------------------------------------\u001B[0m",
      "\u001B[0;31mAttributeError\u001B[0m                            Traceback (most recent call last)",
      "Input \u001B[0;32mIn [11]\u001B[0m, in \u001B[0;36m<cell line: 1>\u001B[0;34m()\u001B[0m\n\u001B[0;32m----> 1\u001B[0m A_timeseries \u001B[38;5;241m=\u001B[39m \u001B[43mA_timeseries\u001B[49m\u001B[38;5;241;43m.\u001B[39;49m\u001B[43mto_frame\u001B[49m()\n",
      "File \u001B[0;32m~/PycharmProjects/arc-hest/venv/lib/python3.10/site-packages/pandas/core/generic.py:5575\u001B[0m, in \u001B[0;36mNDFrame.__getattr__\u001B[0;34m(self, name)\u001B[0m\n\u001B[1;32m   5568\u001B[0m \u001B[38;5;28;01mif\u001B[39;00m (\n\u001B[1;32m   5569\u001B[0m     name \u001B[38;5;129;01mnot\u001B[39;00m \u001B[38;5;129;01min\u001B[39;00m \u001B[38;5;28mself\u001B[39m\u001B[38;5;241m.\u001B[39m_internal_names_set\n\u001B[1;32m   5570\u001B[0m     \u001B[38;5;129;01mand\u001B[39;00m name \u001B[38;5;129;01mnot\u001B[39;00m \u001B[38;5;129;01min\u001B[39;00m \u001B[38;5;28mself\u001B[39m\u001B[38;5;241m.\u001B[39m_metadata\n\u001B[1;32m   5571\u001B[0m     \u001B[38;5;129;01mand\u001B[39;00m name \u001B[38;5;129;01mnot\u001B[39;00m \u001B[38;5;129;01min\u001B[39;00m \u001B[38;5;28mself\u001B[39m\u001B[38;5;241m.\u001B[39m_accessors\n\u001B[1;32m   5572\u001B[0m     \u001B[38;5;129;01mand\u001B[39;00m \u001B[38;5;28mself\u001B[39m\u001B[38;5;241m.\u001B[39m_info_axis\u001B[38;5;241m.\u001B[39m_can_hold_identifiers_and_holds_name(name)\n\u001B[1;32m   5573\u001B[0m ):\n\u001B[1;32m   5574\u001B[0m     \u001B[38;5;28;01mreturn\u001B[39;00m \u001B[38;5;28mself\u001B[39m[name]\n\u001B[0;32m-> 5575\u001B[0m \u001B[38;5;28;01mreturn\u001B[39;00m \u001B[38;5;28;43mobject\u001B[39;49m\u001B[38;5;241;43m.\u001B[39;49m\u001B[38;5;21;43m__getattribute__\u001B[39;49m\u001B[43m(\u001B[49m\u001B[38;5;28;43mself\u001B[39;49m\u001B[43m,\u001B[49m\u001B[43m \u001B[49m\u001B[43mname\u001B[49m\u001B[43m)\u001B[49m\n",
      "\u001B[0;31mAttributeError\u001B[0m: 'DataFrame' object has no attribute 'to_frame'"
     ]
    }
   ],
   "source": [
    "#A_timeseries = A_timeseries.to_frame()"
   ],
   "metadata": {
    "collapsed": false,
    "pycharm": {
     "name": "#%%\n"
    }
   }
  },
  {
   "cell_type": "code",
   "execution_count": 117,
   "outputs": [],
   "source": [
    "multi_index = A_timeseries.index"
   ],
   "metadata": {
    "collapsed": false,
    "pycharm": {
     "name": "#%%\n"
    }
   }
  },
  {
   "cell_type": "code",
   "execution_count": 112,
   "outputs": [
    {
     "data": {
      "text/plain": "label\nstanding interactive    7\nsitting individual      4\nsitting interactive     1\nsitting remote          1\nName: label, dtype: int64"
     },
     "execution_count": 112,
     "metadata": {},
     "output_type": "execute_result"
    }
   ],
   "source": [
    "A_timeseries['2022-08-24 14:00:00']"
   ],
   "metadata": {
    "collapsed": false,
    "pycharm": {
     "name": "#%%\n"
    }
   }
  },
  {
   "cell_type": "code",
   "execution_count": 176,
   "outputs": [
    {
     "data": {
      "text/plain": "                                          label\ntimestamp           label                      \n2022-08-24 14:00:00 standing interactive      7\n                    sitting individual        4\n                    sitting interactive       1\n                    sitting remote            1\n2022-08-24 14:35:00 sitting individual        7\n                    sitting interactive       3\n                    standing interactive      3\n                    sitting remote            1\n2022-08-24 15:40:00 sitting individual        8\n                    standing interactive      3\n                    sitting interactive       1\n                    sitting remote            1\n2022-08-25 10:05:00 sitting remote            4\n                    sitting individual        3\n                    sitting interactive       2\n                    standing individual       1\n2022-08-25 10:30:00 sitting individual        3\n                    sitting remote            3\n                    sitting interactive       2\n                    standing interactive      1\n2022-08-25 10:55:00 sitting individual        4\n                    sitting interactive       3\n                    sitting remote            3\n                    standing interactive      1\n2022-08-25 11:35:00 sitting individual        4\n                    sitting remote            4\n                    sitting interactive       1\n2022-08-25 11:50:00 sitting remote            3\n                    sitting individual        2\n                    sitting interactive       2\n                    standing remote           1\n2022-08-25 12:10:00 sitting individual        1\n                    standing remote           1\n2022-08-25 14:30:00 sitting individual        7\n                    sitting remote            2\n2022-08-25 14:50:00 sitting individual        9\n                    sitting remote            2\n                    standing interactive      2\n2022-08-25 15:10:00 sitting individual        9\n                    sitting remote            1\n                    standing interactive      1\n2022-08-25 15:30:00 sitting individual        8\n                    sitting remote            2\n2022-08-25 16:00:00 sitting individual        7\n                    sitting remote            2\n                    standing individual       1",
      "text/html": "<div>\n<style scoped>\n    .dataframe tbody tr th:only-of-type {\n        vertical-align: middle;\n    }\n\n    .dataframe tbody tr th {\n        vertical-align: top;\n    }\n\n    .dataframe thead th {\n        text-align: right;\n    }\n</style>\n<table border=\"1\" class=\"dataframe\">\n  <thead>\n    <tr style=\"text-align: right;\">\n      <th></th>\n      <th></th>\n      <th>label</th>\n    </tr>\n    <tr>\n      <th>timestamp</th>\n      <th>label</th>\n      <th></th>\n    </tr>\n  </thead>\n  <tbody>\n    <tr>\n      <th rowspan=\"4\" valign=\"top\">2022-08-24 14:00:00</th>\n      <th>standing interactive</th>\n      <td>7</td>\n    </tr>\n    <tr>\n      <th>sitting individual</th>\n      <td>4</td>\n    </tr>\n    <tr>\n      <th>sitting interactive</th>\n      <td>1</td>\n    </tr>\n    <tr>\n      <th>sitting remote</th>\n      <td>1</td>\n    </tr>\n    <tr>\n      <th rowspan=\"4\" valign=\"top\">2022-08-24 14:35:00</th>\n      <th>sitting individual</th>\n      <td>7</td>\n    </tr>\n    <tr>\n      <th>sitting interactive</th>\n      <td>3</td>\n    </tr>\n    <tr>\n      <th>standing interactive</th>\n      <td>3</td>\n    </tr>\n    <tr>\n      <th>sitting remote</th>\n      <td>1</td>\n    </tr>\n    <tr>\n      <th rowspan=\"4\" valign=\"top\">2022-08-24 15:40:00</th>\n      <th>sitting individual</th>\n      <td>8</td>\n    </tr>\n    <tr>\n      <th>standing interactive</th>\n      <td>3</td>\n    </tr>\n    <tr>\n      <th>sitting interactive</th>\n      <td>1</td>\n    </tr>\n    <tr>\n      <th>sitting remote</th>\n      <td>1</td>\n    </tr>\n    <tr>\n      <th rowspan=\"4\" valign=\"top\">2022-08-25 10:05:00</th>\n      <th>sitting remote</th>\n      <td>4</td>\n    </tr>\n    <tr>\n      <th>sitting individual</th>\n      <td>3</td>\n    </tr>\n    <tr>\n      <th>sitting interactive</th>\n      <td>2</td>\n    </tr>\n    <tr>\n      <th>standing individual</th>\n      <td>1</td>\n    </tr>\n    <tr>\n      <th rowspan=\"4\" valign=\"top\">2022-08-25 10:30:00</th>\n      <th>sitting individual</th>\n      <td>3</td>\n    </tr>\n    <tr>\n      <th>sitting remote</th>\n      <td>3</td>\n    </tr>\n    <tr>\n      <th>sitting interactive</th>\n      <td>2</td>\n    </tr>\n    <tr>\n      <th>standing interactive</th>\n      <td>1</td>\n    </tr>\n    <tr>\n      <th rowspan=\"4\" valign=\"top\">2022-08-25 10:55:00</th>\n      <th>sitting individual</th>\n      <td>4</td>\n    </tr>\n    <tr>\n      <th>sitting interactive</th>\n      <td>3</td>\n    </tr>\n    <tr>\n      <th>sitting remote</th>\n      <td>3</td>\n    </tr>\n    <tr>\n      <th>standing interactive</th>\n      <td>1</td>\n    </tr>\n    <tr>\n      <th rowspan=\"3\" valign=\"top\">2022-08-25 11:35:00</th>\n      <th>sitting individual</th>\n      <td>4</td>\n    </tr>\n    <tr>\n      <th>sitting remote</th>\n      <td>4</td>\n    </tr>\n    <tr>\n      <th>sitting interactive</th>\n      <td>1</td>\n    </tr>\n    <tr>\n      <th rowspan=\"4\" valign=\"top\">2022-08-25 11:50:00</th>\n      <th>sitting remote</th>\n      <td>3</td>\n    </tr>\n    <tr>\n      <th>sitting individual</th>\n      <td>2</td>\n    </tr>\n    <tr>\n      <th>sitting interactive</th>\n      <td>2</td>\n    </tr>\n    <tr>\n      <th>standing remote</th>\n      <td>1</td>\n    </tr>\n    <tr>\n      <th rowspan=\"2\" valign=\"top\">2022-08-25 12:10:00</th>\n      <th>sitting individual</th>\n      <td>1</td>\n    </tr>\n    <tr>\n      <th>standing remote</th>\n      <td>1</td>\n    </tr>\n    <tr>\n      <th rowspan=\"2\" valign=\"top\">2022-08-25 14:30:00</th>\n      <th>sitting individual</th>\n      <td>7</td>\n    </tr>\n    <tr>\n      <th>sitting remote</th>\n      <td>2</td>\n    </tr>\n    <tr>\n      <th rowspan=\"3\" valign=\"top\">2022-08-25 14:50:00</th>\n      <th>sitting individual</th>\n      <td>9</td>\n    </tr>\n    <tr>\n      <th>sitting remote</th>\n      <td>2</td>\n    </tr>\n    <tr>\n      <th>standing interactive</th>\n      <td>2</td>\n    </tr>\n    <tr>\n      <th rowspan=\"3\" valign=\"top\">2022-08-25 15:10:00</th>\n      <th>sitting individual</th>\n      <td>9</td>\n    </tr>\n    <tr>\n      <th>sitting remote</th>\n      <td>1</td>\n    </tr>\n    <tr>\n      <th>standing interactive</th>\n      <td>1</td>\n    </tr>\n    <tr>\n      <th rowspan=\"2\" valign=\"top\">2022-08-25 15:30:00</th>\n      <th>sitting individual</th>\n      <td>8</td>\n    </tr>\n    <tr>\n      <th>sitting remote</th>\n      <td>2</td>\n    </tr>\n    <tr>\n      <th rowspan=\"3\" valign=\"top\">2022-08-25 16:00:00</th>\n      <th>sitting individual</th>\n      <td>7</td>\n    </tr>\n    <tr>\n      <th>sitting remote</th>\n      <td>2</td>\n    </tr>\n    <tr>\n      <th>standing individual</th>\n      <td>1</td>\n    </tr>\n  </tbody>\n</table>\n</div>"
     },
     "execution_count": 176,
     "metadata": {},
     "output_type": "execute_result"
    }
   ],
   "source": [
    "A_timeseries"
   ],
   "metadata": {
    "collapsed": false,
    "pycharm": {
     "name": "#%%\n"
    }
   }
  },
  {
   "cell_type": "code",
   "execution_count": 185,
   "outputs": [
    {
     "data": {
      "text/plain": "label    7\nName: (2022-08-24 14:00:00, standing interactive), dtype: int64"
     },
     "execution_count": 185,
     "metadata": {},
     "output_type": "execute_result"
    }
   ],
   "source": [
    "A_timeseries.loc[('2022-08-24 14:00:00', 'standing interactive')]"
   ],
   "metadata": {
    "collapsed": false,
    "pycharm": {
     "name": "#%%\n"
    }
   }
  },
  {
   "cell_type": "code",
   "execution_count": 191,
   "outputs": [
    {
     "data": {
      "text/plain": "                                          label\ntimestamp           label                      \n2022-08-24 14:00:00 standing interactive      7\n2022-08-24 14:35:00 standing interactive      3\n2022-08-24 15:40:00 standing interactive      3\n2022-08-25 10:30:00 standing interactive      1\n2022-08-25 10:55:00 standing interactive      1\n2022-08-25 14:50:00 standing interactive      2\n2022-08-25 15:10:00 standing interactive      1",
      "text/html": "<div>\n<style scoped>\n    .dataframe tbody tr th:only-of-type {\n        vertical-align: middle;\n    }\n\n    .dataframe tbody tr th {\n        vertical-align: top;\n    }\n\n    .dataframe thead th {\n        text-align: right;\n    }\n</style>\n<table border=\"1\" class=\"dataframe\">\n  <thead>\n    <tr style=\"text-align: right;\">\n      <th></th>\n      <th></th>\n      <th>label</th>\n    </tr>\n    <tr>\n      <th>timestamp</th>\n      <th>label</th>\n      <th></th>\n    </tr>\n  </thead>\n  <tbody>\n    <tr>\n      <th>2022-08-24 14:00:00</th>\n      <th>standing interactive</th>\n      <td>7</td>\n    </tr>\n    <tr>\n      <th>2022-08-24 14:35:00</th>\n      <th>standing interactive</th>\n      <td>3</td>\n    </tr>\n    <tr>\n      <th>2022-08-24 15:40:00</th>\n      <th>standing interactive</th>\n      <td>3</td>\n    </tr>\n    <tr>\n      <th>2022-08-25 10:30:00</th>\n      <th>standing interactive</th>\n      <td>1</td>\n    </tr>\n    <tr>\n      <th>2022-08-25 10:55:00</th>\n      <th>standing interactive</th>\n      <td>1</td>\n    </tr>\n    <tr>\n      <th>2022-08-25 14:50:00</th>\n      <th>standing interactive</th>\n      <td>2</td>\n    </tr>\n    <tr>\n      <th>2022-08-25 15:10:00</th>\n      <th>standing interactive</th>\n      <td>1</td>\n    </tr>\n  </tbody>\n</table>\n</div>"
     },
     "execution_count": 191,
     "metadata": {},
     "output_type": "execute_result"
    }
   ],
   "source": [
    "A_timeseries.xs('standing interactive', level=1, drop_level=False)"
   ],
   "metadata": {
    "collapsed": false,
    "pycharm": {
     "name": "#%%\n"
    }
   }
  },
  {
   "cell_type": "code",
   "execution_count": 22,
   "outputs": [
    {
     "name": "stdout",
     "output_type": "stream",
     "text": [
      "<class 'pandas.core.frame.DataFrame'>\n",
      "MultiIndex: 46 entries, ('2022-08-24 14:00:00', 'standing interactive') to ('2022-08-25 16:00:00', 'standing individual')\n",
      "Data columns (total 1 columns):\n",
      " #   Column  Non-Null Count  Dtype\n",
      "---  ------  --------------  -----\n",
      " 0   label   46 non-null     int64\n",
      "dtypes: int64(1)\n",
      "memory usage: 1.4+ KB\n"
     ]
    }
   ],
   "source": [
    "A_timeseries.info()"
   ],
   "metadata": {
    "collapsed": false,
    "pycharm": {
     "name": "#%%\n"
    }
   }
  },
  {
   "cell_type": "code",
   "execution_count": 192,
   "outputs": [
    {
     "data": {
      "text/plain": "DatetimeIndex(['2022-08-24 14:00:00', '2022-08-24 14:00:00',\n               '2022-08-24 14:00:00', '2022-08-24 14:00:00',\n               '2022-08-24 14:35:00', '2022-08-24 14:35:00',\n               '2022-08-24 14:35:00', '2022-08-24 14:35:00',\n               '2022-08-24 15:40:00', '2022-08-24 15:40:00',\n               '2022-08-24 15:40:00', '2022-08-24 15:40:00',\n               '2022-08-25 10:05:00', '2022-08-25 10:05:00',\n               '2022-08-25 10:05:00', '2022-08-25 10:05:00',\n               '2022-08-25 10:30:00', '2022-08-25 10:30:00',\n               '2022-08-25 10:30:00', '2022-08-25 10:30:00',\n               '2022-08-25 10:55:00', '2022-08-25 10:55:00',\n               '2022-08-25 10:55:00', '2022-08-25 10:55:00',\n               '2022-08-25 11:35:00', '2022-08-25 11:35:00',\n               '2022-08-25 11:35:00', '2022-08-25 11:50:00',\n               '2022-08-25 11:50:00', '2022-08-25 11:50:00',\n               '2022-08-25 11:50:00', '2022-08-25 12:10:00',\n               '2022-08-25 12:10:00', '2022-08-25 14:30:00',\n               '2022-08-25 14:30:00', '2022-08-25 14:50:00',\n               '2022-08-25 14:50:00', '2022-08-25 14:50:00',\n               '2022-08-25 15:10:00', '2022-08-25 15:10:00',\n               '2022-08-25 15:10:00', '2022-08-25 15:30:00',\n               '2022-08-25 15:30:00', '2022-08-25 16:00:00',\n               '2022-08-25 16:00:00', '2022-08-25 16:00:00'],\n              dtype='datetime64[ns]', name='timestamp', freq=None)"
     },
     "execution_count": 192,
     "metadata": {},
     "output_type": "execute_result"
    }
   ],
   "source": [
    "A_timeseries.index.get_level_values(0)"
   ],
   "metadata": {
    "collapsed": false,
    "pycharm": {
     "name": "#%%\n"
    }
   }
  },
  {
   "cell_type": "code",
   "execution_count": 13,
   "outputs": [],
   "source": [
    "times = A_timeseries.index.get_level_values(0).unique()"
   ],
   "metadata": {
    "collapsed": false,
    "pycharm": {
     "name": "#%%\n"
    }
   }
  },
  {
   "cell_type": "code",
   "execution_count": 14,
   "outputs": [
    {
     "data": {
      "text/plain": "Index(['2022-08-24 14:00:00', '2022-08-24 14:35:00', '2022-08-24 15:40:00',\n       '2022-08-25 10:05:00', '2022-08-25 10:30:00', '2022-08-25 10:55:00',\n       '2022-08-25 11:35:00', '2022-08-25 11:50:00', '2022-08-25 12:10:00',\n       '2022-08-25 14:30:00', '2022-08-25 14:50:00', '2022-08-25 15:10:00',\n       '2022-08-25 15:30:00', '2022-08-25 16:00:00'],\n      dtype='object', name='timestamp')"
     },
     "execution_count": 14,
     "metadata": {},
     "output_type": "execute_result"
    }
   ],
   "source": [
    "times"
   ],
   "metadata": {
    "collapsed": false,
    "pycharm": {
     "name": "#%%\n"
    }
   }
  },
  {
   "cell_type": "code",
   "execution_count": 42,
   "outputs": [],
   "source": [
    "sta_inter = A_timeseries.xs('standing interactive', level=1)"
   ],
   "metadata": {
    "collapsed": false,
    "pycharm": {
     "name": "#%%\n"
    }
   }
  },
  {
   "cell_type": "code",
   "execution_count": 43,
   "outputs": [],
   "source": [
    "sta_inter = sta_inter.reindex(times, fill_value=0)"
   ],
   "metadata": {
    "collapsed": false,
    "pycharm": {
     "name": "#%%\n"
    }
   }
  },
  {
   "cell_type": "code",
   "execution_count": 36,
   "outputs": [],
   "source": [
    "sit_r = A_timeseries.xs('sitting remote', level=1)"
   ],
   "metadata": {
    "collapsed": false,
    "pycharm": {
     "name": "#%%\n"
    }
   }
  },
  {
   "cell_type": "code",
   "execution_count": 37,
   "outputs": [],
   "source": [
    "sit_r = sit_r.reindex(times, fill_value=0)"
   ],
   "metadata": {
    "collapsed": false,
    "pycharm": {
     "name": "#%%\n"
    }
   }
  },
  {
   "cell_type": "code",
   "execution_count": 39,
   "outputs": [],
   "source": [
    "sit_i = A_timeseries.xs('sitting individual', level=1)"
   ],
   "metadata": {
    "collapsed": false,
    "pycharm": {
     "name": "#%%\n"
    }
   }
  },
  {
   "cell_type": "code",
   "execution_count": 45,
   "outputs": [],
   "source": [
    "sit_inter = A_timeseries.xs('sitting interactive', level=1)"
   ],
   "metadata": {
    "collapsed": false,
    "pycharm": {
     "name": "#%%\n"
    }
   }
  },
  {
   "cell_type": "code",
   "execution_count": 47,
   "outputs": [],
   "source": [
    "sit_inter = sit_inter.reindex(times, fill_value=0)"
   ],
   "metadata": {
    "collapsed": false,
    "pycharm": {
     "name": "#%%\n"
    }
   }
  },
  {
   "cell_type": "code",
   "execution_count": 50,
   "outputs": [],
   "source": [
    "sta_i = A_timeseries.xs('standing individual', level=1)"
   ],
   "metadata": {
    "collapsed": false,
    "pycharm": {
     "name": "#%%\n"
    }
   }
  },
  {
   "cell_type": "code",
   "execution_count": 52,
   "outputs": [],
   "source": [
    "sta_i = sta_i.reindex(times, fill_value=0)"
   ],
   "metadata": {
    "collapsed": false,
    "pycharm": {
     "name": "#%%\n"
    }
   }
  },
  {
   "cell_type": "code",
   "execution_count": 54,
   "outputs": [],
   "source": [
    "sta_r = A_timeseries.xs('standing remote', level=1)"
   ],
   "metadata": {
    "collapsed": false,
    "pycharm": {
     "name": "#%%\n"
    }
   }
  },
  {
   "cell_type": "code",
   "execution_count": 56,
   "outputs": [],
   "source": [
    "sta_r = sta_r.reindex(times, fill_value=0)"
   ],
   "metadata": {
    "collapsed": false,
    "pycharm": {
     "name": "#%%\n"
    }
   }
  },
  {
   "cell_type": "code",
   "execution_count": 55,
   "outputs": [
    {
     "data": {
      "text/plain": "                     label\ntimestamp                 \n2022-08-25 11:50:00      1\n2022-08-25 12:10:00      1",
      "text/html": "<div>\n<style scoped>\n    .dataframe tbody tr th:only-of-type {\n        vertical-align: middle;\n    }\n\n    .dataframe tbody tr th {\n        vertical-align: top;\n    }\n\n    .dataframe thead th {\n        text-align: right;\n    }\n</style>\n<table border=\"1\" class=\"dataframe\">\n  <thead>\n    <tr style=\"text-align: right;\">\n      <th></th>\n      <th>label</th>\n    </tr>\n    <tr>\n      <th>timestamp</th>\n      <th></th>\n    </tr>\n  </thead>\n  <tbody>\n    <tr>\n      <th>2022-08-25 11:50:00</th>\n      <td>1</td>\n    </tr>\n    <tr>\n      <th>2022-08-25 12:10:00</th>\n      <td>1</td>\n    </tr>\n  </tbody>\n</table>\n</div>"
     },
     "execution_count": 55,
     "metadata": {},
     "output_type": "execute_result"
    }
   ],
   "source": [
    "sta_r"
   ],
   "metadata": {
    "collapsed": false,
    "pycharm": {
     "name": "#%%\n"
    }
   }
  },
  {
   "cell_type": "code",
   "execution_count": 75,
   "outputs": [
    {
     "data": {
      "text/plain": "<Figure size 640x480 with 1 Axes>",
      "image/png": "[encoded data removed]"
     },
     "metadata": {},
     "output_type": "display_data"
    }
   ],
   "source": [
    "fig, ax = plt.subplots()\n",
    "ax.grid(True)\n",
    "plt.xticks(rotation=32, ha='right')\n",
    "ax.set_title('Room A - Open Space Area')\n",
    "ax.set_ylabel('Num. of occupants')\n",
    "sta_inter_g = plt.plot(sta_inter.index, sta_inter, c='darkturquoise', label='Standing interactive')\n",
    "sit_r_g = plt.plot(sit_r.index, sit_r, c='gold', label='Sitting remote')\n",
    "sta_r_g = plt.plot(sta_r.index, sta_r, c='blue', label='Standing remote')\n",
    "sit_i_g = plt.plot(sit_i.index, sit_i, c='crimson', label='Sitting individual')\n",
    "sta_i_g = plt.plot(sta_i.index, sta_i, c='limegreen', label='Standing individual')\n",
    "sit_inter_g = plt.plot(sit_inter.index, sit_inter, c='darkorange', label='Sitting interactive')\n",
    "#ax.legend([sit_i_g, sit_inter_g, sit_r_g, sta_i_g, sta_inter_g,  sta_r_g], ['Sitting individual', 'Sitting interactive', 'Sitting remote', 'Standing individual', 'Standing interactive', 'Standing remote'])\n",
    "handles, labels = ax.get_legend_handles_labels()\n",
    "ax.legend(handles, labels, title='Observed activities', loc='center left', bbox_to_anchor=(1, 0.5))\n",
    "#plt.legend(handles=[sit_i_g, sit_inter_g, sit_r_g, sta_i_g, sta_inter_g,  sta_r_g])\n",
    "plt.savefig(\"roomA_timeseries.png\",\n",
    "            dpi=300,\n",
    "            bbox_inches =\"tight\",\n",
    "            pad_inches = .2,\n",
    "            transparent = True,\n",
    "            orientation ='landscape')"
   ],
   "metadata": {
    "collapsed": false,
    "pycharm": {
     "name": "#%%\n"
    }
   }
  },
  {
   "cell_type": "code",
   "execution_count": null,
   "outputs": [],
   "source": [],
   "metadata": {
    "collapsed": false,
    "pycharm": {
     "name": "#%%\n"
    }
   }
  }
 ],
 "metadata": {
  "kernelspec": {
   "display_name": "Python 3",
   "language": "python",
   "name": "python3"
  },
  "language_info": {
   "codemirror_mode": {
    "name": "ipython",
    "version": 2
   },
   "file_extension": ".py",
   "mimetype": "text/x-python",
   "name": "python",
   "nbconvert_exporter": "python",
   "pygments_lexer": "ipython2",
   "version": "2.7.6"
  }
 },
 "nbformat": 4,
 "nbformat_minor": 0
}